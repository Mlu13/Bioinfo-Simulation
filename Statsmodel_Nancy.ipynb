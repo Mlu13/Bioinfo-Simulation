{
 "cells": [
  {
   "cell_type": "code",
   "execution_count": 1,
   "metadata": {},
   "outputs": [],
   "source": [
    "import pandas as pd\n",
    "import numpy as np\n",
    "import statsmodels.api as sm\n",
    "import statsmodels.formula.api as smf\n",
    "#https://www.statsmodels.org/stable/index.html"
   ]
  },
  {
   "cell_type": "code",
   "execution_count": 2,
   "metadata": {},
   "outputs": [],
   "source": [
    "df = pd.read_csv(\"latimes-county-totals.csv\")"
   ]
  },
  {
   "cell_type": "code",
   "execution_count": 3,
   "metadata": {},
   "outputs": [],
   "source": [
    "df_la = df[df['county'] == 'Los Angeles']"
   ]
  },
  {
   "cell_type": "code",
   "execution_count": 4,
   "metadata": {},
   "outputs": [],
   "source": [
    "df_la = df_la.drop(labels=['date','county','fips'], axis=1)"
   ]
  },
  {
   "cell_type": "code",
   "execution_count": 5,
   "metadata": {},
   "outputs": [],
   "source": [
    "df_la = df_la.fillna(0)"
   ]
  },
  {
   "cell_type": "code",
   "execution_count": 6,
   "metadata": {},
   "outputs": [],
   "source": [
    "days = list(range(1,len(df_la)+1))\n",
    "df_la['culm_day'] = days"
   ]
  },
  {
   "cell_type": "code",
   "execution_count": 7,
   "metadata": {},
   "outputs": [
    {
     "data": {
      "text/html": [
       "<div>\n",
       "<style scoped>\n",
       "    .dataframe tbody tr th:only-of-type {\n",
       "        vertical-align: middle;\n",
       "    }\n",
       "\n",
       "    .dataframe tbody tr th {\n",
       "        vertical-align: top;\n",
       "    }\n",
       "\n",
       "    .dataframe thead th {\n",
       "        text-align: right;\n",
       "    }\n",
       "</style>\n",
       "<table border=\"1\" class=\"dataframe\">\n",
       "  <thead>\n",
       "    <tr style=\"text-align: right;\">\n",
       "      <th></th>\n",
       "      <th>confirmed_cases</th>\n",
       "      <th>deaths</th>\n",
       "      <th>new_confirmed_cases</th>\n",
       "      <th>new_deaths</th>\n",
       "      <th>culm_day</th>\n",
       "    </tr>\n",
       "  </thead>\n",
       "  <tbody>\n",
       "    <tr>\n",
       "      <td>657</td>\n",
       "      <td>1</td>\n",
       "      <td>0</td>\n",
       "      <td>0.0</td>\n",
       "      <td>0.0</td>\n",
       "      <td>1</td>\n",
       "    </tr>\n",
       "    <tr>\n",
       "      <td>658</td>\n",
       "      <td>1</td>\n",
       "      <td>0</td>\n",
       "      <td>0.0</td>\n",
       "      <td>0.0</td>\n",
       "      <td>2</td>\n",
       "    </tr>\n",
       "    <tr>\n",
       "      <td>659</td>\n",
       "      <td>1</td>\n",
       "      <td>0</td>\n",
       "      <td>0.0</td>\n",
       "      <td>0.0</td>\n",
       "      <td>3</td>\n",
       "    </tr>\n",
       "    <tr>\n",
       "      <td>660</td>\n",
       "      <td>1</td>\n",
       "      <td>0</td>\n",
       "      <td>0.0</td>\n",
       "      <td>0.0</td>\n",
       "      <td>4</td>\n",
       "    </tr>\n",
       "    <tr>\n",
       "      <td>661</td>\n",
       "      <td>1</td>\n",
       "      <td>0</td>\n",
       "      <td>0.0</td>\n",
       "      <td>0.0</td>\n",
       "      <td>5</td>\n",
       "    </tr>\n",
       "  </tbody>\n",
       "</table>\n",
       "</div>"
      ],
      "text/plain": [
       "     confirmed_cases  deaths  new_confirmed_cases  new_deaths  culm_day\n",
       "657                1       0                  0.0         0.0         1\n",
       "658                1       0                  0.0         0.0         2\n",
       "659                1       0                  0.0         0.0         3\n",
       "660                1       0                  0.0         0.0         4\n",
       "661                1       0                  0.0         0.0         5"
      ]
     },
     "execution_count": 7,
     "metadata": {},
     "output_type": "execute_result"
    }
   ],
   "source": [
    "df_la.head()"
   ]
  },
  {
   "cell_type": "code",
   "execution_count": 8,
   "metadata": {},
   "outputs": [
    {
     "name": "stdout",
     "output_type": "stream",
     "text": [
      "                            OLS Regression Results                            \n",
      "==============================================================================\n",
      "Dep. Variable:                 deaths   R-squared:                       0.956\n",
      "Model:                            OLS   Adj. R-squared:                  0.954\n",
      "Method:                 Least Squares   F-statistic:                     453.4\n",
      "Date:                Sun, 03 May 2020   Prob (F-statistic):           1.64e-55\n",
      "Time:                        15:03:40   Log-Likelihood:                -441.67\n",
      "No. Observations:                  88   AIC:                             893.3\n",
      "Df Residuals:                      83   BIC:                             905.7\n",
      "Df Model:                           4                                         \n",
      "Covariance Type:            nonrobust                                         \n",
      "=======================================================================================\n",
      "                          coef    std err          t      P>|t|      [0.025      0.975]\n",
      "---------------------------------------------------------------------------------------\n",
      "Intercept              18.5885      9.588      1.939      0.056      -0.481      37.658\n",
      "new_deaths              0.6924      0.678      1.022      0.310      -0.655       2.040\n",
      "culm_day               -0.9180      0.259     -3.548      0.001      -1.433      -0.403\n",
      "confirmed_cases         0.0444      0.003     13.354      0.000       0.038       0.051\n",
      "new_confirmed_cases    -0.0385      0.028     -1.381      0.171      -0.094       0.017\n",
      "==============================================================================\n",
      "Omnibus:                        5.129   Durbin-Watson:                   0.061\n",
      "Prob(Omnibus):                  0.077   Jarque-Bera (JB):                7.131\n",
      "Skew:                          -0.087   Prob(JB):                       0.0283\n",
      "Kurtosis:                       4.384   Cond. No.                     1.18e+04\n",
      "==============================================================================\n",
      "\n",
      "Warnings:\n",
      "[1] Standard Errors assume that the covariance matrix of the errors is correctly specified.\n",
      "[2] The condition number is large, 1.18e+04. This might indicate that there are\n",
      "strong multicollinearity or other numerical problems.\n"
     ]
    }
   ],
   "source": [
    "result1 = smf.ols('deaths ~ new_deaths + culm_day + confirmed_cases + new_confirmed_cases', data=df_la).fit()\n",
    "print(result1.summary())"
   ]
  },
  {
   "cell_type": "code",
   "execution_count": 9,
   "metadata": {},
   "outputs": [
    {
     "name": "stdout",
     "output_type": "stream",
     "text": [
      "                            OLS Regression Results                            \n",
      "==============================================================================\n",
      "Dep. Variable:                 deaths   R-squared:                       0.955\n",
      "Model:                            OLS   Adj. R-squared:                  0.954\n",
      "Method:                 Least Squares   F-statistic:                     597.5\n",
      "Date:                Sun, 03 May 2020   Prob (F-statistic):           1.58e-56\n",
      "Time:                        15:03:40   Log-Likelihood:                -442.67\n",
      "No. Observations:                  88   AIC:                             893.3\n",
      "Df Residuals:                      84   BIC:                             903.2\n",
      "Df Model:                           3                                         \n",
      "Covariance Type:            nonrobust                                         \n",
      "===================================================================================\n",
      "                      coef    std err          t      P>|t|      [0.025      0.975]\n",
      "-----------------------------------------------------------------------------------\n",
      "Intercept          20.1119      9.575      2.100      0.039       1.070      39.154\n",
      "new_deaths          0.8648      0.670      1.291      0.200      -0.467       2.196\n",
      "culm_day           -1.0001      0.253     -3.950      0.000      -1.504      -0.497\n",
      "confirmed_cases     0.0417      0.003     15.246      0.000       0.036       0.047\n",
      "==============================================================================\n",
      "Omnibus:                        5.861   Durbin-Watson:                   0.085\n",
      "Prob(Omnibus):                  0.053   Jarque-Bera (JB):                9.104\n",
      "Skew:                          -0.076   Prob(JB):                       0.0105\n",
      "Kurtosis:                       4.568   Cond. No.                     1.17e+04\n",
      "==============================================================================\n",
      "\n",
      "Warnings:\n",
      "[1] Standard Errors assume that the covariance matrix of the errors is correctly specified.\n",
      "[2] The condition number is large, 1.17e+04. This might indicate that there are\n",
      "strong multicollinearity or other numerical problems.\n"
     ]
    }
   ],
   "source": [
    "result2 = smf.ols('deaths ~ new_deaths + culm_day + confirmed_cases', data=df_la).fit()\n",
    "print(result2.summary())"
   ]
  },
  {
   "cell_type": "code",
   "execution_count": 10,
   "metadata": {},
   "outputs": [
    {
     "name": "stdout",
     "output_type": "stream",
     "text": [
      "                            OLS Regression Results                            \n",
      "==============================================================================\n",
      "Dep. Variable:                 deaths   R-squared:                       0.831\n",
      "Model:                            OLS   Adj. R-squared:                  0.827\n",
      "Method:                 Least Squares   F-statistic:                     209.5\n",
      "Date:                Sun, 03 May 2020   Prob (F-statistic):           1.40e-33\n",
      "Time:                        15:03:40   Log-Likelihood:                -501.03\n",
      "No. Observations:                  88   AIC:                             1008.\n",
      "Df Residuals:                      85   BIC:                             1015.\n",
      "Df Model:                           2                                         \n",
      "Covariance Type:            nonrobust                                         \n",
      "==============================================================================\n",
      "                 coef    std err          t      P>|t|      [0.025      0.975]\n",
      "------------------------------------------------------------------------------\n",
      "Intercept    -22.6903     17.663     -1.285      0.202     -57.810      12.429\n",
      "new_deaths     9.3735      0.714     13.131      0.000       7.954      10.793\n",
      "culm_day       0.6888      0.439      1.568      0.121      -0.185       1.562\n",
      "==============================================================================\n",
      "Omnibus:                       91.449   Durbin-Watson:                   1.031\n",
      "Prob(Omnibus):                  0.000   Jarque-Bera (JB):             1146.695\n",
      "Skew:                           3.229   Prob(JB):                    9.96e-250\n",
      "Kurtosis:                      19.463   Cond. No.                         120.\n",
      "==============================================================================\n",
      "\n",
      "Warnings:\n",
      "[1] Standard Errors assume that the covariance matrix of the errors is correctly specified.\n"
     ]
    }
   ],
   "source": [
    "final_result = smf.ols('deaths ~ new_deaths + culm_day', data=df_la).fit()\n",
    "print(final_result.summary())"
   ]
  },
  {
   "cell_type": "code",
   "execution_count": null,
   "metadata": {},
   "outputs": [],
   "source": []
  }
 ],
 "metadata": {
  "kernelspec": {
   "display_name": "Python 3",
   "language": "python",
   "name": "python3"
  },
  "language_info": {
   "codemirror_mode": {
    "name": "ipython",
    "version": 3
   },
   "file_extension": ".py",
   "mimetype": "text/x-python",
   "name": "python",
   "nbconvert_exporter": "python",
   "pygments_lexer": "ipython3",
   "version": "3.7.4"
  }
 },
 "nbformat": 4,
 "nbformat_minor": 2
}

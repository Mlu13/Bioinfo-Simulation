{
 "cells": [
  {
   "cell_type": "code",
   "execution_count": 1,
   "metadata": {},
   "outputs": [],
   "source": [
    "import pandas as pd\n",
    "import numpy as np\n",
    "import statsmodels.api as sm\n",
    "import statsmodels.formula.api as smf\n",
    "#https://www.statsmodels.org/stable/index.html"
   ]
  },
  {
   "cell_type": "code",
   "execution_count": 2,
   "metadata": {},
   "outputs": [],
   "source": [
    "df = pd.read_csv(\"latimes-county-totals.csv\")"
   ]
  },
  {
   "cell_type": "code",
   "execution_count": 3,
   "metadata": {},
   "outputs": [],
   "source": [
    "df_la = df[df['county'] == 'Los Angeles']"
   ]
  },
  {
   "cell_type": "code",
   "execution_count": 4,
   "metadata": {},
   "outputs": [],
   "source": [
    "df_la = df_la.drop(labels=['date','county','fips'], axis=1)"
   ]
  },
  {
   "cell_type": "code",
   "execution_count": 5,
   "metadata": {},
   "outputs": [],
   "source": [
    "df_la = df_la.fillna(0)"
   ]
  },
  {
   "cell_type": "code",
   "execution_count": 6,
   "metadata": {},
   "outputs": [],
   "source": [
    "days = list(range(1,len(df_la)+1))\n",
    "df_la['culm_day'] = days"
   ]
  },
  {
   "cell_type": "code",
   "execution_count": 7,
   "metadata": {},
   "outputs": [
    {
     "data": {
      "text/html": [
       "<div>\n",
       "<style scoped>\n",
       "    .dataframe tbody tr th:only-of-type {\n",
       "        vertical-align: middle;\n",
       "    }\n",
       "\n",
       "    .dataframe tbody tr th {\n",
       "        vertical-align: top;\n",
       "    }\n",
       "\n",
       "    .dataframe thead th {\n",
       "        text-align: right;\n",
       "    }\n",
       "</style>\n",
       "<table border=\"1\" class=\"dataframe\">\n",
       "  <thead>\n",
       "    <tr style=\"text-align: right;\">\n",
       "      <th></th>\n",
       "      <th>confirmed_cases</th>\n",
       "      <th>deaths</th>\n",
       "      <th>new_confirmed_cases</th>\n",
       "      <th>new_deaths</th>\n",
       "      <th>culm_day</th>\n",
       "    </tr>\n",
       "  </thead>\n",
       "  <tbody>\n",
       "    <tr>\n",
       "      <td>657</td>\n",
       "      <td>1</td>\n",
       "      <td>0</td>\n",
       "      <td>0.0</td>\n",
       "      <td>0.0</td>\n",
       "      <td>1</td>\n",
       "    </tr>\n",
       "    <tr>\n",
       "      <td>658</td>\n",
       "      <td>1</td>\n",
       "      <td>0</td>\n",
       "      <td>0.0</td>\n",
       "      <td>0.0</td>\n",
       "      <td>2</td>\n",
       "    </tr>\n",
       "    <tr>\n",
       "      <td>659</td>\n",
       "      <td>1</td>\n",
       "      <td>0</td>\n",
       "      <td>0.0</td>\n",
       "      <td>0.0</td>\n",
       "      <td>3</td>\n",
       "    </tr>\n",
       "    <tr>\n",
       "      <td>660</td>\n",
       "      <td>1</td>\n",
       "      <td>0</td>\n",
       "      <td>0.0</td>\n",
       "      <td>0.0</td>\n",
       "      <td>4</td>\n",
       "    </tr>\n",
       "    <tr>\n",
       "      <td>661</td>\n",
       "      <td>1</td>\n",
       "      <td>0</td>\n",
       "      <td>0.0</td>\n",
       "      <td>0.0</td>\n",
       "      <td>5</td>\n",
       "    </tr>\n",
       "  </tbody>\n",
       "</table>\n",
       "</div>"
      ],
      "text/plain": [
       "     confirmed_cases  deaths  new_confirmed_cases  new_deaths  culm_day\n",
       "657                1       0                  0.0         0.0         1\n",
       "658                1       0                  0.0         0.0         2\n",
       "659                1       0                  0.0         0.0         3\n",
       "660                1       0                  0.0         0.0         4\n",
       "661                1       0                  0.0         0.0         5"
      ]
     },
     "execution_count": 7,
     "metadata": {},
     "output_type": "execute_result"
    }
   ],
   "source": [
    "df_la.head()"
   ]
  },
  {
   "cell_type": "code",
   "execution_count": 19,
   "metadata": {},
   "outputs": [
    {
     "name": "stdout",
     "output_type": "stream",
     "text": [
      "                            OLS Regression Results                            \n",
      "==============================================================================\n",
      "Dep. Variable:                 deaths   R-squared:                       0.871\n",
      "Model:                            OLS   Adj. R-squared:                  0.865\n",
      "Method:                 Least Squares   F-statistic:                     140.5\n",
      "Date:                Tue, 05 May 2020   Prob (F-statistic):           4.15e-36\n",
      "Time:                        10:33:27   Log-Likelihood:                -489.14\n",
      "No. Observations:                  88   AIC:                             988.3\n",
      "Df Residuals:                      83   BIC:                             1001.\n",
      "Df Model:                           4                                         \n",
      "Covariance Type:            nonrobust                                         \n",
      "===========================================================================================\n",
      "                              coef    std err          t      P>|t|      [0.025      0.975]\n",
      "-------------------------------------------------------------------------------------------\n",
      "Intercept                 -35.3227     20.848     -1.694      0.094     -76.789       6.143\n",
      "new_deaths                  7.7797      0.732     10.630      0.000       6.324       9.235\n",
      "culm_day                    1.7197      0.891      1.929      0.057      -0.053       3.493\n",
      "np.log(confirmed_cases)   -14.9681      6.182     -2.421      0.018     -27.264      -2.672\n",
      "new_confirmed_cases         0.2012      0.041      4.949      0.000       0.120       0.282\n",
      "==============================================================================\n",
      "Omnibus:                       79.221   Durbin-Watson:                   1.275\n",
      "Prob(Omnibus):                  0.000   Jarque-Bera (JB):             1028.849\n",
      "Skew:                           2.560   Prob(JB):                    3.88e-224\n",
      "Kurtosis:                      18.949   Cond. No.                     1.12e+03\n",
      "==============================================================================\n",
      "\n",
      "Warnings:\n",
      "[1] Standard Errors assume that the covariance matrix of the errors is correctly specified.\n",
      "[2] The condition number is large, 1.12e+03. This might indicate that there are\n",
      "strong multicollinearity or other numerical problems.\n"
     ]
    }
   ],
   "source": [
    "result1 = smf.ols('deaths ~ new_deaths + culm_day + np.log(confirmed_cases) + new_confirmed_cases', data=df_la).fit()\n",
    "print(result1.summary())"
   ]
  },
  {
   "cell_type": "code",
   "execution_count": 18,
   "metadata": {},
   "outputs": [
    {
     "name": "stdout",
     "output_type": "stream",
     "text": [
      "                            OLS Regression Results                            \n",
      "==============================================================================\n",
      "Dep. Variable:                 deaths   R-squared:                       0.955\n",
      "Model:                            OLS   Adj. R-squared:                  0.954\n",
      "Method:                 Least Squares   F-statistic:                     597.5\n",
      "Date:                Tue, 05 May 2020   Prob (F-statistic):           1.58e-56\n",
      "Time:                        10:30:41   Log-Likelihood:                -442.67\n",
      "No. Observations:                  88   AIC:                             893.3\n",
      "Df Residuals:                      84   BIC:                             903.2\n",
      "Df Model:                           3                                         \n",
      "Covariance Type:            nonrobust                                         \n",
      "===================================================================================\n",
      "                      coef    std err          t      P>|t|      [0.025      0.975]\n",
      "-----------------------------------------------------------------------------------\n",
      "Intercept          20.1119      9.575      2.100      0.039       1.070      39.154\n",
      "new_deaths          0.8648      0.670      1.291      0.200      -0.467       2.196\n",
      "culm_day           -1.0001      0.253     -3.950      0.000      -1.504      -0.497\n",
      "confirmed_cases     0.0417      0.003     15.246      0.000       0.036       0.047\n",
      "==============================================================================\n",
      "Omnibus:                        5.861   Durbin-Watson:                   0.085\n",
      "Prob(Omnibus):                  0.053   Jarque-Bera (JB):                9.104\n",
      "Skew:                          -0.076   Prob(JB):                       0.0105\n",
      "Kurtosis:                       4.568   Cond. No.                     1.17e+04\n",
      "==============================================================================\n",
      "\n",
      "Warnings:\n",
      "[1] Standard Errors assume that the covariance matrix of the errors is correctly specified.\n",
      "[2] The condition number is large, 1.17e+04. This might indicate that there are\n",
      "strong multicollinearity or other numerical problems.\n"
     ]
    }
   ],
   "source": [
    "result2 = smf.ols('deaths ~ new_deaths + culm_day + confirmed_cases', data=df_la).fit()\n",
    "print(result2.summary())"
   ]
  },
  {
   "cell_type": "code",
   "execution_count": 10,
   "metadata": {},
   "outputs": [
    {
     "name": "stdout",
     "output_type": "stream",
     "text": [
      "                            OLS Regression Results                            \n",
      "==============================================================================\n",
      "Dep. Variable:                 deaths   R-squared:                       0.831\n",
      "Model:                            OLS   Adj. R-squared:                  0.827\n",
      "Method:                 Least Squares   F-statistic:                     209.5\n",
      "Date:                Tue, 05 May 2020   Prob (F-statistic):           1.40e-33\n",
      "Time:                        10:23:57   Log-Likelihood:                -501.03\n",
      "No. Observations:                  88   AIC:                             1008.\n",
      "Df Residuals:                      85   BIC:                             1015.\n",
      "Df Model:                           2                                         \n",
      "Covariance Type:            nonrobust                                         \n",
      "==============================================================================\n",
      "                 coef    std err          t      P>|t|      [0.025      0.975]\n",
      "------------------------------------------------------------------------------\n",
      "Intercept    -22.6903     17.663     -1.285      0.202     -57.810      12.429\n",
      "new_deaths     9.3735      0.714     13.131      0.000       7.954      10.793\n",
      "culm_day       0.6888      0.439      1.568      0.121      -0.185       1.562\n",
      "==============================================================================\n",
      "Omnibus:                       91.449   Durbin-Watson:                   1.031\n",
      "Prob(Omnibus):                  0.000   Jarque-Bera (JB):             1146.695\n",
      "Skew:                           3.229   Prob(JB):                    9.96e-250\n",
      "Kurtosis:                      19.463   Cond. No.                         120.\n",
      "==============================================================================\n",
      "\n",
      "Warnings:\n",
      "[1] Standard Errors assume that the covariance matrix of the errors is correctly specified.\n"
     ]
    }
   ],
   "source": [
    "final_result = smf.ols('deaths ~ new_deaths + culm_day', data=df_la).fit()\n",
    "print(final_result.summary())"
   ]
  },
  {
   "cell_type": "code",
   "execution_count": 21,
   "metadata": {},
   "outputs": [
    {
     "data": {
      "text/html": [
       "<div>\n",
       "<style scoped>\n",
       "    .dataframe tbody tr th:only-of-type {\n",
       "        vertical-align: middle;\n",
       "    }\n",
       "\n",
       "    .dataframe tbody tr th {\n",
       "        vertical-align: top;\n",
       "    }\n",
       "\n",
       "    .dataframe thead th {\n",
       "        text-align: right;\n",
       "    }\n",
       "</style>\n",
       "<table border=\"1\" class=\"dataframe\">\n",
       "  <thead>\n",
       "    <tr style=\"text-align: right;\">\n",
       "      <th></th>\n",
       "      <th>confirmed_cases</th>\n",
       "      <th>deaths</th>\n",
       "      <th>new_confirmed_cases</th>\n",
       "      <th>new_deaths</th>\n",
       "      <th>culm_day</th>\n",
       "    </tr>\n",
       "  </thead>\n",
       "  <tbody>\n",
       "    <tr>\n",
       "      <td>657</td>\n",
       "      <td>1</td>\n",
       "      <td>0</td>\n",
       "      <td>0.0</td>\n",
       "      <td>0.0</td>\n",
       "      <td>1</td>\n",
       "    </tr>\n",
       "    <tr>\n",
       "      <td>658</td>\n",
       "      <td>1</td>\n",
       "      <td>0</td>\n",
       "      <td>0.0</td>\n",
       "      <td>0.0</td>\n",
       "      <td>2</td>\n",
       "    </tr>\n",
       "    <tr>\n",
       "      <td>659</td>\n",
       "      <td>1</td>\n",
       "      <td>0</td>\n",
       "      <td>0.0</td>\n",
       "      <td>0.0</td>\n",
       "      <td>3</td>\n",
       "    </tr>\n",
       "    <tr>\n",
       "      <td>660</td>\n",
       "      <td>1</td>\n",
       "      <td>0</td>\n",
       "      <td>0.0</td>\n",
       "      <td>0.0</td>\n",
       "      <td>4</td>\n",
       "    </tr>\n",
       "    <tr>\n",
       "      <td>661</td>\n",
       "      <td>1</td>\n",
       "      <td>0</td>\n",
       "      <td>0.0</td>\n",
       "      <td>0.0</td>\n",
       "      <td>5</td>\n",
       "    </tr>\n",
       "  </tbody>\n",
       "</table>\n",
       "</div>"
      ],
      "text/plain": [
       "     confirmed_cases  deaths  new_confirmed_cases  new_deaths  culm_day\n",
       "657                1       0                  0.0         0.0         1\n",
       "658                1       0                  0.0         0.0         2\n",
       "659                1       0                  0.0         0.0         3\n",
       "660                1       0                  0.0         0.0         4\n",
       "661                1       0                  0.0         0.0         5"
      ]
     },
     "execution_count": 21,
     "metadata": {},
     "output_type": "execute_result"
    }
   ],
   "source": [
    "df_la.head()"
   ]
  },
  {
   "cell_type": "code",
   "execution_count": 14,
   "metadata": {},
   "outputs": [
    {
     "ename": "SyntaxError",
     "evalue": "invalid syntax (<ipython-input-14-6b1502b17ef3>, line 1)",
     "output_type": "error",
     "traceback": [
      "\u001b[0;36m  File \u001b[0;32m\"<ipython-input-14-6b1502b17ef3>\"\u001b[0;36m, line \u001b[0;32m1\u001b[0m\n\u001b[0;31m    import statsmodels.discrete.discrete_model.Logit.cdf as Logit.cdf\u001b[0m\n\u001b[0m                                                                 ^\u001b[0m\n\u001b[0;31mSyntaxError\u001b[0m\u001b[0;31m:\u001b[0m invalid syntax\n"
     ]
    }
   ],
   "source": [
    "####still working on#####\n",
    "formula = 'deaths ~ new_deaths + culm_day'\n",
    "import statsmodels.discrete.discrete_model.Logit.cdf as Logit.cdf\n",
    "mod2 = Logit.cdf(formula)\n",
    "mod2.summary()"
   ]
  },
  {
   "cell_type": "code",
   "execution_count": 31,
   "metadata": {},
   "outputs": [
    {
     "name": "stdout",
     "output_type": "stream",
     "text": [
      "                 Generalized Linear Model Regression Results                  \n",
      "==============================================================================\n",
      "Dep. Variable:                 deaths   No. Observations:                   88\n",
      "Model:                            GLM   Df Residuals:                       87\n",
      "Model Family:                Gaussian   Df Model:                            0\n",
      "Link Function:                    log   Scale:                          1518.9\n",
      "Method:                          IRLS   Log-Likelihood:                -446.70\n",
      "Date:                Tue, 05 May 2020   Deviance:                   1.3214e+05\n",
      "Time:                        11:06:48   Pearson chi2:                 1.32e+05\n",
      "No. Iterations:                     7                                         \n",
      "Covariance Type:            nonrobust                                         \n",
      "==============================================================================\n",
      "                 coef    std err          z      P>|z|      [0.025      0.975]\n",
      "------------------------------------------------------------------------------\n",
      "culm_day       0.0740      0.000    283.595      0.000       0.074       0.075\n",
      "==============================================================================\n"
     ]
    },
    {
     "name": "stderr",
     "output_type": "stream",
     "text": [
      "/Users/nancyzhu/opt/anaconda3/lib/python3.7/site-packages/ipykernel_launcher.py:5: DeprecationWarning: Calling Family(..) with a link class as argument is deprecated.\n",
      "Use an instance of a link class instead.\n",
      "  \"\"\"\n"
     ]
    }
   ],
   "source": [
    "#https://www.statsmodels.org/devel/examples/notebooks/generated/glm.html\n",
    "#GLM: Gaussian distribution with a noncanonical link\n",
    "X = df_la['culm_day']\n",
    "lny = df_la['deaths']\n",
    "gauss_log = sm.GLM(lny, X, family=sm.families.Gaussian(sm.families.links.log))\n",
    "gauss_log_results = gauss_log.fit()\n",
    "print(gauss_log_results.summary())"
   ]
  },
  {
   "cell_type": "code",
   "execution_count": 24,
   "metadata": {
    "scrolled": true
   },
   "outputs": [
    {
     "name": "stdout",
     "output_type": "stream",
     "text": [
      "                 Generalized Linear Model Regression Results                  \n",
      "==============================================================================\n",
      "Dep. Variable:                 deaths   No. Observations:                   88\n",
      "Model:                            GLM   Df Residuals:                       87\n",
      "Model Family:                Gaussian   Df Model:                            0\n",
      "Link Function:                    log   Scale:                          27299.\n",
      "Method:                          IRLS   Log-Likelihood:                -573.81\n",
      "Date:                Tue, 05 May 2020   Deviance:                   2.3750e+06\n",
      "Time:                        10:46:00   Pearson chi2:                 2.38e+06\n",
      "No. Iterations:                    10                                         \n",
      "Covariance Type:            nonrobust                                         \n",
      "==============================================================================\n",
      "                 coef    std err          z      P>|z|      [0.025      0.975]\n",
      "------------------------------------------------------------------------------\n",
      "new_deaths     0.0882      0.002     35.463      0.000       0.083       0.093\n",
      "==============================================================================\n"
     ]
    },
    {
     "name": "stderr",
     "output_type": "stream",
     "text": [
      "/Users/nancyzhu/opt/anaconda3/lib/python3.7/site-packages/ipykernel_launcher.py:3: DeprecationWarning: Calling Family(..) with a link class as argument is deprecated.\n",
      "Use an instance of a link class instead.\n",
      "  This is separate from the ipykernel package so we can avoid doing imports until\n"
     ]
    }
   ],
   "source": [
    "X = df_la['new_deaths']\n",
    "lny = df_la['deaths']\n",
    "gauss_log = sm.GLM(lny, X, family=sm.families.Gaussian(sm.families.links.log))\n",
    "gauss_log_results = gauss_log.fit()\n",
    "print(gauss_log_results.summary())"
   ]
  },
  {
   "cell_type": "code",
   "execution_count": 32,
   "metadata": {},
   "outputs": [
    {
     "name": "stdout",
     "output_type": "stream",
     "text": [
      "                 Generalized Linear Model Regression Results                  \n",
      "==============================================================================\n",
      "Dep. Variable:                 deaths   No. Observations:                   88\n",
      "Model:                            GLM   Df Residuals:                       87\n",
      "Model Family:                Gaussian   Df Model:                            0\n",
      "Link Function:                    log   Scale:                          15761.\n",
      "Method:                          IRLS   Log-Likelihood:                -549.64\n",
      "Date:                Tue, 05 May 2020   Deviance:                   1.3712e+06\n",
      "Time:                        11:24:08   Pearson chi2:                 1.37e+06\n",
      "No. Iterations:                     6                                         \n",
      "Covariance Type:            nonrobust                                         \n",
      "===================================================================================\n",
      "                      coef    std err          z      P>|z|      [0.025      0.975]\n",
      "-----------------------------------------------------------------------------------\n",
      "confirmed_cases     0.0004    6.1e-06     69.304      0.000       0.000       0.000\n",
      "===================================================================================\n"
     ]
    },
    {
     "name": "stderr",
     "output_type": "stream",
     "text": [
      "/Users/nancyzhu/opt/anaconda3/lib/python3.7/site-packages/ipykernel_launcher.py:3: DeprecationWarning: Calling Family(..) with a link class as argument is deprecated.\n",
      "Use an instance of a link class instead.\n",
      "  This is separate from the ipykernel package so we can avoid doing imports until\n"
     ]
    }
   ],
   "source": [
    "X = df_la['confirmed_cases']\n",
    "lny = df_la['deaths']\n",
    "gauss_log = sm.GLM(lny, X, family=sm.families.Gaussian(sm.families.links.log))\n",
    "gauss_log_results = gauss_log.fit()\n",
    "print(gauss_log_results.summary())"
   ]
  },
  {
   "cell_type": "code",
   "execution_count": 33,
   "metadata": {},
   "outputs": [
    {
     "name": "stdout",
     "output_type": "stream",
     "text": [
      "                 Generalized Linear Model Regression Results                  \n",
      "==============================================================================\n",
      "Dep. Variable:        confirmed_cases   No. Observations:                   88\n",
      "Model:                            GLM   Df Residuals:                       87\n",
      "Model Family:                Gaussian   Df Model:                            0\n",
      "Link Function:                    log   Scale:                      1.6421e+06\n",
      "Method:                          IRLS   Log-Likelihood:                -754.07\n",
      "Date:                Tue, 05 May 2020   Deviance:                   1.4287e+08\n",
      "Time:                        11:24:48   Pearson chi2:                 1.43e+08\n",
      "No. Iterations:                     7                                         \n",
      "Covariance Type:            nonrobust                                         \n",
      "==============================================================================\n",
      "                 coef    std err          z      P>|z|      [0.025      0.975]\n",
      "------------------------------------------------------------------------------\n",
      "culm_day       0.1124      0.000    324.743      0.000       0.112       0.113\n",
      "==============================================================================\n"
     ]
    },
    {
     "name": "stderr",
     "output_type": "stream",
     "text": [
      "/Users/nancyzhu/opt/anaconda3/lib/python3.7/site-packages/ipykernel_launcher.py:3: DeprecationWarning: Calling Family(..) with a link class as argument is deprecated.\n",
      "Use an instance of a link class instead.\n",
      "  This is separate from the ipykernel package so we can avoid doing imports until\n"
     ]
    }
   ],
   "source": [
    "#log confirmed cases\n",
    "X = df_la['culm_day']\n",
    "lny = df_la['confirmed_cases']\n",
    "gauss_log = sm.GLM(lny, X, family=sm.families.Gaussian(sm.families.links.log))\n",
    "gauss_log_results = gauss_log.fit()\n",
    "print(gauss_log_results.summary())"
   ]
  },
  {
   "cell_type": "code",
   "execution_count": 34,
   "metadata": {},
   "outputs": [
    {
     "name": "stdout",
     "output_type": "stream",
     "text": [
      "                 Generalized Linear Model Regression Results                  \n",
      "==============================================================================\n",
      "Dep. Variable:        confirmed_cases   No. Observations:                   88\n",
      "Model:                            GLM   Df Residuals:                       87\n",
      "Model Family:                Gaussian   Df Model:                            0\n",
      "Link Function:                    log   Scale:                      2.0997e+07\n",
      "Method:                          IRLS   Log-Likelihood:                -866.20\n",
      "Date:                Tue, 05 May 2020   Deviance:                   1.8268e+09\n",
      "Time:                        11:25:15   Pearson chi2:                 1.83e+09\n",
      "No. Iterations:                    13                                         \n",
      "Covariance Type:            nonrobust                                         \n",
      "==============================================================================\n",
      "                 coef    std err          z      P>|z|      [0.025      0.975]\n",
      "------------------------------------------------------------------------------\n",
      "new_deaths     0.1272      0.004     34.325      0.000       0.120       0.134\n",
      "==============================================================================\n"
     ]
    },
    {
     "name": "stderr",
     "output_type": "stream",
     "text": [
      "/Users/nancyzhu/opt/anaconda3/lib/python3.7/site-packages/ipykernel_launcher.py:3: DeprecationWarning: Calling Family(..) with a link class as argument is deprecated.\n",
      "Use an instance of a link class instead.\n",
      "  This is separate from the ipykernel package so we can avoid doing imports until\n"
     ]
    }
   ],
   "source": [
    "X = df_la['new_deaths']\n",
    "lny = df_la['confirmed_cases']\n",
    "gauss_log = sm.GLM(lny, X, family=sm.families.Gaussian(sm.families.links.log))\n",
    "gauss_log_results = gauss_log.fit()\n",
    "print(gauss_log_results.summary())"
   ]
  },
  {
   "cell_type": "code",
   "execution_count": 35,
   "metadata": {},
   "outputs": [
    {
     "name": "stdout",
     "output_type": "stream",
     "text": [
      "                 Generalized Linear Model Regression Results                  \n",
      "==============================================================================\n",
      "Dep. Variable:        confirmed_cases   No. Observations:                   88\n",
      "Model:                            GLM   Df Residuals:                       87\n",
      "Model Family:                Gaussian   Df Model:                            0\n",
      "Link Function:                    log   Scale:                      1.6212e+07\n",
      "Method:                          IRLS   Log-Likelihood:                -854.82\n",
      "Date:                Tue, 05 May 2020   Deviance:                   1.4104e+09\n",
      "Time:                        11:26:38   Pearson chi2:                 1.41e+09\n",
      "No. Iterations:                     8                                         \n",
      "Covariance Type:            nonrobust                                         \n",
      "==============================================================================\n",
      "                 coef    std err          z      P>|z|      [0.025      0.975]\n",
      "------------------------------------------------------------------------------\n",
      "deaths         0.0137      0.000     62.348      0.000       0.013       0.014\n",
      "==============================================================================\n"
     ]
    },
    {
     "name": "stderr",
     "output_type": "stream",
     "text": [
      "/Users/nancyzhu/opt/anaconda3/lib/python3.7/site-packages/ipykernel_launcher.py:3: DeprecationWarning: Calling Family(..) with a link class as argument is deprecated.\n",
      "Use an instance of a link class instead.\n",
      "  This is separate from the ipykernel package so we can avoid doing imports until\n"
     ]
    }
   ],
   "source": [
    "#without logging death\n",
    "X = df_la['deaths']\n",
    "lny = df_la['confirmed_cases']\n",
    "gauss_log = sm.GLM(lny, X, family=sm.families.Gaussian(sm.families.links.log))\n",
    "gauss_log_results = gauss_log.fit()\n",
    "print(gauss_log_results.summary())"
   ]
  },
  {
   "cell_type": "code",
   "execution_count": null,
   "metadata": {},
   "outputs": [],
   "source": []
  }
 ],
 "metadata": {
  "kernelspec": {
   "display_name": "Python 3",
   "language": "python",
   "name": "python3"
  },
  "language_info": {
   "codemirror_mode": {
    "name": "ipython",
    "version": 3
   },
   "file_extension": ".py",
   "mimetype": "text/x-python",
   "name": "python",
   "nbconvert_exporter": "python",
   "pygments_lexer": "ipython3",
   "version": "3.7.4"
  }
 },
 "nbformat": 4,
 "nbformat_minor": 2
}

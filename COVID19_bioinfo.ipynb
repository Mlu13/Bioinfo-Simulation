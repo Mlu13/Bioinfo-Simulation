{
 "cells": [
  {
   "cell_type": "code",
   "execution_count": 1,
   "metadata": {},
   "outputs": [],
   "source": [
    "import numpy as np\n",
    "import pandas as pd \n",
    "import matplotlib as mpl\n",
    "import matplotlib.pyplot as plt\n",
    "import seaborn as sns "
   ]
  },
  {
   "cell_type": "code",
   "execution_count": 2,
   "metadata": {},
   "outputs": [
    {
     "name": "stdout",
     "output_type": "stream",
     "text": [
      "         date   county  fips  confirmed_cases  deaths  new_confirmed_cases  \\\n",
      "0  2020-01-26  Alameda     1                0       0                  NaN   \n",
      "1  2020-01-31  Alameda     1                0       0                  0.0   \n",
      "2  2020-02-02  Alameda     1                0       0                  0.0   \n",
      "3  2020-02-20  Alameda     1                0       0                  0.0   \n",
      "4  2020-02-21  Alameda     1                0       0                  0.0   \n",
      "\n",
      "   new_deaths  \n",
      "0         NaN  \n",
      "1         0.0  \n",
      "2         0.0  \n",
      "3         0.0  \n",
      "4         0.0  \n"
     ]
    },
    {
     "data": {
      "text/html": [
       "<div>\n",
       "<style scoped>\n",
       "    .dataframe tbody tr th:only-of-type {\n",
       "        vertical-align: middle;\n",
       "    }\n",
       "\n",
       "    .dataframe tbody tr th {\n",
       "        vertical-align: top;\n",
       "    }\n",
       "\n",
       "    .dataframe thead th {\n",
       "        text-align: right;\n",
       "    }\n",
       "</style>\n",
       "<table border=\"1\" class=\"dataframe\">\n",
       "  <thead>\n",
       "    <tr style=\"text-align: right;\">\n",
       "      <th></th>\n",
       "      <th>fips</th>\n",
       "      <th>confirmed_cases</th>\n",
       "      <th>deaths</th>\n",
       "      <th>new_confirmed_cases</th>\n",
       "      <th>new_deaths</th>\n",
       "    </tr>\n",
       "  </thead>\n",
       "  <tbody>\n",
       "    <tr>\n",
       "      <td>count</td>\n",
       "      <td>2485.000000</td>\n",
       "      <td>2485.000000</td>\n",
       "      <td>2485.000000</td>\n",
       "      <td>2432.000000</td>\n",
       "      <td>2432.000000</td>\n",
       "    </tr>\n",
       "    <tr>\n",
       "      <td>mean</td>\n",
       "      <td>59.756539</td>\n",
       "      <td>229.698189</td>\n",
       "      <td>6.879276</td>\n",
       "      <td>15.485197</td>\n",
       "      <td>0.591283</td>\n",
       "    </tr>\n",
       "    <tr>\n",
       "      <td>std</td>\n",
       "      <td>32.786933</td>\n",
       "      <td>974.019813</td>\n",
       "      <td>37.795395</td>\n",
       "      <td>70.478349</td>\n",
       "      <td>3.502466</td>\n",
       "    </tr>\n",
       "    <tr>\n",
       "      <td>min</td>\n",
       "      <td>1.000000</td>\n",
       "      <td>0.000000</td>\n",
       "      <td>0.000000</td>\n",
       "      <td>-2.000000</td>\n",
       "      <td>0.000000</td>\n",
       "    </tr>\n",
       "    <tr>\n",
       "      <td>25%</td>\n",
       "      <td>31.000000</td>\n",
       "      <td>2.000000</td>\n",
       "      <td>0.000000</td>\n",
       "      <td>0.000000</td>\n",
       "      <td>0.000000</td>\n",
       "    </tr>\n",
       "    <tr>\n",
       "      <td>50%</td>\n",
       "      <td>65.000000</td>\n",
       "      <td>14.000000</td>\n",
       "      <td>0.000000</td>\n",
       "      <td>1.000000</td>\n",
       "      <td>0.000000</td>\n",
       "    </tr>\n",
       "    <tr>\n",
       "      <td>75%</td>\n",
       "      <td>85.000000</td>\n",
       "      <td>101.000000</td>\n",
       "      <td>2.000000</td>\n",
       "      <td>7.000000</td>\n",
       "      <td>0.000000</td>\n",
       "    </tr>\n",
       "    <tr>\n",
       "      <td>max</td>\n",
       "      <td>115.000000</td>\n",
       "      <td>16449.000000</td>\n",
       "      <td>732.000000</td>\n",
       "      <td>1474.000000</td>\n",
       "      <td>76.000000</td>\n",
       "    </tr>\n",
       "  </tbody>\n",
       "</table>\n",
       "</div>"
      ],
      "text/plain": [
       "              fips  confirmed_cases       deaths  new_confirmed_cases  \\\n",
       "count  2485.000000      2485.000000  2485.000000          2432.000000   \n",
       "mean     59.756539       229.698189     6.879276            15.485197   \n",
       "std      32.786933       974.019813    37.795395            70.478349   \n",
       "min       1.000000         0.000000     0.000000            -2.000000   \n",
       "25%      31.000000         2.000000     0.000000             0.000000   \n",
       "50%      65.000000        14.000000     0.000000             1.000000   \n",
       "75%      85.000000       101.000000     2.000000             7.000000   \n",
       "max     115.000000     16449.000000   732.000000          1474.000000   \n",
       "\n",
       "        new_deaths  \n",
       "count  2432.000000  \n",
       "mean      0.591283  \n",
       "std       3.502466  \n",
       "min       0.000000  \n",
       "25%       0.000000  \n",
       "50%       0.000000  \n",
       "75%       0.000000  \n",
       "max      76.000000  "
      ]
     },
     "execution_count": 2,
     "metadata": {},
     "output_type": "execute_result"
    }
   ],
   "source": [
    "df = pd.read_csv(\"latimes-county-totals.csv\") \n",
    "print (df.head(5))\n",
    "df.describe()"
   ]
  },
  {
   "cell_type": "code",
   "execution_count": 3,
   "metadata": {
    "scrolled": true
   },
   "outputs": [
    {
     "name": "stdout",
     "output_type": "stream",
     "text": [
      "<class 'pandas.core.frame.DataFrame'>\n",
      "RangeIndex: 2485 entries, 0 to 2484\n",
      "Data columns (total 7 columns):\n",
      "date                   2485 non-null object\n",
      "county                 2485 non-null object\n",
      "fips                   2485 non-null int64\n",
      "confirmed_cases        2485 non-null int64\n",
      "deaths                 2485 non-null int64\n",
      "new_confirmed_cases    2432 non-null float64\n",
      "new_deaths             2432 non-null float64\n",
      "dtypes: float64(2), int64(3), object(2)\n",
      "memory usage: 136.0+ KB\n"
     ]
    }
   ],
   "source": [
    "df.info()"
   ]
  },
  {
   "cell_type": "code",
   "execution_count": null,
   "metadata": {},
   "outputs": [],
   "source": []
  },
  {
   "cell_type": "code",
   "execution_count": 4,
   "metadata": {},
   "outputs": [],
   "source": [
    "def SEIRD_model(N, E, I, r, r2, re, r2e, p, d, shelter_in_place, b, b2, y, a, days):\n",
    "    '''\n",
    "    N - Total population，N = I + S + R + E \n",
    "    S - Number of people that are Susceptibles\n",
    "    R - Number of people that are Recovered\n",
    "    E - Number of people that are Exposed\n",
    "    I - Number of people that are Infected\n",
    "    r - The number of people each infected contacts each day\n",
    "    re - New r after shelter in place\n",
    "    r2 - The number of people each asymptomatic contacts each day\n",
    "    r2e - New r2 after shelter in place takes effect\n",
    "    p - Protection rate of the masks. After shelter in place, b=b*p, b2 = b2*p\n",
    "    d - The proportion of infected who die each day to the total number of infected people\n",
    "    shelter_in_place - Days since shelter in place\n",
    "    b - Probability of transmission from infected to susceptible person\n",
    "    b2 Probability of transmission from asymptomatic to susceptible\n",
    "    y - The proportion of infected who are recovered each day to the total number of infected people\n",
    "    a - Probability of susceptible transforming to infected\n",
    "    days - Duration in days\n",
    "    '''\n",
    "    S = N - I - E\n",
    "    I_list = [I]\n",
    "    S_list = [S]\n",
    "    E_list = [E]\n",
    "    R_list = [0]\n",
    "    D_list = [0]\n",
    "    C_list = [0] # Confirmed list \n",
    "\n",
    "    for i in range(1, days):\n",
    "        if (i + 1) == shelter_in_place:\n",
    "            r, r2, b, b2 = re, r2e, b * p, b2 * p\n",
    "        E_perday = r * b * I_list[i - 1] * S_list[i - 1] / N\n",
    "        E_perday_for_E = r2 * b2 * E_list[i - 1] * S_list[i - 1] / N\n",
    "        I_perday = a * E_list[i - 1]\n",
    "        R_perday = y * I_list[i - 1]\n",
    "        D_perday = d * I_list[i - 1]\n",
    "        C_list.append(C_list[i - 1] + I_perday)\n",
    "        I_list.append(I_list[i - 1] + I_perday - R_perday - D_perday)\n",
    "        S_list.append(S_list[i - 1] - E_perday - E_perday_for_E)\n",
    "        R_list.append(R_list[i - 1] + R_perday)\n",
    "        D_list.append(D_list[i - 1] + D_perday)\n",
    "        E_list.append(E_list[i - 1] + E_perday + E_perday_for_E - I_perday)\n",
    "    return(D_list)"
   ]
  },
  {
   "cell_type": "code",
   "execution_count": 5,
   "metadata": {},
   "outputs": [],
   "source": [
    "result = SEIRD_model(10000, 0, 1, 20, 20, 5, 5, 0.8, 0.01, 10, 0.03, 0.03, 0.1, 0.1, 140)"
   ]
  },
  {
   "cell_type": "code",
   "execution_count": 6,
   "metadata": {},
   "outputs": [
    {
     "name": "stdout",
     "output_type": "stream",
     "text": [
      "[0, 0.01, 0.0189, 0.02742094, 0.036438343571123785, 0.047125397582657116, 0.06116944080034882, 0.08110669306534783, 0.11084560450732503, 0.15648930081716433, 0.2276299999789867, 0.322605829803142, 0.44026298379822176, 0.5798857148099723, 0.7411397238712237, 0.9240267243352901, 1.1288483478263835, 1.356177878221726, 1.6068385641753782, 1.8818874790206153, 2.1826040770224813, 2.510482743309253, 2.8672287566737973, 3.2547571841457295, 3.675194307353303, 4.130881246129468, 4.624379496936452, 5.158478144402265, 5.736202535118192, 6.360824225061785, 7.035872026546907, 7.765143988206818, 8.552720142757252, 9.402975852591485, 10.320595572946804, 11.310586836691332, 12.378294243903147, 13.52941321352446, 14.770003223661947, 16.10650023181056, 17.545727926731587, 19.094907420375822, 20.761664941744513, 22.554037045782152, 24.480472800426725, 26.549832365257803, 28.771381327602352, 31.154780118713738, 33.710067796399905, 36.447639454360456, 39.37821650605318, 42.51280909609111, 45.86266991921512, 49.43923878020055, 53.25407731201424, 57.31879338822544, 61.64495492256957, 66.24399294616371, 71.12709409227223, 76.3050828989732, 81.78829465856353, 87.58643989339056, 93.70846191241203, 100.16238928950979, 106.95518548879565, 114.0925982266041, 121.5790114853224, 129.41730336034416, 137.60871310804282, 146.1527208510562, 155.04694337169, 164.28704927374812, 173.86669651229676, 183.77749488135572, 194.00899552029136, 204.54870886718683, 215.3821517749118, 226.49292374180501, 237.86281142647368, 249.47191984960006, 261.29882796870186, 273.32076567561364, 285.5138087373686, 297.8530877991473, 310.31300730562555, 322.8674700792195, 335.49010331761764, 348.15448192896173, 360.8343453957518, 373.50380472838856, 386.13753651393324, 398.7109615617291, 411.2004061718606, 423.58324458340206, 435.83802167783654, 447.9445555027847, 459.8840196295521, 471.6390057557574, 483.19356730556353, 494.5332450619898, 505.64507608827273, 516.5175873602878, 527.1407756433752, 537.506075209468, 547.606315009956, 557.4356669023665, 566.9895864809699, 576.2647479888863, 585.258974697925, 593.9711660374737, 602.4012226399379, 610.5499703515961, 618.4190841377024, 626.0110126920995, 633.3289044467632, 640.3765355673379, 647.1582404181408, 653.6788448851858, 659.9436028590507, 665.958136101139, 671.7283776470678, 677.2605188393983, 682.5609600283723, 687.6362649333213, 692.4931186184666, 697.1382890043863, 701.578591809916, 705.8208587981003, 709.8719091834427, 713.7385240455725, 717.4274235860171, 720.9452470595571, 724.2985352091787, 727.4937150335071, 730.5370867174252, 733.4348125599972, 736.1929077385357, 738.8172327533797, 741.3134874044707, 743.6872061578983]\n"
     ]
    }
   ],
   "source": [
    "print(result)"
   ]
  },
  {
   "cell_type": "code",
   "execution_count": null,
   "metadata": {},
   "outputs": [],
   "source": []
  }
 ],
 "metadata": {
  "kernelspec": {
   "display_name": "Python 3",
   "language": "python",
   "name": "python3"
  },
  "language_info": {
   "codemirror_mode": {
    "name": "ipython",
    "version": 3
   },
   "file_extension": ".py",
   "mimetype": "text/x-python",
   "name": "python",
   "nbconvert_exporter": "python",
   "pygments_lexer": "ipython3",
   "version": "3.7.4"
  }
 },
 "nbformat": 4,
 "nbformat_minor": 2
}

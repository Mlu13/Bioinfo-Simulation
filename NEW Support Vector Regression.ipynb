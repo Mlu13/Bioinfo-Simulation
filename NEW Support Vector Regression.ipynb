{
 "cells": [
  {
   "cell_type": "code",
   "execution_count": 2,
   "metadata": {},
   "outputs": [],
   "source": [
    "import numpy as np\n",
    "import pandas as pd     \n",
    "import matplotlib as mpl\n",
    "import matplotlib.pyplot as plt\n",
    "import seaborn as sns    \n",
    "from pandas.api.types import CategoricalDtype\n",
    "from sklearn.preprocessing import MinMaxScaler\n",
    "from sklearn.svm import SVC\n",
    "from sklearn.metrics import confusion_matrix, accuracy_score, classification_report, roc_curve, auc\n",
    "from sklearn.model_selection import train_test_split, GridSearchCV, cross_val_score\n",
    "from sklearn.svm import SVR\n",
    "from sklearn.metrics import r2_score,mean_squared_error"
   ]
  },
  {
   "cell_type": "code",
   "execution_count": 3,
   "metadata": {},
   "outputs": [],
   "source": [
    "df = pd.read_csv(\"latimes-county-totals.csv\")"
   ]
  },
  {
   "cell_type": "code",
   "execution_count": 4,
   "metadata": {
    "scrolled": true
   },
   "outputs": [
    {
     "data": {
      "text/html": [
       "<div>\n",
       "<style scoped>\n",
       "    .dataframe tbody tr th:only-of-type {\n",
       "        vertical-align: middle;\n",
       "    }\n",
       "\n",
       "    .dataframe tbody tr th {\n",
       "        vertical-align: top;\n",
       "    }\n",
       "\n",
       "    .dataframe thead th {\n",
       "        text-align: right;\n",
       "    }\n",
       "</style>\n",
       "<table border=\"1\" class=\"dataframe\">\n",
       "  <thead>\n",
       "    <tr style=\"text-align: right;\">\n",
       "      <th></th>\n",
       "      <th>date</th>\n",
       "      <th>county</th>\n",
       "      <th>fips</th>\n",
       "      <th>confirmed_cases</th>\n",
       "      <th>deaths</th>\n",
       "      <th>new_confirmed_cases</th>\n",
       "      <th>new_deaths</th>\n",
       "    </tr>\n",
       "  </thead>\n",
       "  <tbody>\n",
       "    <tr>\n",
       "      <td>0</td>\n",
       "      <td>2020-01-26</td>\n",
       "      <td>Alameda</td>\n",
       "      <td>1</td>\n",
       "      <td>0</td>\n",
       "      <td>0</td>\n",
       "      <td>NaN</td>\n",
       "      <td>NaN</td>\n",
       "    </tr>\n",
       "    <tr>\n",
       "      <td>1</td>\n",
       "      <td>2020-01-31</td>\n",
       "      <td>Alameda</td>\n",
       "      <td>1</td>\n",
       "      <td>0</td>\n",
       "      <td>0</td>\n",
       "      <td>0.0</td>\n",
       "      <td>0.0</td>\n",
       "    </tr>\n",
       "    <tr>\n",
       "      <td>2</td>\n",
       "      <td>2020-02-02</td>\n",
       "      <td>Alameda</td>\n",
       "      <td>1</td>\n",
       "      <td>0</td>\n",
       "      <td>0</td>\n",
       "      <td>0.0</td>\n",
       "      <td>0.0</td>\n",
       "    </tr>\n",
       "    <tr>\n",
       "      <td>3</td>\n",
       "      <td>2020-02-20</td>\n",
       "      <td>Alameda</td>\n",
       "      <td>1</td>\n",
       "      <td>0</td>\n",
       "      <td>0</td>\n",
       "      <td>0.0</td>\n",
       "      <td>0.0</td>\n",
       "    </tr>\n",
       "    <tr>\n",
       "      <td>4</td>\n",
       "      <td>2020-02-21</td>\n",
       "      <td>Alameda</td>\n",
       "      <td>1</td>\n",
       "      <td>0</td>\n",
       "      <td>0</td>\n",
       "      <td>0.0</td>\n",
       "      <td>0.0</td>\n",
       "    </tr>\n",
       "  </tbody>\n",
       "</table>\n",
       "</div>"
      ],
      "text/plain": [
       "         date   county  fips  confirmed_cases  deaths  new_confirmed_cases  \\\n",
       "0  2020-01-26  Alameda     1                0       0                  NaN   \n",
       "1  2020-01-31  Alameda     1                0       0                  0.0   \n",
       "2  2020-02-02  Alameda     1                0       0                  0.0   \n",
       "3  2020-02-20  Alameda     1                0       0                  0.0   \n",
       "4  2020-02-21  Alameda     1                0       0                  0.0   \n",
       "\n",
       "   new_deaths  \n",
       "0         NaN  \n",
       "1         0.0  \n",
       "2         0.0  \n",
       "3         0.0  \n",
       "4         0.0  "
      ]
     },
     "execution_count": 4,
     "metadata": {},
     "output_type": "execute_result"
    }
   ],
   "source": [
    "df.head()"
   ]
  },
  {
   "cell_type": "code",
   "execution_count": 5,
   "metadata": {},
   "outputs": [],
   "source": [
    "# df.describe()"
   ]
  },
  {
   "cell_type": "code",
   "execution_count": 6,
   "metadata": {
    "scrolled": true
   },
   "outputs": [],
   "source": [
    "# df.info()"
   ]
  },
  {
   "cell_type": "code",
   "execution_count": 7,
   "metadata": {},
   "outputs": [],
   "source": [
    "df_la = df[df['county'] == 'Los Angeles']"
   ]
  },
  {
   "cell_type": "code",
   "execution_count": 8,
   "metadata": {},
   "outputs": [
    {
     "name": "stdout",
     "output_type": "stream",
     "text": [
      "           date       county  fips  confirmed_cases  deaths  \\\n",
      "795  2020-01-26  Los Angeles    37                1       0   \n",
      "796  2020-01-27  Los Angeles    37                1       0   \n",
      "797  2020-01-28  Los Angeles    37                1       0   \n",
      "798  2020-01-29  Los Angeles    37                1       0   \n",
      "799  2020-01-30  Los Angeles    37                1       0   \n",
      "..          ...          ...   ...              ...     ...   \n",
      "886  2020-04-26  Los Angeles    37            19567     916   \n",
      "887  2020-04-27  Los Angeles    37            20460     948   \n",
      "888  2020-04-28  Los Angeles    37            21017    1004   \n",
      "889  2020-04-29  Los Angeles    37            22522    1065   \n",
      "890  2020-04-30  Los Angeles    37            23233    1119   \n",
      "\n",
      "     new_confirmed_cases  new_deaths  \n",
      "795                  NaN         NaN  \n",
      "796                  0.0         0.0  \n",
      "797                  0.0         0.0  \n",
      "798                  0.0         0.0  \n",
      "799                  0.0         0.0  \n",
      "..                   ...         ...  \n",
      "886                408.0        20.0  \n",
      "887                893.0        32.0  \n",
      "888                557.0        56.0  \n",
      "889               1505.0        61.0  \n",
      "890                711.0        54.0  \n",
      "\n",
      "[96 rows x 7 columns]\n"
     ]
    }
   ],
   "source": [
    "print(df_la)"
   ]
  },
  {
   "cell_type": "code",
   "execution_count": 9,
   "metadata": {},
   "outputs": [
    {
     "data": {
      "text/plain": [
       "96"
      ]
     },
     "execution_count": 9,
     "metadata": {},
     "output_type": "execute_result"
    }
   ],
   "source": [
    "days = list(range(1,len(df_la)+1))\n",
    "len(days)"
   ]
  },
  {
   "cell_type": "code",
   "execution_count": 10,
   "metadata": {
    "scrolled": true
   },
   "outputs": [
    {
     "name": "stderr",
     "output_type": "stream",
     "text": [
      "/opt/anaconda3/lib/python3.7/site-packages/ipykernel_launcher.py:1: SettingWithCopyWarning: \n",
      "A value is trying to be set on a copy of a slice from a DataFrame.\n",
      "Try using .loc[row_indexer,col_indexer] = value instead\n",
      "\n",
      "See the caveats in the documentation: http://pandas.pydata.org/pandas-docs/stable/user_guide/indexing.html#returning-a-view-versus-a-copy\n",
      "  \"\"\"Entry point for launching an IPython kernel.\n"
     ]
    }
   ],
   "source": [
    "df_la['culm_day'] = days\n",
    "#print(df_la)\n",
    "\n",
    "# df_la = df_la.loc[df_la.culm_day == df_la.date].copy()\n"
   ]
  },
  {
   "cell_type": "code",
   "execution_count": 11,
   "metadata": {},
   "outputs": [
    {
     "data": {
      "text/html": [
       "<div>\n",
       "<style scoped>\n",
       "    .dataframe tbody tr th:only-of-type {\n",
       "        vertical-align: middle;\n",
       "    }\n",
       "\n",
       "    .dataframe tbody tr th {\n",
       "        vertical-align: top;\n",
       "    }\n",
       "\n",
       "    .dataframe thead th {\n",
       "        text-align: right;\n",
       "    }\n",
       "</style>\n",
       "<table border=\"1\" class=\"dataframe\">\n",
       "  <thead>\n",
       "    <tr style=\"text-align: right;\">\n",
       "      <th></th>\n",
       "      <th>date</th>\n",
       "      <th>county</th>\n",
       "      <th>fips</th>\n",
       "      <th>confirmed_cases</th>\n",
       "      <th>deaths</th>\n",
       "      <th>new_confirmed_cases</th>\n",
       "      <th>new_deaths</th>\n",
       "      <th>culm_day</th>\n",
       "    </tr>\n",
       "  </thead>\n",
       "  <tbody>\n",
       "    <tr>\n",
       "      <td>795</td>\n",
       "      <td>2020-01-26</td>\n",
       "      <td>Los Angeles</td>\n",
       "      <td>37</td>\n",
       "      <td>1</td>\n",
       "      <td>0</td>\n",
       "      <td>NaN</td>\n",
       "      <td>NaN</td>\n",
       "      <td>1</td>\n",
       "    </tr>\n",
       "    <tr>\n",
       "      <td>796</td>\n",
       "      <td>2020-01-27</td>\n",
       "      <td>Los Angeles</td>\n",
       "      <td>37</td>\n",
       "      <td>1</td>\n",
       "      <td>0</td>\n",
       "      <td>0.0</td>\n",
       "      <td>0.0</td>\n",
       "      <td>2</td>\n",
       "    </tr>\n",
       "    <tr>\n",
       "      <td>797</td>\n",
       "      <td>2020-01-28</td>\n",
       "      <td>Los Angeles</td>\n",
       "      <td>37</td>\n",
       "      <td>1</td>\n",
       "      <td>0</td>\n",
       "      <td>0.0</td>\n",
       "      <td>0.0</td>\n",
       "      <td>3</td>\n",
       "    </tr>\n",
       "    <tr>\n",
       "      <td>798</td>\n",
       "      <td>2020-01-29</td>\n",
       "      <td>Los Angeles</td>\n",
       "      <td>37</td>\n",
       "      <td>1</td>\n",
       "      <td>0</td>\n",
       "      <td>0.0</td>\n",
       "      <td>0.0</td>\n",
       "      <td>4</td>\n",
       "    </tr>\n",
       "    <tr>\n",
       "      <td>799</td>\n",
       "      <td>2020-01-30</td>\n",
       "      <td>Los Angeles</td>\n",
       "      <td>37</td>\n",
       "      <td>1</td>\n",
       "      <td>0</td>\n",
       "      <td>0.0</td>\n",
       "      <td>0.0</td>\n",
       "      <td>5</td>\n",
       "    </tr>\n",
       "    <tr>\n",
       "      <td>...</td>\n",
       "      <td>...</td>\n",
       "      <td>...</td>\n",
       "      <td>...</td>\n",
       "      <td>...</td>\n",
       "      <td>...</td>\n",
       "      <td>...</td>\n",
       "      <td>...</td>\n",
       "      <td>...</td>\n",
       "    </tr>\n",
       "    <tr>\n",
       "      <td>886</td>\n",
       "      <td>2020-04-26</td>\n",
       "      <td>Los Angeles</td>\n",
       "      <td>37</td>\n",
       "      <td>19567</td>\n",
       "      <td>916</td>\n",
       "      <td>408.0</td>\n",
       "      <td>20.0</td>\n",
       "      <td>92</td>\n",
       "    </tr>\n",
       "    <tr>\n",
       "      <td>887</td>\n",
       "      <td>2020-04-27</td>\n",
       "      <td>Los Angeles</td>\n",
       "      <td>37</td>\n",
       "      <td>20460</td>\n",
       "      <td>948</td>\n",
       "      <td>893.0</td>\n",
       "      <td>32.0</td>\n",
       "      <td>93</td>\n",
       "    </tr>\n",
       "    <tr>\n",
       "      <td>888</td>\n",
       "      <td>2020-04-28</td>\n",
       "      <td>Los Angeles</td>\n",
       "      <td>37</td>\n",
       "      <td>21017</td>\n",
       "      <td>1004</td>\n",
       "      <td>557.0</td>\n",
       "      <td>56.0</td>\n",
       "      <td>94</td>\n",
       "    </tr>\n",
       "    <tr>\n",
       "      <td>889</td>\n",
       "      <td>2020-04-29</td>\n",
       "      <td>Los Angeles</td>\n",
       "      <td>37</td>\n",
       "      <td>22522</td>\n",
       "      <td>1065</td>\n",
       "      <td>1505.0</td>\n",
       "      <td>61.0</td>\n",
       "      <td>95</td>\n",
       "    </tr>\n",
       "    <tr>\n",
       "      <td>890</td>\n",
       "      <td>2020-04-30</td>\n",
       "      <td>Los Angeles</td>\n",
       "      <td>37</td>\n",
       "      <td>23233</td>\n",
       "      <td>1119</td>\n",
       "      <td>711.0</td>\n",
       "      <td>54.0</td>\n",
       "      <td>96</td>\n",
       "    </tr>\n",
       "  </tbody>\n",
       "</table>\n",
       "<p>96 rows × 8 columns</p>\n",
       "</div>"
      ],
      "text/plain": [
       "           date       county  fips  confirmed_cases  deaths  \\\n",
       "795  2020-01-26  Los Angeles    37                1       0   \n",
       "796  2020-01-27  Los Angeles    37                1       0   \n",
       "797  2020-01-28  Los Angeles    37                1       0   \n",
       "798  2020-01-29  Los Angeles    37                1       0   \n",
       "799  2020-01-30  Los Angeles    37                1       0   \n",
       "..          ...          ...   ...              ...     ...   \n",
       "886  2020-04-26  Los Angeles    37            19567     916   \n",
       "887  2020-04-27  Los Angeles    37            20460     948   \n",
       "888  2020-04-28  Los Angeles    37            21017    1004   \n",
       "889  2020-04-29  Los Angeles    37            22522    1065   \n",
       "890  2020-04-30  Los Angeles    37            23233    1119   \n",
       "\n",
       "     new_confirmed_cases  new_deaths  culm_day  \n",
       "795                  NaN         NaN         1  \n",
       "796                  0.0         0.0         2  \n",
       "797                  0.0         0.0         3  \n",
       "798                  0.0         0.0         4  \n",
       "799                  0.0         0.0         5  \n",
       "..                   ...         ...       ...  \n",
       "886                408.0        20.0        92  \n",
       "887                893.0        32.0        93  \n",
       "888                557.0        56.0        94  \n",
       "889               1505.0        61.0        95  \n",
       "890                711.0        54.0        96  \n",
       "\n",
       "[96 rows x 8 columns]"
      ]
     },
     "execution_count": 11,
     "metadata": {},
     "output_type": "execute_result"
    }
   ],
   "source": [
    "df_la"
   ]
  },
  {
   "cell_type": "code",
   "execution_count": 12,
   "metadata": {
    "scrolled": false
   },
   "outputs": [
    {
     "data": {
      "text/plain": [
       "Index(['date', 'county', 'fips', 'confirmed_cases', 'deaths',\n",
       "       'new_confirmed_cases', 'new_deaths', 'culm_day'],\n",
       "      dtype='object')"
      ]
     },
     "execution_count": 12,
     "metadata": {},
     "output_type": "execute_result"
    }
   ],
   "source": [
    "df_la.columns"
   ]
  },
  {
   "cell_type": "code",
   "execution_count": 13,
   "metadata": {},
   "outputs": [],
   "source": [
    "df_la = df_la.drop(labels=['date','county','fips'], axis=1)\n",
    "# print (df_la.info())\n",
    "# df_la.describe()"
   ]
  },
  {
   "cell_type": "code",
   "execution_count": 14,
   "metadata": {
    "scrolled": true
   },
   "outputs": [
    {
     "data": {
      "text/html": [
       "<div>\n",
       "<style scoped>\n",
       "    .dataframe tbody tr th:only-of-type {\n",
       "        vertical-align: middle;\n",
       "    }\n",
       "\n",
       "    .dataframe tbody tr th {\n",
       "        vertical-align: top;\n",
       "    }\n",
       "\n",
       "    .dataframe thead th {\n",
       "        text-align: right;\n",
       "    }\n",
       "</style>\n",
       "<table border=\"1\" class=\"dataframe\">\n",
       "  <thead>\n",
       "    <tr style=\"text-align: right;\">\n",
       "      <th></th>\n",
       "      <th>confirmed_cases</th>\n",
       "      <th>deaths</th>\n",
       "      <th>new_confirmed_cases</th>\n",
       "      <th>new_deaths</th>\n",
       "      <th>culm_day</th>\n",
       "    </tr>\n",
       "  </thead>\n",
       "  <tbody>\n",
       "    <tr>\n",
       "      <td>795</td>\n",
       "      <td>1</td>\n",
       "      <td>0</td>\n",
       "      <td>NaN</td>\n",
       "      <td>NaN</td>\n",
       "      <td>1</td>\n",
       "    </tr>\n",
       "    <tr>\n",
       "      <td>796</td>\n",
       "      <td>1</td>\n",
       "      <td>0</td>\n",
       "      <td>0.0</td>\n",
       "      <td>0.0</td>\n",
       "      <td>2</td>\n",
       "    </tr>\n",
       "    <tr>\n",
       "      <td>797</td>\n",
       "      <td>1</td>\n",
       "      <td>0</td>\n",
       "      <td>0.0</td>\n",
       "      <td>0.0</td>\n",
       "      <td>3</td>\n",
       "    </tr>\n",
       "    <tr>\n",
       "      <td>798</td>\n",
       "      <td>1</td>\n",
       "      <td>0</td>\n",
       "      <td>0.0</td>\n",
       "      <td>0.0</td>\n",
       "      <td>4</td>\n",
       "    </tr>\n",
       "    <tr>\n",
       "      <td>799</td>\n",
       "      <td>1</td>\n",
       "      <td>0</td>\n",
       "      <td>0.0</td>\n",
       "      <td>0.0</td>\n",
       "      <td>5</td>\n",
       "    </tr>\n",
       "    <tr>\n",
       "      <td>...</td>\n",
       "      <td>...</td>\n",
       "      <td>...</td>\n",
       "      <td>...</td>\n",
       "      <td>...</td>\n",
       "      <td>...</td>\n",
       "    </tr>\n",
       "    <tr>\n",
       "      <td>886</td>\n",
       "      <td>19567</td>\n",
       "      <td>916</td>\n",
       "      <td>408.0</td>\n",
       "      <td>20.0</td>\n",
       "      <td>92</td>\n",
       "    </tr>\n",
       "    <tr>\n",
       "      <td>887</td>\n",
       "      <td>20460</td>\n",
       "      <td>948</td>\n",
       "      <td>893.0</td>\n",
       "      <td>32.0</td>\n",
       "      <td>93</td>\n",
       "    </tr>\n",
       "    <tr>\n",
       "      <td>888</td>\n",
       "      <td>21017</td>\n",
       "      <td>1004</td>\n",
       "      <td>557.0</td>\n",
       "      <td>56.0</td>\n",
       "      <td>94</td>\n",
       "    </tr>\n",
       "    <tr>\n",
       "      <td>889</td>\n",
       "      <td>22522</td>\n",
       "      <td>1065</td>\n",
       "      <td>1505.0</td>\n",
       "      <td>61.0</td>\n",
       "      <td>95</td>\n",
       "    </tr>\n",
       "    <tr>\n",
       "      <td>890</td>\n",
       "      <td>23233</td>\n",
       "      <td>1119</td>\n",
       "      <td>711.0</td>\n",
       "      <td>54.0</td>\n",
       "      <td>96</td>\n",
       "    </tr>\n",
       "  </tbody>\n",
       "</table>\n",
       "<p>96 rows × 5 columns</p>\n",
       "</div>"
      ],
      "text/plain": [
       "     confirmed_cases  deaths  new_confirmed_cases  new_deaths  culm_day\n",
       "795                1       0                  NaN         NaN         1\n",
       "796                1       0                  0.0         0.0         2\n",
       "797                1       0                  0.0         0.0         3\n",
       "798                1       0                  0.0         0.0         4\n",
       "799                1       0                  0.0         0.0         5\n",
       "..               ...     ...                  ...         ...       ...\n",
       "886            19567     916                408.0        20.0        92\n",
       "887            20460     948                893.0        32.0        93\n",
       "888            21017    1004                557.0        56.0        94\n",
       "889            22522    1065               1505.0        61.0        95\n",
       "890            23233    1119                711.0        54.0        96\n",
       "\n",
       "[96 rows x 5 columns]"
      ]
     },
     "execution_count": 14,
     "metadata": {},
     "output_type": "execute_result"
    }
   ],
   "source": [
    "df_la"
   ]
  },
  {
   "cell_type": "code",
   "execution_count": 15,
   "metadata": {},
   "outputs": [],
   "source": [
    "# df_la.dropna(inplace=True)\n",
    "df_la = df_la.fillna(0)"
   ]
  },
  {
   "cell_type": "code",
   "execution_count": 16,
   "metadata": {},
   "outputs": [
    {
     "data": {
      "text/html": [
       "<div>\n",
       "<style scoped>\n",
       "    .dataframe tbody tr th:only-of-type {\n",
       "        vertical-align: middle;\n",
       "    }\n",
       "\n",
       "    .dataframe tbody tr th {\n",
       "        vertical-align: top;\n",
       "    }\n",
       "\n",
       "    .dataframe thead th {\n",
       "        text-align: right;\n",
       "    }\n",
       "</style>\n",
       "<table border=\"1\" class=\"dataframe\">\n",
       "  <thead>\n",
       "    <tr style=\"text-align: right;\">\n",
       "      <th></th>\n",
       "      <th>confirmed_cases</th>\n",
       "      <th>deaths</th>\n",
       "      <th>new_confirmed_cases</th>\n",
       "      <th>new_deaths</th>\n",
       "      <th>culm_day</th>\n",
       "    </tr>\n",
       "  </thead>\n",
       "  <tbody>\n",
       "    <tr>\n",
       "      <td>795</td>\n",
       "      <td>1</td>\n",
       "      <td>0</td>\n",
       "      <td>0.0</td>\n",
       "      <td>0.0</td>\n",
       "      <td>1</td>\n",
       "    </tr>\n",
       "    <tr>\n",
       "      <td>796</td>\n",
       "      <td>1</td>\n",
       "      <td>0</td>\n",
       "      <td>0.0</td>\n",
       "      <td>0.0</td>\n",
       "      <td>2</td>\n",
       "    </tr>\n",
       "    <tr>\n",
       "      <td>797</td>\n",
       "      <td>1</td>\n",
       "      <td>0</td>\n",
       "      <td>0.0</td>\n",
       "      <td>0.0</td>\n",
       "      <td>3</td>\n",
       "    </tr>\n",
       "    <tr>\n",
       "      <td>798</td>\n",
       "      <td>1</td>\n",
       "      <td>0</td>\n",
       "      <td>0.0</td>\n",
       "      <td>0.0</td>\n",
       "      <td>4</td>\n",
       "    </tr>\n",
       "    <tr>\n",
       "      <td>799</td>\n",
       "      <td>1</td>\n",
       "      <td>0</td>\n",
       "      <td>0.0</td>\n",
       "      <td>0.0</td>\n",
       "      <td>5</td>\n",
       "    </tr>\n",
       "    <tr>\n",
       "      <td>...</td>\n",
       "      <td>...</td>\n",
       "      <td>...</td>\n",
       "      <td>...</td>\n",
       "      <td>...</td>\n",
       "      <td>...</td>\n",
       "    </tr>\n",
       "    <tr>\n",
       "      <td>886</td>\n",
       "      <td>19567</td>\n",
       "      <td>916</td>\n",
       "      <td>408.0</td>\n",
       "      <td>20.0</td>\n",
       "      <td>92</td>\n",
       "    </tr>\n",
       "    <tr>\n",
       "      <td>887</td>\n",
       "      <td>20460</td>\n",
       "      <td>948</td>\n",
       "      <td>893.0</td>\n",
       "      <td>32.0</td>\n",
       "      <td>93</td>\n",
       "    </tr>\n",
       "    <tr>\n",
       "      <td>888</td>\n",
       "      <td>21017</td>\n",
       "      <td>1004</td>\n",
       "      <td>557.0</td>\n",
       "      <td>56.0</td>\n",
       "      <td>94</td>\n",
       "    </tr>\n",
       "    <tr>\n",
       "      <td>889</td>\n",
       "      <td>22522</td>\n",
       "      <td>1065</td>\n",
       "      <td>1505.0</td>\n",
       "      <td>61.0</td>\n",
       "      <td>95</td>\n",
       "    </tr>\n",
       "    <tr>\n",
       "      <td>890</td>\n",
       "      <td>23233</td>\n",
       "      <td>1119</td>\n",
       "      <td>711.0</td>\n",
       "      <td>54.0</td>\n",
       "      <td>96</td>\n",
       "    </tr>\n",
       "  </tbody>\n",
       "</table>\n",
       "<p>96 rows × 5 columns</p>\n",
       "</div>"
      ],
      "text/plain": [
       "     confirmed_cases  deaths  new_confirmed_cases  new_deaths  culm_day\n",
       "795                1       0                  0.0         0.0         1\n",
       "796                1       0                  0.0         0.0         2\n",
       "797                1       0                  0.0         0.0         3\n",
       "798                1       0                  0.0         0.0         4\n",
       "799                1       0                  0.0         0.0         5\n",
       "..               ...     ...                  ...         ...       ...\n",
       "886            19567     916                408.0        20.0        92\n",
       "887            20460     948                893.0        32.0        93\n",
       "888            21017    1004                557.0        56.0        94\n",
       "889            22522    1065               1505.0        61.0        95\n",
       "890            23233    1119                711.0        54.0        96\n",
       "\n",
       "[96 rows x 5 columns]"
      ]
     },
     "execution_count": 16,
     "metadata": {},
     "output_type": "execute_result"
    }
   ],
   "source": [
    "df_la"
   ]
  },
  {
   "cell_type": "code",
   "execution_count": 17,
   "metadata": {
    "scrolled": true
   },
   "outputs": [
    {
     "name": "stdout",
     "output_type": "stream",
     "text": [
      "     deaths  new_confirmed_cases  new_deaths  culm_day\n",
      "795       0                  0.0         0.0         1\n",
      "796       0                  0.0         0.0         2\n",
      "797       0                  0.0         0.0         3\n",
      "798       0                  0.0         0.0         4\n",
      "799       0                  0.0         0.0         5\n",
      "..      ...                  ...         ...       ...\n",
      "886     916                408.0        20.0        92\n",
      "887     948                893.0        32.0        93\n",
      "888    1004                557.0        56.0        94\n",
      "889    1065               1505.0        61.0        95\n",
      "890    1119                711.0        54.0        96\n",
      "\n",
      "[96 rows x 4 columns]\n",
      "795        1\n",
      "796        1\n",
      "797        1\n",
      "798        1\n",
      "799        1\n",
      "       ...  \n",
      "886    19567\n",
      "887    20460\n",
      "888    21017\n",
      "889    22522\n",
      "890    23233\n",
      "Name: confirmed_cases, Length: 96, dtype: int64\n",
      "[    1     7    11    13    14    19    20    29    32    40    54    69\n",
      "    94   147   192   231   295   353   411   543   670   814  1230  1482\n",
      "  1818  2147  2505  3037  3528  4071  4605  5325  5955  6391  6944  7573\n",
      "  7984  8453  8889  9197  9480 10075 10517 10895 11421 12051 12349 13823\n",
      " 15165 16449 17567 18545 19159 19567 20460 21017 22522 23233]\n"
     ]
    },
    {
     "data": {
      "text/plain": [
       "array(['deaths', 'new_confirmed_cases', 'new_deaths', 'culm_day'],\n",
       "      dtype=object)"
      ]
     },
     "execution_count": 17,
     "metadata": {},
     "output_type": "execute_result"
    }
   ],
   "source": [
    "X = df_la.drop(labels=['confirmed_cases'], axis=1)\n",
    "print (X)\n",
    "y = df_la.loc[:,'confirmed_cases']\n",
    "print (y)\n",
    "print (y.unique())\n",
    "X_col_names = X.columns.values\n",
    "X_col_names"
   ]
  },
  {
   "cell_type": "code",
   "execution_count": 18,
   "metadata": {},
   "outputs": [
    {
     "name": "stdout",
     "output_type": "stream",
     "text": [
      "     deaths  new_confirmed_cases  new_deaths  culm_day\n",
      "862      80                543.0        14.0        68\n",
      "850       4                 58.0         2.0        56\n",
      "831       0                  0.0         0.0        37\n",
      "840       1                  9.0         1.0        46\n",
      "848       2                 39.0         1.0        54\n",
      "..      ...                  ...         ...       ...\n",
      "870     244                469.0        19.0        76\n",
      "804       0                  0.0         0.0        10\n",
      "867     173                553.0        26.0        73\n",
      "807       0                  0.0         0.0        13\n",
      "832       0                  0.0         0.0        38\n",
      "\n",
      "[67 rows x 4 columns]\n",
      "67 67\n",
      "29 29\n"
     ]
    }
   ],
   "source": [
    "X_train, X_test, y_train, y_test = train_test_split(X, y, test_size=0.3, random_state=1)\n",
    "print(X_train)\n",
    "print(len(X_train),len(y_train))\n",
    "print(len(X_test),len(y_test))"
   ]
  },
  {
   "cell_type": "code",
   "execution_count": 19,
   "metadata": {},
   "outputs": [
    {
     "name": "stdout",
     "output_type": "stream",
     "text": [
      "     deaths  new_confirmed_cases  new_deaths  culm_day\n",
      "835       0                  2.0         0.0        41\n",
      "826       0                  0.0         0.0        32\n",
      "841       1                  3.0         0.0        47\n",
      "854      13                144.0         3.0        60\n",
      "873     326                283.0        26.0        79\n",
      "869     225                411.0        25.0        75\n",
      "860      54                532.0        10.0        66\n",
      "839       0                  1.0         0.0        45\n",
      "875     405                442.0        39.0        81\n",
      "880     619               1474.0        18.0        86\n",
      "857      32                336.0         6.0        63\n",
      "822       0                  0.0         0.0        28\n",
      "886     916                408.0        20.0        92\n",
      "872     300                308.0        33.0        78\n",
      "827       0                  0.0         0.0        33\n",
      "851       5                 58.0         1.0        57\n",
      "834       0                  4.0         0.0        40\n",
      "805       0                  0.0         0.0        11\n",
      "797       0                  0.0         0.0         3\n",
      "833       0                  6.0         0.0        39\n",
      "849       2                 64.0         0.0        55\n",
      "853      10                127.0         2.0        59\n",
      "814       0                  0.0         0.0        20\n",
      "885     896                614.0        46.0        91\n",
      "890    1119                711.0        54.0        96\n",
      "830       0                  0.0         0.0        36\n",
      "828       0                  0.0         0.0        34\n",
      "843       1                 14.0         0.0        49\n",
      "879     601                298.0        24.0        85\n"
     ]
    },
    {
     "data": {
      "text/plain": [
       "array([[0.00000000e+00, 1.32890365e-03, 0.00000000e+00, 4.25531915e-01],\n",
       "       [0.00000000e+00, 0.00000000e+00, 0.00000000e+00, 3.29787234e-01],\n",
       "       [9.38967136e-04, 1.99335548e-03, 0.00000000e+00, 4.89361702e-01],\n",
       "       [1.22065728e-02, 9.56810631e-02, 3.94736842e-02, 6.27659574e-01],\n",
       "       [3.06103286e-01, 1.88039867e-01, 3.42105263e-01, 8.29787234e-01],\n",
       "       [2.11267606e-01, 2.73089701e-01, 3.28947368e-01, 7.87234043e-01],\n",
       "       [5.07042254e-02, 3.53488372e-01, 1.31578947e-01, 6.91489362e-01],\n",
       "       [0.00000000e+00, 6.64451827e-04, 0.00000000e+00, 4.68085106e-01],\n",
       "       [3.80281690e-01, 2.93687708e-01, 5.13157895e-01, 8.51063830e-01],\n",
       "       [5.81220657e-01, 9.79401993e-01, 2.36842105e-01, 9.04255319e-01],\n",
       "       [3.00469484e-02, 2.23255814e-01, 7.89473684e-02, 6.59574468e-01],\n",
       "       [0.00000000e+00, 0.00000000e+00, 0.00000000e+00, 2.87234043e-01],\n",
       "       [8.60093897e-01, 2.71096346e-01, 2.63157895e-01, 9.68085106e-01],\n",
       "       [2.81690141e-01, 2.04651163e-01, 4.34210526e-01, 8.19148936e-01],\n",
       "       [0.00000000e+00, 0.00000000e+00, 0.00000000e+00, 3.40425532e-01],\n",
       "       [4.69483568e-03, 3.85382060e-02, 1.31578947e-02, 5.95744681e-01],\n",
       "       [0.00000000e+00, 2.65780731e-03, 0.00000000e+00, 4.14893617e-01],\n",
       "       [0.00000000e+00, 0.00000000e+00, 0.00000000e+00, 1.06382979e-01],\n",
       "       [0.00000000e+00, 0.00000000e+00, 0.00000000e+00, 2.12765957e-02],\n",
       "       [0.00000000e+00, 3.98671096e-03, 0.00000000e+00, 4.04255319e-01],\n",
       "       [1.87793427e-03, 4.25249169e-02, 0.00000000e+00, 5.74468085e-01],\n",
       "       [9.38967136e-03, 8.43853821e-02, 2.63157895e-02, 6.17021277e-01],\n",
       "       [0.00000000e+00, 0.00000000e+00, 0.00000000e+00, 2.02127660e-01],\n",
       "       [8.41314554e-01, 4.07973422e-01, 6.05263158e-01, 9.57446809e-01],\n",
       "       [1.05070423e+00, 4.72425249e-01, 7.10526316e-01, 1.01063830e+00],\n",
       "       [0.00000000e+00, 0.00000000e+00, 0.00000000e+00, 3.72340426e-01],\n",
       "       [0.00000000e+00, 0.00000000e+00, 0.00000000e+00, 3.51063830e-01],\n",
       "       [9.38967136e-04, 9.30232558e-03, 0.00000000e+00, 5.10638298e-01],\n",
       "       [5.64319249e-01, 1.98006645e-01, 3.15789474e-01, 8.93617021e-01]])"
      ]
     },
     "execution_count": 19,
     "metadata": {},
     "output_type": "execute_result"
    }
   ],
   "source": [
    "print (X_test)\n",
    "min_max_scaler = MinMaxScaler()\n",
    "X_train_minmax = min_max_scaler.fit_transform(X_train)\n",
    "X_test_minmax = min_max_scaler.transform(X_test)\n",
    "X_test_minmax "
   ]
  },
  {
   "cell_type": "code",
   "execution_count": 21,
   "metadata": {},
   "outputs": [
    {
     "data": {
      "text/plain": [
       "795     1\n",
       "796     2\n",
       "797     3\n",
       "798     4\n",
       "799     5\n",
       "       ..\n",
       "886    92\n",
       "887    93\n",
       "888    94\n",
       "889    95\n",
       "890    96\n",
       "Name: culm_day, Length: 96, dtype: int64"
      ]
     },
     "execution_count": 21,
     "metadata": {},
     "output_type": "execute_result"
    }
   ],
   "source": [
    "df_la['culm_day']"
   ]
  },
  {
   "cell_type": "markdown",
   "metadata": {},
   "source": [
    "## RBF\n"
   ]
  },
  {
   "cell_type": "code",
   "execution_count": 40,
   "metadata": {},
   "outputs": [],
   "source": [
    "svr_rbf = SVR(kernel='rbf', C= 100, gamma = 0.1)"
   ]
  },
  {
   "cell_type": "code",
   "execution_count": 41,
   "metadata": {},
   "outputs": [
    {
     "data": {
      "text/plain": [
       "SVR(C=100, cache_size=200, coef0=0.0, degree=3, epsilon=0.1, gamma=0.1,\n",
       "    kernel='rbf', max_iter=-1, shrinking=True, tol=0.001, verbose=False)"
      ]
     },
     "execution_count": 41,
     "metadata": {},
     "output_type": "execute_result"
    }
   ],
   "source": [
    "svr_rbf.fit(X_train,y_train)"
   ]
  },
  {
   "cell_type": "code",
   "execution_count": 42,
   "metadata": {},
   "outputs": [
    {
     "data": {
      "text/plain": [
       "array([ 72.18934495,  39.91642782, 209.266168  , 256.00897476,\n",
       "       256.00897169, 256.00897169, 256.00897169, 135.22981539,\n",
       "       256.00897169, 256.00897169, 256.05901683,   1.46839531,\n",
       "       256.00897169, 256.00897169,  53.78138709, 327.99903762,\n",
       "       179.99685321,   1.14234302,   1.74971211, 239.86400619,\n",
       "       257.09014555, 260.51389193,   1.13357488, 256.00897169,\n",
       "       256.00897169,   8.58757791,  49.77275443, 168.64117819,\n",
       "       256.00897169])"
      ]
     },
     "execution_count": 42,
     "metadata": {},
     "output_type": "execute_result"
    }
   ],
   "source": [
    "y_predict = svr_rbf.predict(X_test)\n",
    "y_predict"
   ]
  },
  {
   "cell_type": "code",
   "execution_count": 43,
   "metadata": {},
   "outputs": [
    {
     "data": {
      "text/plain": [
       "8156.503967290566"
      ]
     },
     "execution_count": 43,
     "metadata": {},
     "output_type": "execute_result"
    }
   ],
   "source": [
    "#evaluate model using mse\n",
    "mse = mean_squared_error(y_test,y_predict)\n",
    "#root mean square\n",
    "rmse= np.sqrt(mse)\n",
    "rmse"
   ]
  },
  {
   "cell_type": "markdown",
   "metadata": {},
   "source": [
    "# Linear"
   ]
  },
  {
   "cell_type": "code",
   "execution_count": 44,
   "metadata": {},
   "outputs": [],
   "source": [
    "svr_linear = SVR(kernel='linear', C= 100, gamma = 'auto')"
   ]
  },
  {
   "cell_type": "code",
   "execution_count": 45,
   "metadata": {},
   "outputs": [
    {
     "data": {
      "text/plain": [
       "SVR(C=100, cache_size=200, coef0=0.0, degree=3, epsilon=0.1, gamma='auto',\n",
       "    kernel='linear', max_iter=-1, shrinking=True, tol=0.001, verbose=False)"
      ]
     },
     "execution_count": 45,
     "metadata": {},
     "output_type": "execute_result"
    }
   ],
   "source": [
    "svr_linear.fit(X_train,y_train)"
   ]
  },
  {
   "cell_type": "code",
   "execution_count": 46,
   "metadata": {},
   "outputs": [
    {
     "data": {
      "text/plain": [
       "array([1.06515697e+01, 1.20040917e+00, 3.18232722e+01, 8.88256435e+02,\n",
       "       6.68518599e+03, 5.62338842e+03, 3.37534182e+03, 6.03226203e+00,\n",
       "       8.72872411e+03, 1.70576017e+04, 2.09769138e+03, 1.15039855e+00,\n",
       "       1.69596239e+04, 6.37658763e+03, 1.21291183e+00, 3.54726388e+02,\n",
       "       1.99777037e+01, 9.37853389e-01, 8.37832139e-01, 2.93038377e+01,\n",
       "       3.33179079e+02, 7.59327307e+02, 1.05037730e+00, 1.75996025e+04,\n",
       "       2.17179408e+04, 1.25041980e+00, 1.22541449e+00, 8.32107791e+01,\n",
       "       1.12723148e+04])"
      ]
     },
     "execution_count": 46,
     "metadata": {},
     "output_type": "execute_result"
    }
   ],
   "source": [
    "y_predict = svr_linear.predict(X_test)\n",
    "y_predict"
   ]
  },
  {
   "cell_type": "code",
   "execution_count": 47,
   "metadata": {},
   "outputs": [
    {
     "data": {
      "text/plain": [
       "1285.140744718964"
      ]
     },
     "execution_count": 47,
     "metadata": {},
     "output_type": "execute_result"
    }
   ],
   "source": [
    "#evaluate model using mse\n",
    "mse = mean_squared_error(y_test,y_predict)\n",
    "#root mean square\n",
    "rmse= np.sqrt(mse)\n",
    "rmse"
   ]
  },
  {
   "cell_type": "markdown",
   "metadata": {},
   "source": [
    "# Polynomial\n"
   ]
  },
  {
   "cell_type": "code",
   "execution_count": null,
   "metadata": {},
   "outputs": [],
   "source": [
    "svr_poly = SVR(kernel='poly', C= 100, gamma = 'auto',degree = 2)"
   ]
  },
  {
   "cell_type": "code",
   "execution_count": null,
   "metadata": {},
   "outputs": [],
   "source": [
    "svr_poly.fit(X_train,y_train)"
   ]
  },
  {
   "cell_type": "code",
   "execution_count": null,
   "metadata": {},
   "outputs": [],
   "source": [
    "y_predict = svr_poly.predict(X_test)\n",
    "y_predict\n"
   ]
  },
  {
   "cell_type": "code",
   "execution_count": null,
   "metadata": {},
   "outputs": [],
   "source": [
    "#evaluate model using mse\n",
    "mse = mean_squared_error(y_test,y_predict)\n",
    "#root mean square\n",
    "rmse= np.sqrt(mse)\n",
    "rmse"
   ]
  },
  {
   "cell_type": "code",
   "execution_count": null,
   "metadata": {},
   "outputs": [],
   "source": []
  }
 ],
 "metadata": {
  "kernelspec": {
   "display_name": "Python 3",
   "language": "python",
   "name": "python3"
  },
  "language_info": {
   "codemirror_mode": {
    "name": "ipython",
    "version": 3
   },
   "file_extension": ".py",
   "mimetype": "text/x-python",
   "name": "python",
   "nbconvert_exporter": "python",
   "pygments_lexer": "ipython3",
   "version": "3.7.4"
  }
 },
 "nbformat": 4,
 "nbformat_minor": 2
}

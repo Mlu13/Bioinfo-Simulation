{
 "cells": [
  {
   "cell_type": "code",
   "execution_count": 17,
   "metadata": {},
   "outputs": [],
   "source": [
    "import numpy as np\n",
    "import pandas as pd     \n",
    "import matplotlib as mpl\n",
    "import matplotlib.pyplot as plt\n",
    "import seaborn as sns    \n",
    "from pandas.api.types import CategoricalDtype\n",
    "\n",
    "from sklearn.preprocessing import Imputer, MinMaxScaler\n",
    "from sklearn.svm import SVC\n",
    "from sklearn.metrics import confusion_matrix, accuracy_score, classification_report, roc_curve, auc\n",
    "from sklearn.model_selection import train_test_split, GridSearchCV, cross_val_score\n",
    "from sklearn.svm import SVR\n",
    "from sklearn.metrics import r2_score,mean_squared_error\n",
    "import seaborn as sns\n",
    "import matplotlib.pyplot as plt"
   ]
  },
  {
   "cell_type": "code",
   "execution_count": 18,
   "metadata": {},
   "outputs": [],
   "source": [
    "df = pd.read_csv(\"latimes-county-totals.csv\")"
   ]
  },
  {
   "cell_type": "code",
   "execution_count": 19,
   "metadata": {
    "scrolled": true
   },
   "outputs": [
    {
     "data": {
      "text/html": [
       "<div>\n",
       "<style scoped>\n",
       "    .dataframe tbody tr th:only-of-type {\n",
       "        vertical-align: middle;\n",
       "    }\n",
       "\n",
       "    .dataframe tbody tr th {\n",
       "        vertical-align: top;\n",
       "    }\n",
       "\n",
       "    .dataframe thead th {\n",
       "        text-align: right;\n",
       "    }\n",
       "</style>\n",
       "<table border=\"1\" class=\"dataframe\">\n",
       "  <thead>\n",
       "    <tr style=\"text-align: right;\">\n",
       "      <th></th>\n",
       "      <th>date</th>\n",
       "      <th>county</th>\n",
       "      <th>fips</th>\n",
       "      <th>confirmed_cases</th>\n",
       "      <th>deaths</th>\n",
       "      <th>new_confirmed_cases</th>\n",
       "      <th>new_deaths</th>\n",
       "    </tr>\n",
       "  </thead>\n",
       "  <tbody>\n",
       "    <tr>\n",
       "      <td>0</td>\n",
       "      <td>2020-01-26</td>\n",
       "      <td>Alameda</td>\n",
       "      <td>1</td>\n",
       "      <td>0</td>\n",
       "      <td>0</td>\n",
       "      <td>NaN</td>\n",
       "      <td>NaN</td>\n",
       "    </tr>\n",
       "    <tr>\n",
       "      <td>1</td>\n",
       "      <td>2020-01-31</td>\n",
       "      <td>Alameda</td>\n",
       "      <td>1</td>\n",
       "      <td>0</td>\n",
       "      <td>0</td>\n",
       "      <td>0.0</td>\n",
       "      <td>0.0</td>\n",
       "    </tr>\n",
       "    <tr>\n",
       "      <td>2</td>\n",
       "      <td>2020-02-02</td>\n",
       "      <td>Alameda</td>\n",
       "      <td>1</td>\n",
       "      <td>0</td>\n",
       "      <td>0</td>\n",
       "      <td>0.0</td>\n",
       "      <td>0.0</td>\n",
       "    </tr>\n",
       "    <tr>\n",
       "      <td>3</td>\n",
       "      <td>2020-02-20</td>\n",
       "      <td>Alameda</td>\n",
       "      <td>1</td>\n",
       "      <td>0</td>\n",
       "      <td>0</td>\n",
       "      <td>0.0</td>\n",
       "      <td>0.0</td>\n",
       "    </tr>\n",
       "    <tr>\n",
       "      <td>4</td>\n",
       "      <td>2020-02-21</td>\n",
       "      <td>Alameda</td>\n",
       "      <td>1</td>\n",
       "      <td>0</td>\n",
       "      <td>0</td>\n",
       "      <td>0.0</td>\n",
       "      <td>0.0</td>\n",
       "    </tr>\n",
       "  </tbody>\n",
       "</table>\n",
       "</div>"
      ],
      "text/plain": [
       "         date   county  fips  confirmed_cases  deaths  new_confirmed_cases  \\\n",
       "0  2020-01-26  Alameda     1                0       0                  NaN   \n",
       "1  2020-01-31  Alameda     1                0       0                  0.0   \n",
       "2  2020-02-02  Alameda     1                0       0                  0.0   \n",
       "3  2020-02-20  Alameda     1                0       0                  0.0   \n",
       "4  2020-02-21  Alameda     1                0       0                  0.0   \n",
       "\n",
       "   new_deaths  \n",
       "0         NaN  \n",
       "1         0.0  \n",
       "2         0.0  \n",
       "3         0.0  \n",
       "4         0.0  "
      ]
     },
     "execution_count": 19,
     "metadata": {},
     "output_type": "execute_result"
    }
   ],
   "source": [
    "df.head()"
   ]
  },
  {
   "cell_type": "code",
   "execution_count": 20,
   "metadata": {},
   "outputs": [
    {
     "data": {
      "text/html": [
       "<div>\n",
       "<style scoped>\n",
       "    .dataframe tbody tr th:only-of-type {\n",
       "        vertical-align: middle;\n",
       "    }\n",
       "\n",
       "    .dataframe tbody tr th {\n",
       "        vertical-align: top;\n",
       "    }\n",
       "\n",
       "    .dataframe thead th {\n",
       "        text-align: right;\n",
       "    }\n",
       "</style>\n",
       "<table border=\"1\" class=\"dataframe\">\n",
       "  <thead>\n",
       "    <tr style=\"text-align: right;\">\n",
       "      <th></th>\n",
       "      <th>fips</th>\n",
       "      <th>confirmed_cases</th>\n",
       "      <th>deaths</th>\n",
       "      <th>new_confirmed_cases</th>\n",
       "      <th>new_deaths</th>\n",
       "    </tr>\n",
       "  </thead>\n",
       "  <tbody>\n",
       "    <tr>\n",
       "      <td>count</td>\n",
       "      <td>2485.000000</td>\n",
       "      <td>2485.000000</td>\n",
       "      <td>2485.000000</td>\n",
       "      <td>2432.000000</td>\n",
       "      <td>2432.000000</td>\n",
       "    </tr>\n",
       "    <tr>\n",
       "      <td>mean</td>\n",
       "      <td>59.756539</td>\n",
       "      <td>229.698189</td>\n",
       "      <td>6.879276</td>\n",
       "      <td>15.485197</td>\n",
       "      <td>0.591283</td>\n",
       "    </tr>\n",
       "    <tr>\n",
       "      <td>std</td>\n",
       "      <td>32.786933</td>\n",
       "      <td>974.019813</td>\n",
       "      <td>37.795395</td>\n",
       "      <td>70.478349</td>\n",
       "      <td>3.502466</td>\n",
       "    </tr>\n",
       "    <tr>\n",
       "      <td>min</td>\n",
       "      <td>1.000000</td>\n",
       "      <td>0.000000</td>\n",
       "      <td>0.000000</td>\n",
       "      <td>-2.000000</td>\n",
       "      <td>0.000000</td>\n",
       "    </tr>\n",
       "    <tr>\n",
       "      <td>25%</td>\n",
       "      <td>31.000000</td>\n",
       "      <td>2.000000</td>\n",
       "      <td>0.000000</td>\n",
       "      <td>0.000000</td>\n",
       "      <td>0.000000</td>\n",
       "    </tr>\n",
       "    <tr>\n",
       "      <td>50%</td>\n",
       "      <td>65.000000</td>\n",
       "      <td>14.000000</td>\n",
       "      <td>0.000000</td>\n",
       "      <td>1.000000</td>\n",
       "      <td>0.000000</td>\n",
       "    </tr>\n",
       "    <tr>\n",
       "      <td>75%</td>\n",
       "      <td>85.000000</td>\n",
       "      <td>101.000000</td>\n",
       "      <td>2.000000</td>\n",
       "      <td>7.000000</td>\n",
       "      <td>0.000000</td>\n",
       "    </tr>\n",
       "    <tr>\n",
       "      <td>max</td>\n",
       "      <td>115.000000</td>\n",
       "      <td>16449.000000</td>\n",
       "      <td>732.000000</td>\n",
       "      <td>1474.000000</td>\n",
       "      <td>76.000000</td>\n",
       "    </tr>\n",
       "  </tbody>\n",
       "</table>\n",
       "</div>"
      ],
      "text/plain": [
       "              fips  confirmed_cases       deaths  new_confirmed_cases  \\\n",
       "count  2485.000000      2485.000000  2485.000000          2432.000000   \n",
       "mean     59.756539       229.698189     6.879276            15.485197   \n",
       "std      32.786933       974.019813    37.795395            70.478349   \n",
       "min       1.000000         0.000000     0.000000            -2.000000   \n",
       "25%      31.000000         2.000000     0.000000             0.000000   \n",
       "50%      65.000000        14.000000     0.000000             1.000000   \n",
       "75%      85.000000       101.000000     2.000000             7.000000   \n",
       "max     115.000000     16449.000000   732.000000          1474.000000   \n",
       "\n",
       "        new_deaths  \n",
       "count  2432.000000  \n",
       "mean      0.591283  \n",
       "std       3.502466  \n",
       "min       0.000000  \n",
       "25%       0.000000  \n",
       "50%       0.000000  \n",
       "75%       0.000000  \n",
       "max      76.000000  "
      ]
     },
     "execution_count": 20,
     "metadata": {},
     "output_type": "execute_result"
    }
   ],
   "source": [
    "df.describe()"
   ]
  },
  {
   "cell_type": "code",
   "execution_count": 21,
   "metadata": {
    "scrolled": true
   },
   "outputs": [
    {
     "name": "stdout",
     "output_type": "stream",
     "text": [
      "<class 'pandas.core.frame.DataFrame'>\n",
      "RangeIndex: 2485 entries, 0 to 2484\n",
      "Data columns (total 7 columns):\n",
      "date                   2485 non-null object\n",
      "county                 2485 non-null object\n",
      "fips                   2485 non-null int64\n",
      "confirmed_cases        2485 non-null int64\n",
      "deaths                 2485 non-null int64\n",
      "new_confirmed_cases    2432 non-null float64\n",
      "new_deaths             2432 non-null float64\n",
      "dtypes: float64(2), int64(3), object(2)\n",
      "memory usage: 136.0+ KB\n"
     ]
    }
   ],
   "source": [
    "df.info()"
   ]
  },
  {
   "cell_type": "code",
   "execution_count": 22,
   "metadata": {},
   "outputs": [],
   "source": [
    "df_la = df[df['county'] == 'Los Angeles']"
   ]
  },
  {
   "cell_type": "code",
   "execution_count": 23,
   "metadata": {},
   "outputs": [
    {
     "name": "stdout",
     "output_type": "stream",
     "text": [
      "           date       county  fips  confirmed_cases  deaths  \\\n",
      "657  2020-01-26  Los Angeles    37                1       0   \n",
      "658  2020-01-27  Los Angeles    37                1       0   \n",
      "659  2020-01-28  Los Angeles    37                1       0   \n",
      "660  2020-01-29  Los Angeles    37                1       0   \n",
      "661  2020-01-30  Los Angeles    37                1       0   \n",
      "..          ...          ...   ...              ...     ...   \n",
      "740  2020-04-18  Los Angeles    37            12051     577   \n",
      "741  2020-04-19  Los Angeles    37            12349     601   \n",
      "742  2020-04-20  Los Angeles    37            13823     619   \n",
      "743  2020-04-21  Los Angeles    37            15165     666   \n",
      "744  2020-04-22  Los Angeles    37            16449     732   \n",
      "\n",
      "     new_confirmed_cases  new_deaths  \n",
      "657                  NaN         NaN  \n",
      "658                  0.0         0.0  \n",
      "659                  0.0         0.0  \n",
      "660                  0.0         0.0  \n",
      "661                  0.0         0.0  \n",
      "..                   ...         ...  \n",
      "740                630.0        76.0  \n",
      "741                298.0        24.0  \n",
      "742               1474.0        18.0  \n",
      "743               1342.0        47.0  \n",
      "744               1284.0        66.0  \n",
      "\n",
      "[88 rows x 7 columns]\n"
     ]
    }
   ],
   "source": [
    "print(df_la)"
   ]
  },
  {
   "cell_type": "code",
   "execution_count": 24,
   "metadata": {
    "scrolled": false
   },
   "outputs": [
    {
     "data": {
      "text/plain": [
       "Index(['date', 'county', 'fips', 'confirmed_cases', 'deaths',\n",
       "       'new_confirmed_cases', 'new_deaths'],\n",
       "      dtype='object')"
      ]
     },
     "execution_count": 24,
     "metadata": {},
     "output_type": "execute_result"
    }
   ],
   "source": [
    "df_la.columns"
   ]
  },
  {
   "cell_type": "code",
   "execution_count": 25,
   "metadata": {},
   "outputs": [
    {
     "name": "stdout",
     "output_type": "stream",
     "text": [
      "<class 'pandas.core.frame.DataFrame'>\n",
      "Int64Index: 88 entries, 657 to 744\n",
      "Data columns (total 4 columns):\n",
      "confirmed_cases        88 non-null int64\n",
      "deaths                 88 non-null int64\n",
      "new_confirmed_cases    87 non-null float64\n",
      "new_deaths             87 non-null float64\n",
      "dtypes: float64(2), int64(2)\n",
      "memory usage: 3.4 KB\n",
      "None\n"
     ]
    },
    {
     "data": {
      "text/html": [
       "<div>\n",
       "<style scoped>\n",
       "    .dataframe tbody tr th:only-of-type {\n",
       "        vertical-align: middle;\n",
       "    }\n",
       "\n",
       "    .dataframe tbody tr th {\n",
       "        vertical-align: top;\n",
       "    }\n",
       "\n",
       "    .dataframe thead th {\n",
       "        text-align: right;\n",
       "    }\n",
       "</style>\n",
       "<table border=\"1\" class=\"dataframe\">\n",
       "  <thead>\n",
       "    <tr style=\"text-align: right;\">\n",
       "      <th></th>\n",
       "      <th>confirmed_cases</th>\n",
       "      <th>deaths</th>\n",
       "      <th>new_confirmed_cases</th>\n",
       "      <th>new_deaths</th>\n",
       "    </tr>\n",
       "  </thead>\n",
       "  <tbody>\n",
       "    <tr>\n",
       "      <td>count</td>\n",
       "      <td>88.000000</td>\n",
       "      <td>88.000000</td>\n",
       "      <td>87.000000</td>\n",
       "      <td>87.000000</td>\n",
       "    </tr>\n",
       "    <tr>\n",
       "      <td>mean</td>\n",
       "      <td>2471.238636</td>\n",
       "      <td>85.931818</td>\n",
       "      <td>189.057471</td>\n",
       "      <td>8.413793</td>\n",
       "    </tr>\n",
       "    <tr>\n",
       "      <td>std</td>\n",
       "      <td>4276.841374</td>\n",
       "      <td>175.960144</td>\n",
       "      <td>310.491559</td>\n",
       "      <td>15.787507</td>\n",
       "    </tr>\n",
       "    <tr>\n",
       "      <td>min</td>\n",
       "      <td>1.000000</td>\n",
       "      <td>0.000000</td>\n",
       "      <td>0.000000</td>\n",
       "      <td>0.000000</td>\n",
       "    </tr>\n",
       "    <tr>\n",
       "      <td>25%</td>\n",
       "      <td>1.000000</td>\n",
       "      <td>0.000000</td>\n",
       "      <td>0.000000</td>\n",
       "      <td>0.000000</td>\n",
       "    </tr>\n",
       "    <tr>\n",
       "      <td>50%</td>\n",
       "      <td>19.500000</td>\n",
       "      <td>0.000000</td>\n",
       "      <td>5.000000</td>\n",
       "      <td>0.000000</td>\n",
       "    </tr>\n",
       "    <tr>\n",
       "      <td>75%</td>\n",
       "      <td>3159.750000</td>\n",
       "      <td>57.000000</td>\n",
       "      <td>347.000000</td>\n",
       "      <td>11.000000</td>\n",
       "    </tr>\n",
       "    <tr>\n",
       "      <td>max</td>\n",
       "      <td>16449.000000</td>\n",
       "      <td>732.000000</td>\n",
       "      <td>1474.000000</td>\n",
       "      <td>76.000000</td>\n",
       "    </tr>\n",
       "  </tbody>\n",
       "</table>\n",
       "</div>"
      ],
      "text/plain": [
       "       confirmed_cases      deaths  new_confirmed_cases  new_deaths\n",
       "count        88.000000   88.000000            87.000000   87.000000\n",
       "mean       2471.238636   85.931818           189.057471    8.413793\n",
       "std        4276.841374  175.960144           310.491559   15.787507\n",
       "min           1.000000    0.000000             0.000000    0.000000\n",
       "25%           1.000000    0.000000             0.000000    0.000000\n",
       "50%          19.500000    0.000000             5.000000    0.000000\n",
       "75%        3159.750000   57.000000           347.000000   11.000000\n",
       "max       16449.000000  732.000000          1474.000000   76.000000"
      ]
     },
     "execution_count": 25,
     "metadata": {},
     "output_type": "execute_result"
    }
   ],
   "source": [
    "df_la = df_la.drop(labels=['date','county','fips'], axis=1)\n",
    "print (df_la.info())\n",
    "df_la.describe()"
   ]
  },
  {
   "cell_type": "code",
   "execution_count": 26,
   "metadata": {
    "scrolled": true
   },
   "outputs": [
    {
     "name": "stdout",
     "output_type": "stream",
     "text": [
      "     confirmed_cases  deaths  new_confirmed_cases  new_deaths\n",
      "657                1       0                  NaN         NaN\n",
      "658                1       0                  0.0         0.0\n",
      "659                1       0                  0.0         0.0\n",
      "660                1       0                  0.0         0.0\n",
      "661                1       0                  0.0         0.0\n",
      "..               ...     ...                  ...         ...\n",
      "740            12051     577                630.0        76.0\n",
      "741            12349     601                298.0        24.0\n",
      "742            13823     619               1474.0        18.0\n",
      "743            15165     666               1342.0        47.0\n",
      "744            16449     732               1284.0        66.0\n",
      "\n",
      "[88 rows x 4 columns]\n"
     ]
    }
   ],
   "source": [
    "print(df_la)"
   ]
  },
  {
   "cell_type": "code",
   "execution_count": 27,
   "metadata": {},
   "outputs": [],
   "source": [
    "df_la.dropna(inplace=True)"
   ]
  },
  {
   "cell_type": "code",
   "execution_count": 28,
   "metadata": {
    "scrolled": true
   },
   "outputs": [
    {
     "name": "stdout",
     "output_type": "stream",
     "text": [
      "     deaths  new_confirmed_cases  new_deaths\n",
      "658       0                  0.0         0.0\n",
      "659       0                  0.0         0.0\n",
      "660       0                  0.0         0.0\n",
      "661       0                  0.0         0.0\n",
      "662       0                  0.0         0.0\n",
      "..      ...                  ...         ...\n",
      "740     577                630.0        76.0\n",
      "741     601                298.0        24.0\n",
      "742     619               1474.0        18.0\n",
      "743     666               1342.0        47.0\n",
      "744     732               1284.0        66.0\n",
      "\n",
      "[87 rows x 3 columns]\n",
      "658        1\n",
      "659        1\n",
      "660        1\n",
      "661        1\n",
      "662        1\n",
      "       ...  \n",
      "740    12051\n",
      "741    12349\n",
      "742    13823\n",
      "743    15165\n",
      "744    16449\n",
      "Name: confirmed_cases, Length: 87, dtype: int64\n",
      "[    1     7    11    13    14    19    20    29    32    40    54    69\n",
      "    94   147   192   231   295   353   411   543   670   814  1230  1482\n",
      "  1818  2147  2505  3037  3528  4071  4605  5325  5955  6391  6944  7573\n",
      "  7984  8453  8889  9197  9480 10075 10517 10895 11421 12051 12349 13823\n",
      " 15165 16449]\n"
     ]
    },
    {
     "data": {
      "text/plain": [
       "array(['deaths', 'new_confirmed_cases', 'new_deaths'], dtype=object)"
      ]
     },
     "execution_count": 28,
     "metadata": {},
     "output_type": "execute_result"
    }
   ],
   "source": [
    "X = df_la.drop(labels=['confirmed_cases'], axis=1)\n",
    "print (X)\n",
    "y = df_la.loc[:,'confirmed_cases']\n",
    "print (y)\n",
    "print (y.unique())\n",
    "X_col_names = X.columns.values\n",
    "X_col_names"
   ]
  },
  {
   "cell_type": "code",
   "execution_count": 29,
   "metadata": {},
   "outputs": [
    {
     "name": "stdout",
     "output_type": "stream",
     "text": [
      "     deaths  new_confirmed_cases  new_deaths\n",
      "718      26                252.0         5.0\n",
      "707       1                 25.0         0.0\n",
      "691       0                  0.0         0.0\n",
      "697       0                  2.0         0.0\n",
      "710       2                 39.0         1.0\n",
      "681       0                  0.0         0.0\n",
      "731     225                411.0        25.0\n",
      "723      66                491.0        12.0\n",
      "717      21                416.0         8.0\n",
      "673       0                  0.0         0.0\n",
      "728     147                436.0        15.0\n",
      "736     366                595.0        40.0\n",
      "684       0                  0.0         0.0\n",
      "743     666               1342.0        47.0\n",
      "712       4                 58.0         2.0\n",
      "662       0                  0.0         0.0\n",
      "704       1                  8.0         0.0\n",
      "679       0                  0.0         0.0\n",
      "732     244                469.0        19.0\n",
      "661       0                  0.0         0.0\n",
      "719      32                336.0         6.0\n",
      "688       0                  0.0         0.0\n",
      "713       5                 58.0         1.0\n",
      "700       0                  5.0         0.0\n",
      "705       1                 14.0         0.0\n",
      "709       1                 45.0         0.0\n",
      "738     457                378.0        52.0\n",
      "682       0                  0.0         0.0\n",
      "666       0                  0.0         0.0\n",
      "675       0                  0.0         0.0\n",
      "658       0                  0.0         0.0\n",
      "735     326                283.0        26.0\n",
      "715      10                127.0         2.0\n",
      "680       0                  0.0         0.0\n",
      "665       0                  0.0         0.0\n",
      "741     601                298.0        24.0\n",
      "699       0                  0.0         0.0\n",
      "671       0                  0.0         0.0\n",
      "742     619               1474.0        18.0\n",
      "672       0                  0.0         0.0\n",
      "687       0                  0.0         0.0\n",
      "686       0                  0.0         0.0\n",
      "669       0                  0.0         0.0\n",
      "676       0                  0.0         0.0\n",
      "678       0                  0.0         0.0\n",
      "708       1                 53.0         0.0\n",
      "683       0                  0.0         0.0\n",
      "664       0                  0.0         0.0\n",
      "729     173                553.0        26.0\n",
      "734     300                308.0        33.0\n",
      "659       0                  0.0         0.0\n",
      "674       0                  0.0         0.0\n",
      "722      54                532.0        10.0\n",
      "737     405                442.0        39.0\n",
      "663       0                  0.0         0.0\n",
      "733     267                436.0        23.0\n",
      "667       0                  0.0         0.0\n",
      "730     200                629.0        27.0\n",
      "670       0                  0.0         0.0\n",
      "695       0                  6.0         0.0\n",
      "60 60\n",
      "27 27\n"
     ]
    }
   ],
   "source": [
    "X_train, X_test, y_train, y_test = train_test_split(X, y, test_size=0.3, random_state=1)\n",
    "print(X_train)\n",
    "print(len(X_train),len(y_train))\n",
    "print(len(X_test),len(y_test))"
   ]
  },
  {
   "cell_type": "code",
   "execution_count": 30,
   "metadata": {},
   "outputs": [
    {
     "name": "stdout",
     "output_type": "stream",
     "text": [
      "     deaths  new_confirmed_cases  new_deaths\n",
      "696       0                  4.0         0.0\n",
      "702       1                  9.0         1.0\n",
      "685       0                  0.0         0.0\n",
      "698       0                  1.0         0.0\n",
      "694       0                  0.0         0.0\n",
      "740     577                630.0        76.0\n",
      "716      13                144.0         3.0\n",
      "727     132                630.0        13.0\n",
      "744     732               1284.0        66.0\n",
      "714       8                132.0         3.0\n",
      "725      93                534.0        13.0\n",
      "711       2                 64.0         0.0\n",
      "706       1                 15.0         0.0\n",
      "724      80                543.0        14.0\n",
      "721      44                358.0         7.0\n",
      "668       0                  0.0         0.0\n",
      "660       0                  0.0         0.0\n",
      "693       0                  0.0         0.0\n",
      "726     119                720.0        26.0\n",
      "703       1                  3.0         0.0\n",
      "677       0                  0.0         0.0\n",
      "739     501                526.0        44.0\n",
      "692       0                  0.0         0.0\n",
      "690       0                  0.0         0.0\n",
      "689       0                  0.0         0.0\n",
      "701       0                  1.0         0.0\n",
      "720      37                329.0         5.0\n"
     ]
    },
    {
     "data": {
      "text/plain": [
       "array([[0.00000000e+00, 2.71370421e-03, 0.00000000e+00],\n",
       "       [1.50150150e-03, 6.10583446e-03, 1.92307692e-02],\n",
       "       [0.00000000e+00, 0.00000000e+00, 0.00000000e+00],\n",
       "       [0.00000000e+00, 6.78426052e-04, 0.00000000e+00],\n",
       "       [0.00000000e+00, 0.00000000e+00, 0.00000000e+00],\n",
       "       [8.66366366e-01, 4.27408412e-01, 1.46153846e+00],\n",
       "       [1.95195195e-02, 9.76933514e-02, 5.76923077e-02],\n",
       "       [1.98198198e-01, 4.27408412e-01, 2.50000000e-01],\n",
       "       [1.09909910e+00, 8.71099050e-01, 1.26923077e+00],\n",
       "       [1.20120120e-02, 8.95522388e-02, 5.76923077e-02],\n",
       "       [1.39639640e-01, 3.62279512e-01, 2.50000000e-01],\n",
       "       [3.00300300e-03, 4.34192673e-02, 0.00000000e+00],\n",
       "       [1.50150150e-03, 1.01763908e-02, 0.00000000e+00],\n",
       "       [1.20120120e-01, 3.68385346e-01, 2.69230769e-01],\n",
       "       [6.60660661e-02, 2.42876526e-01, 1.34615385e-01],\n",
       "       [0.00000000e+00, 0.00000000e+00, 0.00000000e+00],\n",
       "       [0.00000000e+00, 0.00000000e+00, 0.00000000e+00],\n",
       "       [0.00000000e+00, 0.00000000e+00, 0.00000000e+00],\n",
       "       [1.78678679e-01, 4.88466757e-01, 5.00000000e-01],\n",
       "       [1.50150150e-03, 2.03527815e-03, 0.00000000e+00],\n",
       "       [0.00000000e+00, 0.00000000e+00, 0.00000000e+00],\n",
       "       [7.52252252e-01, 3.56852103e-01, 8.46153846e-01],\n",
       "       [0.00000000e+00, 0.00000000e+00, 0.00000000e+00],\n",
       "       [0.00000000e+00, 0.00000000e+00, 0.00000000e+00],\n",
       "       [0.00000000e+00, 0.00000000e+00, 0.00000000e+00],\n",
       "       [0.00000000e+00, 6.78426052e-04, 0.00000000e+00],\n",
       "       [5.55555556e-02, 2.23202171e-01, 9.61538462e-02]])"
      ]
     },
     "execution_count": 30,
     "metadata": {},
     "output_type": "execute_result"
    }
   ],
   "source": [
    "print (X_test)\n",
    "min_max_scaler = MinMaxScaler()\n",
    "X_train_minmax = min_max_scaler.fit_transform(X_train)\n",
    "X_test_minmax = min_max_scaler.transform(X_test)\n",
    "X_test_minmax "
   ]
  },
  {
   "cell_type": "code",
   "execution_count": null,
   "metadata": {},
   "outputs": [],
   "source": []
  },
  {
   "cell_type": "markdown",
   "metadata": {},
   "source": [
    "## RBF\n"
   ]
  },
  {
   "cell_type": "code",
   "execution_count": 31,
   "metadata": {},
   "outputs": [],
   "source": [
    "svr_rbf = SVR(kernel='rbf', C= 100, gamma = 0.1)"
   ]
  },
  {
   "cell_type": "code",
   "execution_count": 32,
   "metadata": {},
   "outputs": [
    {
     "data": {
      "text/plain": [
       "SVR(C=100, cache_size=200, coef0=0.0, degree=3, epsilon=0.1, gamma=0.1,\n",
       "    kernel='rbf', max_iter=-1, shrinking=True, tol=0.001, verbose=False)"
      ]
     },
     "execution_count": 32,
     "metadata": {},
     "output_type": "execute_result"
    }
   ],
   "source": [
    "svr_rbf.fit(X_train,y_train)"
   ]
  },
  {
   "cell_type": "code",
   "execution_count": 33,
   "metadata": {},
   "outputs": [
    {
     "data": {
      "text/plain": [
       "array([395.07544576, 639.32215297,   1.09999882,  26.2813348 ,\n",
       "         1.09999882, 779.22321973, 779.22321973, 779.22321973,\n",
       "       779.22321973, 774.24451289, 779.22321973, 776.98979912,\n",
       "       687.95870207, 779.22321973, 779.22321973,   1.09999882,\n",
       "         1.09999882,   1.09999882, 779.22321973, 334.1844697 ,\n",
       "         1.09999882, 779.22321973,   1.09999882,   1.09999882,\n",
       "         1.09999882,  26.2813348 , 779.27852817])"
      ]
     },
     "execution_count": 33,
     "metadata": {},
     "output_type": "execute_result"
    }
   ],
   "source": [
    "y_predict = svr_rbf.predict(X_test)\n",
    "y_predict"
   ]
  },
  {
   "cell_type": "code",
   "execution_count": 34,
   "metadata": {},
   "outputs": [
    {
     "data": {
      "text/plain": [
       "4574.073357873315"
      ]
     },
     "execution_count": 34,
     "metadata": {},
     "output_type": "execute_result"
    }
   ],
   "source": [
    "#evaluate model using mse\n",
    "mse = mean_squared_error(y_test,y_predict)\n",
    "#root mean square\n",
    "rmse= np.sqrt(mse)\n",
    "rmse"
   ]
  },
  {
   "cell_type": "markdown",
   "metadata": {},
   "source": [
    "# Linear"
   ]
  },
  {
   "cell_type": "code",
   "execution_count": 35,
   "metadata": {},
   "outputs": [],
   "source": [
    "svr_linear = SVR(kernel='linear', C= 100, gamma = 'auto')"
   ]
  },
  {
   "cell_type": "code",
   "execution_count": 36,
   "metadata": {},
   "outputs": [
    {
     "data": {
      "text/plain": [
       "SVR(C=100, cache_size=200, coef0=0.0, degree=3, epsilon=0.1, gamma='auto',\n",
       "    kernel='linear', max_iter=-1, shrinking=True, tol=0.001, verbose=False)"
      ]
     },
     "execution_count": 36,
     "metadata": {},
     "output_type": "execute_result"
    }
   ],
   "source": [
    "svr_linear.fit(X_train,y_train)"
   ]
  },
  {
   "cell_type": "code",
   "execution_count": 37,
   "metadata": {},
   "outputs": [
    {
     "data": {
      "text/plain": [
       "array([8.17497230e+00, 1.63749211e+02, 1.09967645e+00, 2.86850042e+00,\n",
       "       1.09967645e+00, 1.94140023e+04, 8.38656462e+02, 4.72055408e+03,\n",
       "       2.14573323e+04, 7.46102685e+02, 3.99438944e+03, 1.42835566e+02,\n",
       "       4.18976138e+01, 3.95732089e+03, 2.18927587e+03, 1.09967645e+00,\n",
       "       1.09967645e+00, 1.09967645e+00, 6.41633476e+03, 2.06717262e+01,\n",
       "       1.09967645e+00, 1.39069954e+04, 1.09967645e+00, 1.09967645e+00,\n",
       "       1.09967645e+00, 2.86850042e+00, 1.77319185e+03])"
      ]
     },
     "execution_count": 37,
     "metadata": {},
     "output_type": "execute_result"
    }
   ],
   "source": [
    "y_predict = svr_linear.predict(X_test)\n",
    "y_predict"
   ]
  },
  {
   "cell_type": "code",
   "execution_count": 38,
   "metadata": {},
   "outputs": [
    {
     "data": {
      "text/plain": [
       "1814.5694115942076"
      ]
     },
     "execution_count": 38,
     "metadata": {},
     "output_type": "execute_result"
    }
   ],
   "source": [
    "#evaluate model using mse\n",
    "mse = mean_squared_error(y_test,y_predict)\n",
    "#root mean square\n",
    "rmse= np.sqrt(mse)\n",
    "rmse"
   ]
  },
  {
   "cell_type": "markdown",
   "metadata": {},
   "source": [
    "# Polynomial\n"
   ]
  },
  {
   "cell_type": "code",
   "execution_count": 39,
   "metadata": {},
   "outputs": [],
   "source": [
    "svr_poly = SVR(kernel='poly', C= 100, gamma = 'auto',degree = 2)"
   ]
  },
  {
   "cell_type": "code",
   "execution_count": null,
   "metadata": {},
   "outputs": [],
   "source": [
    "svr_poly.fit(X_train,y_train)"
   ]
  },
  {
   "cell_type": "code",
   "execution_count": null,
   "metadata": {},
   "outputs": [],
   "source": [
    "y_predict = svr_poly.predict(X_test)\n",
    "y_predict\n"
   ]
  },
  {
   "cell_type": "code",
   "execution_count": null,
   "metadata": {},
   "outputs": [],
   "source": [
    "#evaluate model using mse\n",
    "mse = mean_squared_error(y_test,y_predict)\n",
    "#root mean square\n",
    "rmse= np.sqrt(mse)\n",
    "rmse"
   ]
  },
  {
   "cell_type": "code",
   "execution_count": null,
   "metadata": {},
   "outputs": [],
   "source": []
  }
 ],
 "metadata": {
  "kernelspec": {
   "display_name": "Python 3",
   "language": "python",
   "name": "python3"
  },
  "language_info": {
   "codemirror_mode": {
    "name": "ipython",
    "version": 3
   },
   "file_extension": ".py",
   "mimetype": "text/x-python",
   "name": "python",
   "nbconvert_exporter": "python",
   "pygments_lexer": "ipython3",
   "version": "3.7.4"
  }
 },
 "nbformat": 4,
 "nbformat_minor": 2
}

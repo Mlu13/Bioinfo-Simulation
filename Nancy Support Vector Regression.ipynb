{
 "cells": [
  {
   "cell_type": "code",
   "execution_count": 1,
   "metadata": {},
   "outputs": [],
   "source": [
    "import numpy as np\n",
    "import pandas as pd     \n",
    "import matplotlib as mpl\n",
    "import matplotlib.pyplot as plt\n",
    "import seaborn as sns    \n",
    "from pandas.api.types import CategoricalDtype\n",
    "from sklearn.preprocessing import Imputer, MinMaxScaler\n",
    "from sklearn.svm import SVC\n",
    "from sklearn.metrics import confusion_matrix, accuracy_score, classification_report, roc_curve, auc\n",
    "from sklearn.model_selection import train_test_split, GridSearchCV, cross_val_score\n",
    "from sklearn.svm import SVR\n",
    "from sklearn.metrics import r2_score,mean_squared_error, mean_absolute_error"
   ]
  },
  {
   "cell_type": "code",
   "execution_count": 2,
   "metadata": {},
   "outputs": [],
   "source": [
    "df = pd.read_csv(\"latimes-county-totals.csv\")"
   ]
  },
  {
   "cell_type": "code",
   "execution_count": 3,
   "metadata": {
    "scrolled": true
   },
   "outputs": [
    {
     "data": {
      "text/html": [
       "<div>\n",
       "<style scoped>\n",
       "    .dataframe tbody tr th:only-of-type {\n",
       "        vertical-align: middle;\n",
       "    }\n",
       "\n",
       "    .dataframe tbody tr th {\n",
       "        vertical-align: top;\n",
       "    }\n",
       "\n",
       "    .dataframe thead th {\n",
       "        text-align: right;\n",
       "    }\n",
       "</style>\n",
       "<table border=\"1\" class=\"dataframe\">\n",
       "  <thead>\n",
       "    <tr style=\"text-align: right;\">\n",
       "      <th></th>\n",
       "      <th>date</th>\n",
       "      <th>county</th>\n",
       "      <th>fips</th>\n",
       "      <th>confirmed_cases</th>\n",
       "      <th>deaths</th>\n",
       "      <th>new_confirmed_cases</th>\n",
       "      <th>new_deaths</th>\n",
       "    </tr>\n",
       "  </thead>\n",
       "  <tbody>\n",
       "    <tr>\n",
       "      <td>0</td>\n",
       "      <td>2020-01-26</td>\n",
       "      <td>Alameda</td>\n",
       "      <td>1</td>\n",
       "      <td>0</td>\n",
       "      <td>0</td>\n",
       "      <td>NaN</td>\n",
       "      <td>NaN</td>\n",
       "    </tr>\n",
       "    <tr>\n",
       "      <td>1</td>\n",
       "      <td>2020-01-31</td>\n",
       "      <td>Alameda</td>\n",
       "      <td>1</td>\n",
       "      <td>0</td>\n",
       "      <td>0</td>\n",
       "      <td>0.0</td>\n",
       "      <td>0.0</td>\n",
       "    </tr>\n",
       "    <tr>\n",
       "      <td>2</td>\n",
       "      <td>2020-02-02</td>\n",
       "      <td>Alameda</td>\n",
       "      <td>1</td>\n",
       "      <td>0</td>\n",
       "      <td>0</td>\n",
       "      <td>0.0</td>\n",
       "      <td>0.0</td>\n",
       "    </tr>\n",
       "    <tr>\n",
       "      <td>3</td>\n",
       "      <td>2020-02-20</td>\n",
       "      <td>Alameda</td>\n",
       "      <td>1</td>\n",
       "      <td>0</td>\n",
       "      <td>0</td>\n",
       "      <td>0.0</td>\n",
       "      <td>0.0</td>\n",
       "    </tr>\n",
       "    <tr>\n",
       "      <td>4</td>\n",
       "      <td>2020-02-21</td>\n",
       "      <td>Alameda</td>\n",
       "      <td>1</td>\n",
       "      <td>0</td>\n",
       "      <td>0</td>\n",
       "      <td>0.0</td>\n",
       "      <td>0.0</td>\n",
       "    </tr>\n",
       "  </tbody>\n",
       "</table>\n",
       "</div>"
      ],
      "text/plain": [
       "         date   county  fips  confirmed_cases  deaths  new_confirmed_cases  \\\n",
       "0  2020-01-26  Alameda     1                0       0                  NaN   \n",
       "1  2020-01-31  Alameda     1                0       0                  0.0   \n",
       "2  2020-02-02  Alameda     1                0       0                  0.0   \n",
       "3  2020-02-20  Alameda     1                0       0                  0.0   \n",
       "4  2020-02-21  Alameda     1                0       0                  0.0   \n",
       "\n",
       "   new_deaths  \n",
       "0         NaN  \n",
       "1         0.0  \n",
       "2         0.0  \n",
       "3         0.0  \n",
       "4         0.0  "
      ]
     },
     "execution_count": 3,
     "metadata": {},
     "output_type": "execute_result"
    }
   ],
   "source": [
    "df.head()"
   ]
  },
  {
   "cell_type": "code",
   "execution_count": 4,
   "metadata": {},
   "outputs": [
    {
     "data": {
      "text/html": [
       "<div>\n",
       "<style scoped>\n",
       "    .dataframe tbody tr th:only-of-type {\n",
       "        vertical-align: middle;\n",
       "    }\n",
       "\n",
       "    .dataframe tbody tr th {\n",
       "        vertical-align: top;\n",
       "    }\n",
       "\n",
       "    .dataframe thead th {\n",
       "        text-align: right;\n",
       "    }\n",
       "</style>\n",
       "<table border=\"1\" class=\"dataframe\">\n",
       "  <thead>\n",
       "    <tr style=\"text-align: right;\">\n",
       "      <th></th>\n",
       "      <th>fips</th>\n",
       "      <th>confirmed_cases</th>\n",
       "      <th>deaths</th>\n",
       "      <th>new_confirmed_cases</th>\n",
       "      <th>new_deaths</th>\n",
       "    </tr>\n",
       "  </thead>\n",
       "  <tbody>\n",
       "    <tr>\n",
       "      <td>count</td>\n",
       "      <td>3152.000000</td>\n",
       "      <td>3152.000000</td>\n",
       "      <td>3152.000000</td>\n",
       "      <td>3094.000000</td>\n",
       "      <td>3094.000000</td>\n",
       "    </tr>\n",
       "    <tr>\n",
       "      <td>mean</td>\n",
       "      <td>59.317259</td>\n",
       "      <td>363.570749</td>\n",
       "      <td>12.736041</td>\n",
       "      <td>18.138009</td>\n",
       "      <td>0.739173</td>\n",
       "    </tr>\n",
       "    <tr>\n",
       "      <td>std</td>\n",
       "      <td>32.983935</td>\n",
       "      <td>1646.535743</td>\n",
       "      <td>73.904410</td>\n",
       "      <td>82.994716</td>\n",
       "      <td>4.295371</td>\n",
       "    </tr>\n",
       "    <tr>\n",
       "      <td>min</td>\n",
       "      <td>1.000000</td>\n",
       "      <td>0.000000</td>\n",
       "      <td>0.000000</td>\n",
       "      <td>-2.000000</td>\n",
       "      <td>-1.000000</td>\n",
       "    </tr>\n",
       "    <tr>\n",
       "      <td>25%</td>\n",
       "      <td>29.000000</td>\n",
       "      <td>3.000000</td>\n",
       "      <td>0.000000</td>\n",
       "      <td>0.000000</td>\n",
       "      <td>0.000000</td>\n",
       "    </tr>\n",
       "    <tr>\n",
       "      <td>50%</td>\n",
       "      <td>63.000000</td>\n",
       "      <td>20.000000</td>\n",
       "      <td>0.000000</td>\n",
       "      <td>1.000000</td>\n",
       "      <td>0.000000</td>\n",
       "    </tr>\n",
       "    <tr>\n",
       "      <td>75%</td>\n",
       "      <td>85.000000</td>\n",
       "      <td>155.000000</td>\n",
       "      <td>3.000000</td>\n",
       "      <td>9.000000</td>\n",
       "      <td>0.000000</td>\n",
       "    </tr>\n",
       "    <tr>\n",
       "      <td>max</td>\n",
       "      <td>115.000000</td>\n",
       "      <td>26238.000000</td>\n",
       "      <td>1260.000000</td>\n",
       "      <td>1505.000000</td>\n",
       "      <td>76.000000</td>\n",
       "    </tr>\n",
       "  </tbody>\n",
       "</table>\n",
       "</div>"
      ],
      "text/plain": [
       "              fips  confirmed_cases       deaths  new_confirmed_cases  \\\n",
       "count  3152.000000      3152.000000  3152.000000          3094.000000   \n",
       "mean     59.317259       363.570749    12.736041            18.138009   \n",
       "std      32.983935      1646.535743    73.904410            82.994716   \n",
       "min       1.000000         0.000000     0.000000            -2.000000   \n",
       "25%      29.000000         3.000000     0.000000             0.000000   \n",
       "50%      63.000000        20.000000     0.000000             1.000000   \n",
       "75%      85.000000       155.000000     3.000000             9.000000   \n",
       "max     115.000000     26238.000000  1260.000000          1505.000000   \n",
       "\n",
       "        new_deaths  \n",
       "count  3094.000000  \n",
       "mean      0.739173  \n",
       "std       4.295371  \n",
       "min      -1.000000  \n",
       "25%       0.000000  \n",
       "50%       0.000000  \n",
       "75%       0.000000  \n",
       "max      76.000000  "
      ]
     },
     "execution_count": 4,
     "metadata": {},
     "output_type": "execute_result"
    }
   ],
   "source": [
    "df.describe()"
   ]
  },
  {
   "cell_type": "code",
   "execution_count": 5,
   "metadata": {
    "scrolled": true
   },
   "outputs": [
    {
     "name": "stdout",
     "output_type": "stream",
     "text": [
      "<class 'pandas.core.frame.DataFrame'>\n",
      "RangeIndex: 3152 entries, 0 to 3151\n",
      "Data columns (total 7 columns):\n",
      "date                   3152 non-null object\n",
      "county                 3152 non-null object\n",
      "fips                   3152 non-null int64\n",
      "confirmed_cases        3152 non-null int64\n",
      "deaths                 3152 non-null int64\n",
      "new_confirmed_cases    3094 non-null float64\n",
      "new_deaths             3094 non-null float64\n",
      "dtypes: float64(2), int64(3), object(2)\n",
      "memory usage: 172.5+ KB\n"
     ]
    }
   ],
   "source": [
    "df.info()"
   ]
  },
  {
   "cell_type": "code",
   "execution_count": 6,
   "metadata": {},
   "outputs": [
    {
     "data": {
      "text/html": [
       "<div>\n",
       "<style scoped>\n",
       "    .dataframe tbody tr th:only-of-type {\n",
       "        vertical-align: middle;\n",
       "    }\n",
       "\n",
       "    .dataframe tbody tr th {\n",
       "        vertical-align: top;\n",
       "    }\n",
       "\n",
       "    .dataframe thead th {\n",
       "        text-align: right;\n",
       "    }\n",
       "</style>\n",
       "<table border=\"1\" class=\"dataframe\">\n",
       "  <thead>\n",
       "    <tr style=\"text-align: right;\">\n",
       "      <th></th>\n",
       "      <th>date</th>\n",
       "      <th>county</th>\n",
       "      <th>fips</th>\n",
       "      <th>confirmed_cases</th>\n",
       "      <th>deaths</th>\n",
       "      <th>new_confirmed_cases</th>\n",
       "      <th>new_deaths</th>\n",
       "    </tr>\n",
       "  </thead>\n",
       "  <tbody>\n",
       "    <tr>\n",
       "      <td>867</td>\n",
       "      <td>2020-01-26</td>\n",
       "      <td>Los Angeles</td>\n",
       "      <td>37</td>\n",
       "      <td>1</td>\n",
       "      <td>0</td>\n",
       "      <td>NaN</td>\n",
       "      <td>NaN</td>\n",
       "    </tr>\n",
       "    <tr>\n",
       "      <td>868</td>\n",
       "      <td>2020-01-27</td>\n",
       "      <td>Los Angeles</td>\n",
       "      <td>37</td>\n",
       "      <td>1</td>\n",
       "      <td>0</td>\n",
       "      <td>0.0</td>\n",
       "      <td>0.0</td>\n",
       "    </tr>\n",
       "    <tr>\n",
       "      <td>869</td>\n",
       "      <td>2020-01-28</td>\n",
       "      <td>Los Angeles</td>\n",
       "      <td>37</td>\n",
       "      <td>1</td>\n",
       "      <td>0</td>\n",
       "      <td>0.0</td>\n",
       "      <td>0.0</td>\n",
       "    </tr>\n",
       "    <tr>\n",
       "      <td>870</td>\n",
       "      <td>2020-01-29</td>\n",
       "      <td>Los Angeles</td>\n",
       "      <td>37</td>\n",
       "      <td>1</td>\n",
       "      <td>0</td>\n",
       "      <td>0.0</td>\n",
       "      <td>0.0</td>\n",
       "    </tr>\n",
       "    <tr>\n",
       "      <td>871</td>\n",
       "      <td>2020-01-30</td>\n",
       "      <td>Los Angeles</td>\n",
       "      <td>37</td>\n",
       "      <td>1</td>\n",
       "      <td>0</td>\n",
       "      <td>0.0</td>\n",
       "      <td>0.0</td>\n",
       "    </tr>\n",
       "  </tbody>\n",
       "</table>\n",
       "</div>"
      ],
      "text/plain": [
       "           date       county  fips  confirmed_cases  deaths  \\\n",
       "867  2020-01-26  Los Angeles    37                1       0   \n",
       "868  2020-01-27  Los Angeles    37                1       0   \n",
       "869  2020-01-28  Los Angeles    37                1       0   \n",
       "870  2020-01-29  Los Angeles    37                1       0   \n",
       "871  2020-01-30  Los Angeles    37                1       0   \n",
       "\n",
       "     new_confirmed_cases  new_deaths  \n",
       "867                  NaN         NaN  \n",
       "868                  0.0         0.0  \n",
       "869                  0.0         0.0  \n",
       "870                  0.0         0.0  \n",
       "871                  0.0         0.0  "
      ]
     },
     "execution_count": 6,
     "metadata": {},
     "output_type": "execute_result"
    }
   ],
   "source": [
    "df2 = df.copy(deep=True)\n",
    "df_la = df2[df2['county'] == 'Los Angeles']\n",
    "df_la.head()"
   ]
  },
  {
   "cell_type": "code",
   "execution_count": 7,
   "metadata": {},
   "outputs": [
    {
     "name": "stdout",
     "output_type": "stream",
     "text": [
      "<class 'pandas.core.frame.DataFrame'>\n",
      "Int64Index: 100 entries, 867 to 966\n",
      "Data columns (total 6 columns):\n",
      "date                   100 non-null object\n",
      "county                 100 non-null object\n",
      "confirmed_cases        100 non-null int64\n",
      "deaths                 100 non-null int64\n",
      "new_confirmed_cases    99 non-null float64\n",
      "new_deaths             99 non-null float64\n",
      "dtypes: float64(2), int64(2), object(2)\n",
      "memory usage: 5.5+ KB\n",
      "None\n"
     ]
    },
    {
     "data": {
      "text/html": [
       "<div>\n",
       "<style scoped>\n",
       "    .dataframe tbody tr th:only-of-type {\n",
       "        vertical-align: middle;\n",
       "    }\n",
       "\n",
       "    .dataframe tbody tr th {\n",
       "        vertical-align: top;\n",
       "    }\n",
       "\n",
       "    .dataframe thead th {\n",
       "        text-align: right;\n",
       "    }\n",
       "</style>\n",
       "<table border=\"1\" class=\"dataframe\">\n",
       "  <thead>\n",
       "    <tr style=\"text-align: right;\">\n",
       "      <th></th>\n",
       "      <th>confirmed_cases</th>\n",
       "      <th>deaths</th>\n",
       "      <th>new_confirmed_cases</th>\n",
       "      <th>new_deaths</th>\n",
       "    </tr>\n",
       "  </thead>\n",
       "  <tbody>\n",
       "    <tr>\n",
       "      <td>count</td>\n",
       "      <td>100.000000</td>\n",
       "      <td>100.000000</td>\n",
       "      <td>99.000000</td>\n",
       "      <td>99.000000</td>\n",
       "    </tr>\n",
       "    <tr>\n",
       "      <td>mean</td>\n",
       "      <td>4806.740000</td>\n",
       "      <td>200.350000</td>\n",
       "      <td>265.020202</td>\n",
       "      <td>12.727273</td>\n",
       "    </tr>\n",
       "    <tr>\n",
       "      <td>std</td>\n",
       "      <td>7579.479313</td>\n",
       "      <td>356.384181</td>\n",
       "      <td>370.617686</td>\n",
       "      <td>19.588011</td>\n",
       "    </tr>\n",
       "    <tr>\n",
       "      <td>min</td>\n",
       "      <td>1.000000</td>\n",
       "      <td>0.000000</td>\n",
       "      <td>0.000000</td>\n",
       "      <td>0.000000</td>\n",
       "    </tr>\n",
       "    <tr>\n",
       "      <td>25%</td>\n",
       "      <td>1.000000</td>\n",
       "      <td>0.000000</td>\n",
       "      <td>0.000000</td>\n",
       "      <td>0.000000</td>\n",
       "    </tr>\n",
       "    <tr>\n",
       "      <td>50%</td>\n",
       "      <td>81.500000</td>\n",
       "      <td>1.000000</td>\n",
       "      <td>25.000000</td>\n",
       "      <td>0.000000</td>\n",
       "    </tr>\n",
       "    <tr>\n",
       "      <td>75%</td>\n",
       "      <td>8101.250000</td>\n",
       "      <td>229.750000</td>\n",
       "      <td>480.000000</td>\n",
       "      <td>21.500000</td>\n",
       "    </tr>\n",
       "    <tr>\n",
       "      <td>max</td>\n",
       "      <td>26238.000000</td>\n",
       "      <td>1260.000000</td>\n",
       "      <td>1505.000000</td>\n",
       "      <td>76.000000</td>\n",
       "    </tr>\n",
       "  </tbody>\n",
       "</table>\n",
       "</div>"
      ],
      "text/plain": [
       "       confirmed_cases       deaths  new_confirmed_cases  new_deaths\n",
       "count       100.000000   100.000000            99.000000   99.000000\n",
       "mean       4806.740000   200.350000           265.020202   12.727273\n",
       "std        7579.479313   356.384181           370.617686   19.588011\n",
       "min           1.000000     0.000000             0.000000    0.000000\n",
       "25%           1.000000     0.000000             0.000000    0.000000\n",
       "50%          81.500000     1.000000            25.000000    0.000000\n",
       "75%        8101.250000   229.750000           480.000000   21.500000\n",
       "max       26238.000000  1260.000000          1505.000000   76.000000"
      ]
     },
     "execution_count": 7,
     "metadata": {},
     "output_type": "execute_result"
    }
   ],
   "source": [
    "df_la = df_la.drop(labels=['fips'], axis=1)\n",
    "print (df_la.info())\n",
    "df_la.describe()"
   ]
  },
  {
   "cell_type": "code",
   "execution_count": 8,
   "metadata": {},
   "outputs": [],
   "source": [
    "#replace the only two NAs in the first day of new_confirmed_cases and new_deaths to 0\n",
    "df_la = df_la.fillna(0)"
   ]
  },
  {
   "cell_type": "code",
   "execution_count": 9,
   "metadata": {},
   "outputs": [],
   "source": [
    "days = list(range(1,len(df_la)+1))\n",
    "df_la['culm_day'] = days"
   ]
  },
  {
   "cell_type": "code",
   "execution_count": 10,
   "metadata": {
    "scrolled": true
   },
   "outputs": [
    {
     "data": {
      "text/html": [
       "<div>\n",
       "<style scoped>\n",
       "    .dataframe tbody tr th:only-of-type {\n",
       "        vertical-align: middle;\n",
       "    }\n",
       "\n",
       "    .dataframe tbody tr th {\n",
       "        vertical-align: top;\n",
       "    }\n",
       "\n",
       "    .dataframe thead th {\n",
       "        text-align: right;\n",
       "    }\n",
       "</style>\n",
       "<table border=\"1\" class=\"dataframe\">\n",
       "  <thead>\n",
       "    <tr style=\"text-align: right;\">\n",
       "      <th></th>\n",
       "      <th>date</th>\n",
       "      <th>county</th>\n",
       "      <th>confirmed_cases</th>\n",
       "      <th>deaths</th>\n",
       "      <th>new_confirmed_cases</th>\n",
       "      <th>new_deaths</th>\n",
       "      <th>culm_day</th>\n",
       "    </tr>\n",
       "  </thead>\n",
       "  <tbody>\n",
       "    <tr>\n",
       "      <td>867</td>\n",
       "      <td>2020-01-26</td>\n",
       "      <td>Los Angeles</td>\n",
       "      <td>1</td>\n",
       "      <td>0</td>\n",
       "      <td>0.0</td>\n",
       "      <td>0.0</td>\n",
       "      <td>1</td>\n",
       "    </tr>\n",
       "    <tr>\n",
       "      <td>868</td>\n",
       "      <td>2020-01-27</td>\n",
       "      <td>Los Angeles</td>\n",
       "      <td>1</td>\n",
       "      <td>0</td>\n",
       "      <td>0.0</td>\n",
       "      <td>0.0</td>\n",
       "      <td>2</td>\n",
       "    </tr>\n",
       "    <tr>\n",
       "      <td>869</td>\n",
       "      <td>2020-01-28</td>\n",
       "      <td>Los Angeles</td>\n",
       "      <td>1</td>\n",
       "      <td>0</td>\n",
       "      <td>0.0</td>\n",
       "      <td>0.0</td>\n",
       "      <td>3</td>\n",
       "    </tr>\n",
       "    <tr>\n",
       "      <td>870</td>\n",
       "      <td>2020-01-29</td>\n",
       "      <td>Los Angeles</td>\n",
       "      <td>1</td>\n",
       "      <td>0</td>\n",
       "      <td>0.0</td>\n",
       "      <td>0.0</td>\n",
       "      <td>4</td>\n",
       "    </tr>\n",
       "    <tr>\n",
       "      <td>871</td>\n",
       "      <td>2020-01-30</td>\n",
       "      <td>Los Angeles</td>\n",
       "      <td>1</td>\n",
       "      <td>0</td>\n",
       "      <td>0.0</td>\n",
       "      <td>0.0</td>\n",
       "      <td>5</td>\n",
       "    </tr>\n",
       "  </tbody>\n",
       "</table>\n",
       "</div>"
      ],
      "text/plain": [
       "           date       county  confirmed_cases  deaths  new_confirmed_cases  \\\n",
       "867  2020-01-26  Los Angeles                1       0                  0.0   \n",
       "868  2020-01-27  Los Angeles                1       0                  0.0   \n",
       "869  2020-01-28  Los Angeles                1       0                  0.0   \n",
       "870  2020-01-29  Los Angeles                1       0                  0.0   \n",
       "871  2020-01-30  Los Angeles                1       0                  0.0   \n",
       "\n",
       "     new_deaths  culm_day  \n",
       "867         0.0         1  \n",
       "868         0.0         2  \n",
       "869         0.0         3  \n",
       "870         0.0         4  \n",
       "871         0.0         5  "
      ]
     },
     "execution_count": 10,
     "metadata": {},
     "output_type": "execute_result"
    }
   ],
   "source": [
    "df_la.head()"
   ]
  },
  {
   "cell_type": "code",
   "execution_count": 11,
   "metadata": {
    "scrolled": false
   },
   "outputs": [
    {
     "data": {
      "text/plain": [
       "Index(['date', 'county', 'confirmed_cases', 'deaths', 'new_confirmed_cases',\n",
       "       'new_deaths', 'culm_day'],\n",
       "      dtype='object')"
      ]
     },
     "execution_count": 11,
     "metadata": {},
     "output_type": "execute_result"
    }
   ],
   "source": [
    "df_la.columns"
   ]
  },
  {
   "cell_type": "code",
   "execution_count": 12,
   "metadata": {},
   "outputs": [
    {
     "name": "stdout",
     "output_type": "stream",
     "text": [
      "<class 'pandas.core.frame.DataFrame'>\n",
      "Int64Index: 100 entries, 867 to 966\n",
      "Data columns (total 5 columns):\n",
      "confirmed_cases        100 non-null int64\n",
      "deaths                 100 non-null int64\n",
      "new_confirmed_cases    100 non-null float64\n",
      "new_deaths             100 non-null float64\n",
      "culm_day               100 non-null int64\n",
      "dtypes: float64(2), int64(3)\n",
      "memory usage: 4.7 KB\n",
      "None\n"
     ]
    },
    {
     "data": {
      "text/html": [
       "<div>\n",
       "<style scoped>\n",
       "    .dataframe tbody tr th:only-of-type {\n",
       "        vertical-align: middle;\n",
       "    }\n",
       "\n",
       "    .dataframe tbody tr th {\n",
       "        vertical-align: top;\n",
       "    }\n",
       "\n",
       "    .dataframe thead th {\n",
       "        text-align: right;\n",
       "    }\n",
       "</style>\n",
       "<table border=\"1\" class=\"dataframe\">\n",
       "  <thead>\n",
       "    <tr style=\"text-align: right;\">\n",
       "      <th></th>\n",
       "      <th>confirmed_cases</th>\n",
       "      <th>deaths</th>\n",
       "      <th>new_confirmed_cases</th>\n",
       "      <th>new_deaths</th>\n",
       "      <th>culm_day</th>\n",
       "    </tr>\n",
       "  </thead>\n",
       "  <tbody>\n",
       "    <tr>\n",
       "      <td>count</td>\n",
       "      <td>100.000000</td>\n",
       "      <td>100.000000</td>\n",
       "      <td>100.000000</td>\n",
       "      <td>100.000000</td>\n",
       "      <td>100.000000</td>\n",
       "    </tr>\n",
       "    <tr>\n",
       "      <td>mean</td>\n",
       "      <td>4806.740000</td>\n",
       "      <td>200.350000</td>\n",
       "      <td>262.370000</td>\n",
       "      <td>12.600000</td>\n",
       "      <td>50.500000</td>\n",
       "    </tr>\n",
       "    <tr>\n",
       "      <td>std</td>\n",
       "      <td>7579.479313</td>\n",
       "      <td>356.384181</td>\n",
       "      <td>369.692273</td>\n",
       "      <td>19.530344</td>\n",
       "      <td>29.011492</td>\n",
       "    </tr>\n",
       "    <tr>\n",
       "      <td>min</td>\n",
       "      <td>1.000000</td>\n",
       "      <td>0.000000</td>\n",
       "      <td>0.000000</td>\n",
       "      <td>0.000000</td>\n",
       "      <td>1.000000</td>\n",
       "    </tr>\n",
       "    <tr>\n",
       "      <td>25%</td>\n",
       "      <td>1.000000</td>\n",
       "      <td>0.000000</td>\n",
       "      <td>0.000000</td>\n",
       "      <td>0.000000</td>\n",
       "      <td>25.750000</td>\n",
       "    </tr>\n",
       "    <tr>\n",
       "      <td>50%</td>\n",
       "      <td>81.500000</td>\n",
       "      <td>1.000000</td>\n",
       "      <td>20.000000</td>\n",
       "      <td>0.000000</td>\n",
       "      <td>50.500000</td>\n",
       "    </tr>\n",
       "    <tr>\n",
       "      <td>75%</td>\n",
       "      <td>8101.250000</td>\n",
       "      <td>229.750000</td>\n",
       "      <td>474.500000</td>\n",
       "      <td>20.750000</td>\n",
       "      <td>75.250000</td>\n",
       "    </tr>\n",
       "    <tr>\n",
       "      <td>max</td>\n",
       "      <td>26238.000000</td>\n",
       "      <td>1260.000000</td>\n",
       "      <td>1505.000000</td>\n",
       "      <td>76.000000</td>\n",
       "      <td>100.000000</td>\n",
       "    </tr>\n",
       "  </tbody>\n",
       "</table>\n",
       "</div>"
      ],
      "text/plain": [
       "       confirmed_cases       deaths  new_confirmed_cases  new_deaths  \\\n",
       "count       100.000000   100.000000           100.000000  100.000000   \n",
       "mean       4806.740000   200.350000           262.370000   12.600000   \n",
       "std        7579.479313   356.384181           369.692273   19.530344   \n",
       "min           1.000000     0.000000             0.000000    0.000000   \n",
       "25%           1.000000     0.000000             0.000000    0.000000   \n",
       "50%          81.500000     1.000000            20.000000    0.000000   \n",
       "75%        8101.250000   229.750000           474.500000   20.750000   \n",
       "max       26238.000000  1260.000000          1505.000000   76.000000   \n",
       "\n",
       "         culm_day  \n",
       "count  100.000000  \n",
       "mean    50.500000  \n",
       "std     29.011492  \n",
       "min      1.000000  \n",
       "25%     25.750000  \n",
       "50%     50.500000  \n",
       "75%     75.250000  \n",
       "max    100.000000  "
      ]
     },
     "execution_count": 12,
     "metadata": {},
     "output_type": "execute_result"
    }
   ],
   "source": [
    "df_la = df_la.drop(labels=['date','county'], axis=1)\n",
    "print (df_la.info())\n",
    "df_la.describe()"
   ]
  },
  {
   "cell_type": "code",
   "execution_count": 13,
   "metadata": {
    "scrolled": true
   },
   "outputs": [
    {
     "name": "stdout",
     "output_type": "stream",
     "text": [
      "     confirmed_cases  deaths  new_confirmed_cases  new_deaths  culm_day\n",
      "867                1       0                  0.0         0.0         1\n",
      "868                1       0                  0.0         0.0         2\n",
      "869                1       0                  0.0         0.0         3\n",
      "870                1       0                  0.0         0.0         4\n",
      "871                1       0                  0.0         0.0         5\n",
      "..               ...     ...                  ...         ...       ...\n",
      "962            23233    1119                711.0        54.0        96\n",
      "963            24262    1174               1029.0        55.0        97\n",
      "964            24936    1212                674.0        38.0        98\n",
      "965            25699    1231                763.0        19.0        99\n",
      "966            26238    1260                539.0        29.0       100\n",
      "\n",
      "[100 rows x 5 columns]\n"
     ]
    }
   ],
   "source": [
    "print(df_la)"
   ]
  },
  {
   "cell_type": "code",
   "execution_count": 14,
   "metadata": {
    "scrolled": true
   },
   "outputs": [
    {
     "name": "stdout",
     "output_type": "stream",
     "text": [
      "     confirmed_cases  new_confirmed_cases  new_deaths  culm_day\n",
      "867                1                  0.0         0.0         1\n",
      "868                1                  0.0         0.0         2\n",
      "869                1                  0.0         0.0         3\n",
      "870                1                  0.0         0.0         4\n",
      "871                1                  0.0         0.0         5\n",
      "..               ...                  ...         ...       ...\n",
      "962            23233                711.0        54.0        96\n",
      "963            24262               1029.0        55.0        97\n",
      "964            24936                674.0        38.0        98\n",
      "965            25699                763.0        19.0        99\n",
      "966            26238                539.0        29.0       100\n",
      "\n",
      "[100 rows x 4 columns]\n",
      "867       0\n",
      "868       0\n",
      "869       0\n",
      "870       0\n",
      "871       0\n",
      "       ... \n",
      "962    1119\n",
      "963    1174\n",
      "964    1212\n",
      "965    1231\n",
      "966    1260\n",
      "Name: deaths, Length: 100, dtype: int64\n",
      "[   0    1    2    4    5    8   10   13   21   26   32   37   44   54\n",
      "   66   80   93  119  132  147  173  200  225  244  267  300  326  366\n",
      "  405  457  501  577  601  619  666  732  798  850  896  916  948 1004\n",
      " 1065 1119 1174 1212 1231 1260]\n"
     ]
    },
    {
     "data": {
      "text/plain": [
       "array(['confirmed_cases', 'new_confirmed_cases', 'new_deaths', 'culm_day'],\n",
       "      dtype=object)"
      ]
     },
     "execution_count": 14,
     "metadata": {},
     "output_type": "execute_result"
    }
   ],
   "source": [
    "X = df_la.drop(labels=['deaths'], axis=1)\n",
    "print (X)\n",
    "y = df_la.loc[:,'deaths']\n",
    "print (y)\n",
    "print (y.unique())\n",
    "X_col_names = X.columns.values\n",
    "X_col_names"
   ]
  },
  {
   "cell_type": "code",
   "execution_count": 15,
   "metadata": {},
   "outputs": [
    {
     "name": "stdout",
     "output_type": "stream",
     "text": [
      "     confirmed_cases  new_confirmed_cases  new_deaths  culm_day\n",
      "934             4071                543.0        14.0        68\n",
      "966            26238                539.0        29.0       100\n",
      "921              295                 64.0         0.0        55\n",
      "962            23233                711.0        54.0        96\n",
      "955            17567               1118.0        66.0        89\n",
      "..               ...                  ...         ...       ...\n",
      "942             8453                469.0        19.0        76\n",
      "876                1                  0.0         0.0        10\n",
      "939             6944                553.0        26.0        73\n",
      "879                1                  0.0         0.0        13\n",
      "904                1                  0.0         0.0        38\n",
      "\n",
      "[70 rows x 4 columns]\n",
      "70 70\n",
      "30 30\n"
     ]
    }
   ],
   "source": [
    "X_train, X_test, y_train, y_test = train_test_split(X, y, test_size=0.3, random_state=1)\n",
    "print(X_train)\n",
    "print(len(X_train),len(y_train))\n",
    "print(len(X_test),len(y_test))"
   ]
  },
  {
   "cell_type": "code",
   "execution_count": 16,
   "metadata": {},
   "outputs": [
    {
     "name": "stdout",
     "output_type": "stream",
     "text": [
      "     confirmed_cases  new_confirmed_cases  new_deaths  culm_day\n",
      "947            10517                442.0        39.0        81\n",
      "951            12349                298.0        24.0        85\n",
      "900                1                  0.0         0.0        34\n",
      "948            10895                378.0        52.0        82\n",
      "960            21017                557.0        56.0        94\n",
      "884                1                  0.0         0.0        18\n",
      "903                1                  0.0         0.0        37\n",
      "949            11421                526.0        44.0        83\n",
      "936             5325                720.0        26.0        70\n",
      "932             3037                532.0        10.0        66\n",
      "959            20460                893.0        32.0        93\n",
      "906               11                  4.0         0.0        40\n",
      "923              411                 58.0         1.0        57\n",
      "919              192                 45.0         0.0        53\n",
      "918              147                 53.0         0.0        52\n",
      "899                1                  0.0         0.0        33\n",
      "898                1                  0.0         0.0        32\n",
      "911               20                  1.0         0.0        45\n",
      "945             9480                283.0        26.0        79\n",
      "877                1                  0.0         0.0        11\n",
      "869                1                  0.0         0.0         3\n",
      "940             7573                629.0        27.0        74\n",
      "964            24936                674.0        38.0        98\n",
      "929             1818                336.0         6.0        63\n",
      "886                1                  0.0         0.0        20\n",
      "902                1                  0.0         0.0        36\n",
      "961            22522               1505.0        61.0        95\n",
      "894                1                  0.0         0.0        28\n",
      "913               32                  3.0         0.0        47\n",
      "905                7                  6.0         0.0        39\n"
     ]
    },
    {
     "data": {
      "text/plain": [
       "array([[4.00808019e-01, 2.99864315e-01, 5.13157895e-01, 8.08080808e-01],\n",
       "       [4.70633075e-01, 2.02170963e-01, 3.15789474e-01, 8.48484848e-01],\n",
       "       [0.00000000e+00, 0.00000000e+00, 0.00000000e+00, 3.33333333e-01],\n",
       "       [4.15215154e-01, 2.56445047e-01, 6.84210526e-01, 8.18181818e-01],\n",
       "       [8.01006213e-01, 3.77883311e-01, 7.36842105e-01, 9.39393939e-01],\n",
       "       [0.00000000e+00, 0.00000000e+00, 0.00000000e+00, 1.71717172e-01],\n",
       "       [0.00000000e+00, 0.00000000e+00, 0.00000000e+00, 3.63636364e-01],\n",
       "       [4.35263178e-01, 3.56852103e-01, 5.78947368e-01, 8.28282828e-01],\n",
       "       [2.02919541e-01, 4.88466757e-01, 3.42105263e-01, 6.96969697e-01],\n",
       "       [1.15714449e-01, 3.60922659e-01, 1.31578947e-01, 6.56565657e-01],\n",
       "       [7.79776651e-01, 6.05834464e-01, 4.21052632e-01, 9.29292929e-01],\n",
       "       [3.81141137e-04, 2.71370421e-03, 0.00000000e+00, 3.93939394e-01],\n",
       "       [1.56267866e-02, 3.93487110e-02, 1.31578947e-02, 5.65656566e-01],\n",
       "       [7.27979571e-03, 3.05291723e-02, 0.00000000e+00, 5.25252525e-01],\n",
       "       [5.56466059e-03, 3.59565807e-02, 0.00000000e+00, 5.15151515e-01],\n",
       "       [0.00000000e+00, 0.00000000e+00, 0.00000000e+00, 3.23232323e-01],\n",
       "       [0.00000000e+00, 0.00000000e+00, 0.00000000e+00, 3.13131313e-01],\n",
       "       [7.24168159e-04, 6.78426052e-04, 0.00000000e+00, 4.44444444e-01],\n",
       "       [3.61283683e-01, 1.91994573e-01, 3.42105263e-01, 7.87878788e-01],\n",
       "       [0.00000000e+00, 0.00000000e+00, 0.00000000e+00, 1.01010101e-01],\n",
       "       [0.00000000e+00, 0.00000000e+00, 0.00000000e+00, 2.02020202e-02],\n",
       "       [2.88600069e-01, 4.26729986e-01, 3.55263158e-01, 7.37373737e-01],\n",
       "       [9.50375424e-01, 4.57259159e-01, 5.00000000e-01, 9.79797980e-01],\n",
       "       [6.92533445e-02, 2.27951153e-01, 7.89473684e-02, 6.26262626e-01],\n",
       "       [0.00000000e+00, 0.00000000e+00, 0.00000000e+00, 1.91919192e-01],\n",
       "       [0.00000000e+00, 0.00000000e+00, 0.00000000e+00, 3.53535354e-01],\n",
       "       [8.58367954e-01, 1.02103121e+00, 8.02631579e-01, 9.49494949e-01],\n",
       "       [0.00000000e+00, 0.00000000e+00, 0.00000000e+00, 2.72727273e-01],\n",
       "       [1.18153752e-03, 2.03527815e-03, 0.00000000e+00, 4.64646465e-01],\n",
       "       [2.28684682e-04, 4.07055631e-03, 0.00000000e+00, 3.83838384e-01]])"
      ]
     },
     "execution_count": 16,
     "metadata": {},
     "output_type": "execute_result"
    }
   ],
   "source": [
    "print (X_test)\n",
    "min_max_scaler = MinMaxScaler()\n",
    "X_train_minmax = min_max_scaler.fit_transform(X_train)\n",
    "X_test_minmax = min_max_scaler.transform(X_test)\n",
    "X_test_minmax "
   ]
  },
  {
   "cell_type": "code",
   "execution_count": null,
   "metadata": {},
   "outputs": [],
   "source": []
  },
  {
   "cell_type": "markdown",
   "metadata": {},
   "source": [
    "## RBF\n",
    "https://scikit-learn.org/stable/auto_examples/svm/plot_svm_regression.html"
   ]
  },
  {
   "cell_type": "code",
   "execution_count": 17,
   "metadata": {},
   "outputs": [
    {
     "name": "stdout",
     "output_type": "stream",
     "text": [
      "[0.01, 0.1, 1, 'auto', 10, 100]\n"
     ]
    },
    {
     "data": {
      "text/plain": [
       "{'gamma': [0.01, 0.1, 1, 'auto', 10, 100],\n",
       " 'C': array([1.e-02, 1.e-01, 1.e+00, 1.e+01, 1.e+02, 1.e+03])}"
      ]
     },
     "execution_count": 17,
     "metadata": {},
     "output_type": "execute_result"
    }
   ],
   "source": [
    "C_range = 10.0 ** np.arange(-2, 4)\n",
    "gamma_range = [.01, .1, 1, 'auto', 10, 100]\n",
    "print (gamma_range)\n",
    "param_grid = dict(gamma=gamma_range, C=C_range)\n",
    "param_grid"
   ]
  },
  {
   "cell_type": "code",
   "execution_count": 18,
   "metadata": {},
   "outputs": [
    {
     "name": "stderr",
     "output_type": "stream",
     "text": [
      "/Users/nancyzhu/opt/anaconda3/lib/python3.7/site-packages/sklearn/model_selection/_split.py:1978: FutureWarning: The default value of cv will change from 3 to 5 in version 0.22. Specify it explicitly to silence this warning.\n",
      "  warnings.warn(CV_WARNING, FutureWarning)\n",
      "/Users/nancyzhu/opt/anaconda3/lib/python3.7/site-packages/sklearn/model_selection/_search.py:814: DeprecationWarning: The default of the `iid` parameter will change from True to False in version 0.22 and will be removed in 0.24. This will change numeric results when test-set sizes are unequal.\n",
      "  DeprecationWarning)\n"
     ]
    },
    {
     "data": {
      "text/plain": [
       "SVR(C=1000.0, cache_size=1000, coef0=0.0, degree=3, epsilon=0.1, gamma=1,\n",
       "    kernel='rbf', max_iter=-1, shrinking=True, tol=0.001, verbose=False)"
      ]
     },
     "execution_count": 18,
     "metadata": {},
     "output_type": "execute_result"
    }
   ],
   "source": [
    "grid = GridSearchCV(SVR(kernel='rbf', cache_size=1000), param_grid=param_grid)\n",
    "grid.fit(X_train_minmax, y_train)\n",
    "grid.best_estimator_"
   ]
  },
  {
   "cell_type": "code",
   "execution_count": 19,
   "metadata": {},
   "outputs": [
    {
     "name": "stdout",
     "output_type": "stream",
     "text": [
      "[ 3.87441522e+02  4.64741427e+02 -2.13109886e-01  4.48500842e+02\n",
      "  1.00525371e+03 -8.53339118e-03 -1.14401058e-01  4.53147175e+02\n",
      "  1.30419321e+02  6.12443373e+01  9.85594476e+02  1.47649374e-01\n",
      "  6.97770824e+00  4.75829448e+00  4.06505953e+00 -2.26523623e-01\n",
      " -2.32220451e-01  9.23918366e-01  3.01964836e+02  5.43314959e-02\n",
      "  1.37602996e-01  2.13476757e+02  1.21750288e+03  2.85792521e+01\n",
      " -4.10733014e-02 -1.58323444e-01  9.57245399e+02 -1.99386951e-01\n",
      "  1.44743578e+00  4.58663137e-02]\n"
     ]
    }
   ],
   "source": [
    "svr = SVR(C=1000, gamma=1, kernel='rbf', cache_size=1000,degree=3)\n",
    "clf_test = svr.fit(X_train_minmax, y_train)\n",
    "y_pred_minmax_test = svr.predict(X_test_minmax)\n",
    "print(y_pred_minmax_test)"
   ]
  },
  {
   "cell_type": "code",
   "execution_count": 20,
   "metadata": {},
   "outputs": [
    {
     "data": {
      "text/plain": [
       "array([14.45408246])"
      ]
     },
     "execution_count": 20,
     "metadata": {},
     "output_type": "execute_result"
    }
   ],
   "source": [
    "#evaluate model using rmse and mae\n",
    "#rbf mae with minmaxscale\n",
    "mean_absolute_error(y_test, y_pred_minmax_test, multioutput='raw_values')"
   ]
  },
  {
   "cell_type": "code",
   "execution_count": 21,
   "metadata": {},
   "outputs": [
    {
     "data": {
      "text/plain": [
       "34.29078353839602"
      ]
     },
     "execution_count": 21,
     "metadata": {},
     "output_type": "execute_result"
    }
   ],
   "source": [
    "#rbf root mean squared error with minmaxscale\n",
    "mse = mean_squared_error(y_test,y_pred_minmax_test)\n",
    "rmse= np.sqrt(mse)\n",
    "rmse"
   ]
  },
  {
   "cell_type": "code",
   "execution_count": 22,
   "metadata": {},
   "outputs": [
    {
     "data": {
      "text/plain": [
       "array([215.78888263, 215.78888263, 136.42864444, 215.78888263,\n",
       "       215.78888263,  73.81124862, 132.50115839, 215.78888263,\n",
       "       215.78888263, 215.78888263, 215.78888263, 215.76337022,\n",
       "       215.78888263, 215.78888263, 215.78888263, 208.49761824,\n",
       "       147.31424713, 215.78887934, 215.78888263,  85.23713002,\n",
       "        90.74152861, 215.78888263, 215.78888263, 215.78888263,\n",
       "        73.68610674, 132.50112919, 215.78888263,  83.23967107,\n",
       "       215.78888263, 215.78888263])"
      ]
     },
     "execution_count": 22,
     "metadata": {},
     "output_type": "execute_result"
    }
   ],
   "source": [
    "svr_rbf = SVR(C=1000, gamma=1, kernel='rbf', cache_size=1000,degree=3)\n",
    "svr_rbf.fit(X_train,y_train)\n",
    "y_predict = svr_rbf.predict(X_test)\n",
    "y_predict"
   ]
  },
  {
   "cell_type": "code",
   "execution_count": 23,
   "metadata": {},
   "outputs": [
    {
     "data": {
      "text/plain": [
       "array([256.7170244])"
      ]
     },
     "execution_count": 23,
     "metadata": {},
     "output_type": "execute_result"
    }
   ],
   "source": [
    "#rbf mae without mixmaxscale\n",
    "mean_absolute_error(y_test, y_predict, multioutput='raw_values')"
   ]
  },
  {
   "cell_type": "code",
   "execution_count": 24,
   "metadata": {},
   "outputs": [
    {
     "data": {
      "text/plain": [
       "353.6082277331902"
      ]
     },
     "execution_count": 24,
     "metadata": {},
     "output_type": "execute_result"
    }
   ],
   "source": [
    "#rbf rmse without minmascale\n",
    "mse = mean_squared_error(y_test,y_predict)\n",
    "rmse= np.sqrt(mse)\n",
    "rmse"
   ]
  },
  {
   "cell_type": "markdown",
   "metadata": {},
   "source": [
    "# Linear"
   ]
  },
  {
   "cell_type": "code",
   "execution_count": 25,
   "metadata": {},
   "outputs": [
    {
     "name": "stdout",
     "output_type": "stream",
     "text": [
      "[0.01, 0.1, 1, 'auto', 10, 100]\n"
     ]
    },
    {
     "data": {
      "text/plain": [
       "{'gamma': [0.01, 0.1, 1, 'auto', 10, 100],\n",
       " 'C': array([1.e-02, 1.e-01, 1.e+00, 1.e+01, 1.e+02, 1.e+03])}"
      ]
     },
     "execution_count": 25,
     "metadata": {},
     "output_type": "execute_result"
    }
   ],
   "source": [
    "C_range = 10.0 ** np.arange(-2, 4)\n",
    "gamma_range = [.01, .1, 1, 'auto', 10, 100]\n",
    "print (gamma_range)\n",
    "param_grid = dict(gamma=gamma_range, C=C_range)\n",
    "param_grid"
   ]
  },
  {
   "cell_type": "code",
   "execution_count": 26,
   "metadata": {},
   "outputs": [
    {
     "name": "stderr",
     "output_type": "stream",
     "text": [
      "/Users/nancyzhu/opt/anaconda3/lib/python3.7/site-packages/sklearn/model_selection/_split.py:1978: FutureWarning: The default value of cv will change from 3 to 5 in version 0.22. Specify it explicitly to silence this warning.\n",
      "  warnings.warn(CV_WARNING, FutureWarning)\n",
      "/Users/nancyzhu/opt/anaconda3/lib/python3.7/site-packages/sklearn/model_selection/_search.py:814: DeprecationWarning: The default of the `iid` parameter will change from True to False in version 0.22 and will be removed in 0.24. This will change numeric results when test-set sizes are unequal.\n",
      "  DeprecationWarning)\n"
     ]
    },
    {
     "data": {
      "text/plain": [
       "SVR(C=1000.0, cache_size=1000, coef0=0.0, degree=3, epsilon=0.1, gamma=0.01,\n",
       "    kernel='linear', max_iter=-1, shrinking=True, tol=0.001, verbose=False)"
      ]
     },
     "execution_count": 26,
     "metadata": {},
     "output_type": "execute_result"
    }
   ],
   "source": [
    "grid = GridSearchCV(SVR(kernel='linear', cache_size=1000), param_grid=param_grid)\n",
    "grid.fit(X_train_minmax, y_train)\n",
    "grid.best_estimator_"
   ]
  },
  {
   "cell_type": "code",
   "execution_count": 27,
   "metadata": {},
   "outputs": [
    {
     "name": "stdout",
     "output_type": "stream",
     "text": [
      "[ 4.94109987e+02  5.86806173e+02 -3.21471441e+00  5.26869580e+02\n",
      "  1.01096633e+03 -5.62668026e-01 -3.71197311e+00  5.34180628e+02\n",
      "  2.06388209e+02  1.00395575e+02  9.37857731e+02 -4.07274985e+00\n",
      "  8.68591389e+00 -9.55380532e-01 -3.72378605e+00 -3.04896151e+00\n",
      " -2.88320861e+00 -4.18976015e+00  4.48899232e+02  5.97602268e-01\n",
      "  1.92362546e+00  3.25421019e+02  1.18137039e+03  5.56010450e+01\n",
      " -8.94173824e-01 -3.54622021e+00  1.00376123e+03 -2.22019702e+00\n",
      " -4.10764256e+00 -4.28281907e+00]\n"
     ]
    }
   ],
   "source": [
    "svr = SVR(C=1000, gamma=0.01, kernel='linear', cache_size=1000,degree=3)\n",
    "clf_test = svr.fit(X_train_minmax, y_train)\n",
    "y_pred_minmax_test = svr.predict(X_test_minmax)\n",
    "print(y_pred_minmax_test)"
   ]
  },
  {
   "cell_type": "code",
   "execution_count": 28,
   "metadata": {},
   "outputs": [
    {
     "data": {
      "text/plain": [
       "array([25.72191591])"
      ]
     },
     "execution_count": 28,
     "metadata": {},
     "output_type": "execute_result"
    }
   ],
   "source": [
    "#linear kernel mae with minmaxscale\n",
    "mean_absolute_error(y_test, y_pred_minmax_test, multioutput='raw_values')"
   ]
  },
  {
   "cell_type": "code",
   "execution_count": 29,
   "metadata": {},
   "outputs": [
    {
     "data": {
      "text/plain": [
       "44.843479490139195"
      ]
     },
     "execution_count": 29,
     "metadata": {},
     "output_type": "execute_result"
    }
   ],
   "source": [
    "#linear kernel rmse with minmaxscale\n",
    "mse = mean_squared_error(y_test,y_pred_minmax_test)\n",
    "rmse= np.sqrt(mse)\n",
    "rmse"
   ]
  },
  {
   "cell_type": "code",
   "execution_count": 30,
   "metadata": {},
   "outputs": [],
   "source": [
    "svr_linear = SVR(C=1000, gamma=0.01, kernel='linear', cache_size=1000,degree=3)"
   ]
  },
  {
   "cell_type": "code",
   "execution_count": 31,
   "metadata": {},
   "outputs": [
    {
     "data": {
      "text/plain": [
       "SVR(C=1000, cache_size=1000, coef0=0.0, degree=3, epsilon=0.1, gamma=0.01,\n",
       "    kernel='linear', max_iter=-1, shrinking=True, tol=0.001, verbose=False)"
      ]
     },
     "execution_count": 31,
     "metadata": {},
     "output_type": "execute_result"
    }
   ],
   "source": [
    "svr_linear.fit(X_train,y_train)"
   ]
  },
  {
   "cell_type": "code",
   "execution_count": 32,
   "metadata": {},
   "outputs": [
    {
     "data": {
      "text/plain": [
       "array([ 1.17992323e+04,  2.94166531e+04, -3.40649249e+01,  4.35744241e+03,\n",
       "        3.95370290e+04, -8.03432141e+00, -3.89456630e+01,  1.15841599e+04,\n",
       "        5.83502368e+02,  3.39226905e+03,  5.33594816e+04, -1.41826182e+01,\n",
       "        6.69475094e+02,  5.65840827e+02,  3.80563017e+02, -3.24380121e+01,\n",
       "       -3.08110994e+01,  1.79449468e+01,  1.72055697e+04,  3.35406759e+00,\n",
       "        1.63693693e+01,  8.58615437e+03,  6.65997294e+04,  1.95379470e+03,\n",
       "       -1.12881468e+01, -3.73187503e+01,  3.98218131e+04, -2.43034486e+01,\n",
       "        5.60260285e+01, -3.18219770e+01])"
      ]
     },
     "execution_count": 32,
     "metadata": {},
     "output_type": "execute_result"
    }
   ],
   "source": [
    "y_predict = svr_linear.predict(X_test)\n",
    "y_predict"
   ]
  },
  {
   "cell_type": "code",
   "execution_count": 33,
   "metadata": {},
   "outputs": [
    {
     "data": {
      "text/plain": [
       "array([9441.25377903])"
      ]
     },
     "execution_count": 33,
     "metadata": {},
     "output_type": "execute_result"
    }
   ],
   "source": [
    "#linear kernel mae without minmaxscale\n",
    "mean_absolute_error(y_test, y_predict, multioutput='raw_values')"
   ]
  },
  {
   "cell_type": "code",
   "execution_count": 34,
   "metadata": {},
   "outputs": [
    {
     "data": {
      "text/plain": [
       "19560.879858259836"
      ]
     },
     "execution_count": 34,
     "metadata": {},
     "output_type": "execute_result"
    }
   ],
   "source": [
    "#linear kernel rmse without minmaxscale\n",
    "mse = mean_squared_error(y_test,y_predict)\n",
    "#root mean square\n",
    "rmse= np.sqrt(mse)\n",
    "rmse"
   ]
  },
  {
   "cell_type": "markdown",
   "metadata": {},
   "source": [
    "# Polynomial\n"
   ]
  },
  {
   "cell_type": "code",
   "execution_count": 40,
   "metadata": {},
   "outputs": [
    {
     "name": "stdout",
     "output_type": "stream",
     "text": [
      "[0.01, 0.1, 1, 'auto', 10, 100]\n"
     ]
    },
    {
     "data": {
      "text/plain": [
       "{'gamma': [0.01, 0.1, 1, 'auto', 10, 100],\n",
       " 'C': array([1.e-02, 1.e-01, 1.e+00, 1.e+01, 1.e+02, 1.e+03])}"
      ]
     },
     "execution_count": 40,
     "metadata": {},
     "output_type": "execute_result"
    }
   ],
   "source": [
    "C_range = 10.0 ** np.arange(-2, 4)\n",
    "gamma_range = [.01, .1, 1, 'auto', 10, 100]\n",
    "print (gamma_range)\n",
    "param_grid = dict(gamma=gamma_range, C=C_range)\n",
    "param_grid"
   ]
  },
  {
   "cell_type": "code",
   "execution_count": 41,
   "metadata": {},
   "outputs": [
    {
     "name": "stderr",
     "output_type": "stream",
     "text": [
      "/Users/nancyzhu/opt/anaconda3/lib/python3.7/site-packages/sklearn/model_selection/_split.py:1978: FutureWarning: The default value of cv will change from 3 to 5 in version 0.22. Specify it explicitly to silence this warning.\n",
      "  warnings.warn(CV_WARNING, FutureWarning)\n",
      "/Users/nancyzhu/opt/anaconda3/lib/python3.7/site-packages/sklearn/model_selection/_search.py:814: DeprecationWarning: The default of the `iid` parameter will change from True to False in version 0.22 and will be removed in 0.24. This will change numeric results when test-set sizes are unequal.\n",
      "  DeprecationWarning)\n"
     ]
    },
    {
     "data": {
      "text/plain": [
       "SVR(C=1000.0, cache_size=1000, coef0=0.0, degree=3, epsilon=0.1, gamma=1,\n",
       "    kernel='poly', max_iter=-1, shrinking=True, tol=0.001, verbose=False)"
      ]
     },
     "execution_count": 41,
     "metadata": {},
     "output_type": "execute_result"
    }
   ],
   "source": [
    "grid = GridSearchCV(SVR(kernel='poly', cache_size=1000), param_grid=param_grid)\n",
    "grid.fit(X_train_minmax, y_train)\n",
    "grid.best_estimator_"
   ]
  },
  {
   "cell_type": "code",
   "execution_count": 42,
   "metadata": {},
   "outputs": [
    {
     "name": "stdout",
     "output_type": "stream",
     "text": [
      "[ 3.79545612e+02  4.25653605e+02  9.22359871e-02  4.43380563e+02\n",
      "  9.86697927e+02 -7.43365680e-02  1.49787922e-01  4.41368357e+02\n",
      "  1.44578758e+02  6.07407525e+01  9.12042891e+02  2.39200456e-01\n",
      "  5.22902684e+00  1.82111712e+00  1.25195797e+00  7.52211461e-02\n",
      "  5.92371822e-02  4.66973360e-01  2.95234033e+02 -9.53460577e-02\n",
      " -1.00672256e-01  2.20236138e+02  1.19436799e+03  2.99807484e+01\n",
      " -6.38881993e-02  1.29487160e-01  1.15144030e+03  4.96579916e-03\n",
      "  6.05681404e-01  1.82221622e-01]\n"
     ]
    }
   ],
   "source": [
    "svr_poly = SVR(C=1000, gamma=1, kernel='poly', cache_size=1000,degree=3)\n",
    "clf_test = svr_poly.fit(X_train_minmax, y_train)\n",
    "y_pred_minmax_test = svr_poly.predict(X_test_minmax)\n",
    "print(y_pred_minmax_test)"
   ]
  },
  {
   "cell_type": "code",
   "execution_count": 43,
   "metadata": {},
   "outputs": [
    {
     "data": {
      "text/plain": [
       "array([17.33847406])"
      ]
     },
     "execution_count": 43,
     "metadata": {},
     "output_type": "execute_result"
    }
   ],
   "source": [
    "#poly mae with minmaxscale\n",
    "mean_absolute_error(y_test, y_pred_minmax_test, multioutput='raw_values')"
   ]
  },
  {
   "cell_type": "code",
   "execution_count": 44,
   "metadata": {},
   "outputs": [
    {
     "data": {
      "text/plain": [
       "39.40049458335907"
      ]
     },
     "execution_count": 44,
     "metadata": {},
     "output_type": "execute_result"
    }
   ],
   "source": [
    "#poly kernel rmse with minmaxscale\n",
    "mse = mean_squared_error(y_test,y_pred_minmax_test)\n",
    "rmse= np.sqrt(mse)\n",
    "rmse"
   ]
  },
  {
   "cell_type": "markdown",
   "metadata": {},
   "source": [
    "# Sigmoid"
   ]
  },
  {
   "cell_type": "code",
   "execution_count": 35,
   "metadata": {},
   "outputs": [
    {
     "name": "stdout",
     "output_type": "stream",
     "text": [
      "[0.01, 0.1, 1, 'auto', 10, 100]\n"
     ]
    },
    {
     "data": {
      "text/plain": [
       "{'gamma': [0.01, 0.1, 1, 'auto', 10, 100],\n",
       " 'C': array([1.e-02, 1.e-01, 1.e+00, 1.e+01, 1.e+02, 1.e+03])}"
      ]
     },
     "execution_count": 35,
     "metadata": {},
     "output_type": "execute_result"
    }
   ],
   "source": [
    "C_range = 10.0 ** np.arange(-2, 4)\n",
    "gamma_range = [.01, .1, 1, 'auto', 10, 100]\n",
    "print (gamma_range)\n",
    "param_grid = dict(gamma=gamma_range, C=C_range)\n",
    "param_grid"
   ]
  },
  {
   "cell_type": "code",
   "execution_count": 36,
   "metadata": {},
   "outputs": [
    {
     "name": "stderr",
     "output_type": "stream",
     "text": [
      "/Users/nancyzhu/opt/anaconda3/lib/python3.7/site-packages/sklearn/model_selection/_split.py:1978: FutureWarning: The default value of cv will change from 3 to 5 in version 0.22. Specify it explicitly to silence this warning.\n",
      "  warnings.warn(CV_WARNING, FutureWarning)\n",
      "/Users/nancyzhu/opt/anaconda3/lib/python3.7/site-packages/sklearn/model_selection/_search.py:814: DeprecationWarning: The default of the `iid` parameter will change from True to False in version 0.22 and will be removed in 0.24. This will change numeric results when test-set sizes are unequal.\n",
      "  DeprecationWarning)\n"
     ]
    },
    {
     "data": {
      "text/plain": [
       "SVR(C=1000.0, cache_size=1000, coef0=0.0, degree=3, epsilon=0.1, gamma=0.1,\n",
       "    kernel='sigmoid', max_iter=-1, shrinking=True, tol=0.001, verbose=False)"
      ]
     },
     "execution_count": 36,
     "metadata": {},
     "output_type": "execute_result"
    }
   ],
   "source": [
    "grid = GridSearchCV(SVR(kernel='sigmoid', cache_size=1000), param_grid=param_grid)\n",
    "grid.fit(X_train_minmax, y_train)\n",
    "grid.best_estimator_"
   ]
  },
  {
   "cell_type": "code",
   "execution_count": 37,
   "metadata": {},
   "outputs": [
    {
     "name": "stdout",
     "output_type": "stream",
     "text": [
      "[ 3.97599118e+02  3.60336833e+02 -7.71852147e-01  4.41865926e+02\n",
      "  6.62734721e+02 -2.27212785e-01 -8.78266203e-01  4.42453886e+02\n",
      "  2.90471094e+02  1.64821136e+02  6.12411898e+02 -2.45560355e-01\n",
      "  1.78971582e+01  8.37100093e+00  8.62130853e+00 -7.36734479e-01\n",
      " -7.01784943e-01 -6.63222545e-01  3.11703685e+02  2.59663970e-03\n",
      "  2.62182027e-01  3.24566359e+02  6.86682094e+02  1.00739072e+02\n",
      " -2.93599035e-01 -8.42612786e-01  8.14776221e+02 -5.63563493e-01\n",
      " -2.31838403e-01 -1.47510729e-02]\n"
     ]
    }
   ],
   "source": [
    "svr_sigmoid = SVR(C=1000, gamma=0.1, kernel='sigmoid', cache_size=1000,degree=3)\n",
    "clf_test = svr_sigmoid.fit(X_train_minmax, y_train)\n",
    "y_pred_minmax_test = svr_sigmoid.predict(X_test_minmax)\n",
    "print(y_pred_minmax_test)"
   ]
  },
  {
   "cell_type": "code",
   "execution_count": 38,
   "metadata": {},
   "outputs": [
    {
     "data": {
      "text/plain": [
       "array([76.64528414])"
      ]
     },
     "execution_count": 38,
     "metadata": {},
     "output_type": "execute_result"
    }
   ],
   "source": [
    "#sigmoid kernel mae with minmaxscale\n",
    "mean_absolute_error(y_test, y_pred_minmax_test, multioutput='raw_values')"
   ]
  },
  {
   "cell_type": "code",
   "execution_count": 39,
   "metadata": {},
   "outputs": [
    {
     "data": {
      "text/plain": [
       "151.84385813681763"
      ]
     },
     "execution_count": 39,
     "metadata": {},
     "output_type": "execute_result"
    }
   ],
   "source": [
    "#sigmoid kernel rmse with minmaxscale\n",
    "mse = mean_squared_error(y_test,y_pred_minmax_test)\n",
    "rmse= np.sqrt(mse)\n",
    "rmse"
   ]
  },
  {
   "cell_type": "code",
   "execution_count": null,
   "metadata": {},
   "outputs": [],
   "source": []
  }
 ],
 "metadata": {
  "kernelspec": {
   "display_name": "Python 3",
   "language": "python",
   "name": "python3"
  },
  "language_info": {
   "codemirror_mode": {
    "name": "ipython",
    "version": 3
   },
   "file_extension": ".py",
   "mimetype": "text/x-python",
   "name": "python",
   "nbconvert_exporter": "python",
   "pygments_lexer": "ipython3",
   "version": "3.7.4"
  }
 },
 "nbformat": 4,
 "nbformat_minor": 2
}

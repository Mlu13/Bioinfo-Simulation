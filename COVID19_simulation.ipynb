{
 "cells": [
  {
   "cell_type": "code",
   "execution_count": 1,
   "metadata": {},
   "outputs": [],
   "source": [
    "import numpy as np\n",
    "import pandas as pd \n",
    "import matplotlib as mpl\n",
    "import matplotlib.pyplot as plt\n",
    "import seaborn as sns "
   ]
  },
  {
   "cell_type": "code",
   "execution_count": 2,
   "metadata": {},
   "outputs": [
    {
     "name": "stdout",
     "output_type": "stream",
     "text": [
      "         date   county  fips  confirmed_cases  deaths  new_confirmed_cases  \\\n",
      "0  2020-01-26  Alameda     1                0       0                  NaN   \n",
      "1  2020-01-31  Alameda     1                0       0                  0.0   \n",
      "2  2020-02-02  Alameda     1                0       0                  0.0   \n",
      "3  2020-02-20  Alameda     1                0       0                  0.0   \n",
      "4  2020-02-21  Alameda     1                0       0                  0.0   \n",
      "\n",
      "   new_deaths  \n",
      "0         NaN  \n",
      "1         0.0  \n",
      "2         0.0  \n",
      "3         0.0  \n",
      "4         0.0  \n"
     ]
    },
    {
     "data": {
      "text/html": [
       "<div>\n",
       "<style scoped>\n",
       "    .dataframe tbody tr th:only-of-type {\n",
       "        vertical-align: middle;\n",
       "    }\n",
       "\n",
       "    .dataframe tbody tr th {\n",
       "        vertical-align: top;\n",
       "    }\n",
       "\n",
       "    .dataframe thead th {\n",
       "        text-align: right;\n",
       "    }\n",
       "</style>\n",
       "<table border=\"1\" class=\"dataframe\">\n",
       "  <thead>\n",
       "    <tr style=\"text-align: right;\">\n",
       "      <th></th>\n",
       "      <th>fips</th>\n",
       "      <th>confirmed_cases</th>\n",
       "      <th>deaths</th>\n",
       "      <th>new_confirmed_cases</th>\n",
       "      <th>new_deaths</th>\n",
       "    </tr>\n",
       "  </thead>\n",
       "  <tbody>\n",
       "    <tr>\n",
       "      <td>count</td>\n",
       "      <td>3152.000000</td>\n",
       "      <td>3152.000000</td>\n",
       "      <td>3152.000000</td>\n",
       "      <td>3094.000000</td>\n",
       "      <td>3094.000000</td>\n",
       "    </tr>\n",
       "    <tr>\n",
       "      <td>mean</td>\n",
       "      <td>59.317259</td>\n",
       "      <td>363.570749</td>\n",
       "      <td>12.736041</td>\n",
       "      <td>18.138009</td>\n",
       "      <td>0.739173</td>\n",
       "    </tr>\n",
       "    <tr>\n",
       "      <td>std</td>\n",
       "      <td>32.983935</td>\n",
       "      <td>1646.535743</td>\n",
       "      <td>73.904410</td>\n",
       "      <td>82.994716</td>\n",
       "      <td>4.295371</td>\n",
       "    </tr>\n",
       "    <tr>\n",
       "      <td>min</td>\n",
       "      <td>1.000000</td>\n",
       "      <td>0.000000</td>\n",
       "      <td>0.000000</td>\n",
       "      <td>-2.000000</td>\n",
       "      <td>-1.000000</td>\n",
       "    </tr>\n",
       "    <tr>\n",
       "      <td>25%</td>\n",
       "      <td>29.000000</td>\n",
       "      <td>3.000000</td>\n",
       "      <td>0.000000</td>\n",
       "      <td>0.000000</td>\n",
       "      <td>0.000000</td>\n",
       "    </tr>\n",
       "    <tr>\n",
       "      <td>50%</td>\n",
       "      <td>63.000000</td>\n",
       "      <td>20.000000</td>\n",
       "      <td>0.000000</td>\n",
       "      <td>1.000000</td>\n",
       "      <td>0.000000</td>\n",
       "    </tr>\n",
       "    <tr>\n",
       "      <td>75%</td>\n",
       "      <td>85.000000</td>\n",
       "      <td>155.000000</td>\n",
       "      <td>3.000000</td>\n",
       "      <td>9.000000</td>\n",
       "      <td>0.000000</td>\n",
       "    </tr>\n",
       "    <tr>\n",
       "      <td>max</td>\n",
       "      <td>115.000000</td>\n",
       "      <td>26238.000000</td>\n",
       "      <td>1260.000000</td>\n",
       "      <td>1505.000000</td>\n",
       "      <td>76.000000</td>\n",
       "    </tr>\n",
       "  </tbody>\n",
       "</table>\n",
       "</div>"
      ],
      "text/plain": [
       "              fips  confirmed_cases       deaths  new_confirmed_cases  \\\n",
       "count  3152.000000      3152.000000  3152.000000          3094.000000   \n",
       "mean     59.317259       363.570749    12.736041            18.138009   \n",
       "std      32.983935      1646.535743    73.904410            82.994716   \n",
       "min       1.000000         0.000000     0.000000            -2.000000   \n",
       "25%      29.000000         3.000000     0.000000             0.000000   \n",
       "50%      63.000000        20.000000     0.000000             1.000000   \n",
       "75%      85.000000       155.000000     3.000000             9.000000   \n",
       "max     115.000000     26238.000000  1260.000000          1505.000000   \n",
       "\n",
       "        new_deaths  \n",
       "count  3094.000000  \n",
       "mean      0.739173  \n",
       "std       4.295371  \n",
       "min      -1.000000  \n",
       "25%       0.000000  \n",
       "50%       0.000000  \n",
       "75%       0.000000  \n",
       "max      76.000000  "
      ]
     },
     "execution_count": 2,
     "metadata": {},
     "output_type": "execute_result"
    }
   ],
   "source": [
    "df = pd.read_csv(\"latimes-county-totals.csv\") \n",
    "print (df.head(5))\n",
    "df.describe()"
   ]
  },
  {
   "cell_type": "code",
   "execution_count": 3,
   "metadata": {
    "scrolled": true
   },
   "outputs": [
    {
     "name": "stdout",
     "output_type": "stream",
     "text": [
      "<class 'pandas.core.frame.DataFrame'>\n",
      "RangeIndex: 3152 entries, 0 to 3151\n",
      "Data columns (total 7 columns):\n",
      "date                   3152 non-null object\n",
      "county                 3152 non-null object\n",
      "fips                   3152 non-null int64\n",
      "confirmed_cases        3152 non-null int64\n",
      "deaths                 3152 non-null int64\n",
      "new_confirmed_cases    3094 non-null float64\n",
      "new_deaths             3094 non-null float64\n",
      "dtypes: float64(2), int64(3), object(2)\n",
      "memory usage: 172.5+ KB\n"
     ]
    }
   ],
   "source": [
    "df.info()"
   ]
  },
  {
   "cell_type": "code",
   "execution_count": 4,
   "metadata": {},
   "outputs": [],
   "source": [
    "def SEIRD_model(N, E, I, r, r2, re, r2e, p, d, shelter_in_place, b, b2, y, a, days):\n",
    "    '''\n",
    "    N - Total population，N = I + S + R + E \n",
    "    S - Number of people that are Susceptibles\n",
    "    R - Number of people that are Recovered\n",
    "    E - Number of people that are Exposed\n",
    "    I - Number of people that are Infected\n",
    "    r - The number of people each infected contacts each day\n",
    "    re - New r after shelter in place\n",
    "    r2 - The number of people each asymptomatic contacts each day\n",
    "    r2e - New r2 after shelter in place takes effect\n",
    "    p - Protection rate of the masks. After shelter in place, b=b*p, b2 = b2*p\n",
    "    d - The proportion of infected who die each day to the total number of infected people\n",
    "    shelter_in_place - Days since shelter in place\n",
    "    b - Probability of transmission from infected to susceptible person\n",
    "    b2 Probability of transmission from asymptomatic to susceptible\n",
    "    y - The proportion of infected who are recovered each day to the total number of infected people\n",
    "    a - Probability of susceptible transforming to infected\n",
    "    days - Duration in days\n",
    "    '''\n",
    "    S = N - I - E\n",
    "    I_list = [I]\n",
    "    S_list = [S]\n",
    "    E_list = [E]\n",
    "    R_list = [0]\n",
    "    D_list = [0]\n",
    "    C_list = [0] # Confirmed list \n",
    "\n",
    "    for i in range(1, days):\n",
    "        if (i + 1) == shelter_in_place:\n",
    "            r, r2, b, b2,a = re, r2e, b * p, b2 * p, a*p\n",
    "        E_perday = r * b * I_list[i - 1] * S_list[i - 1]/N\n",
    "        E_perday_for_E = r2 * b2 * E_list[i - 1] * S_list[i - 1]/N\n",
    "        I_perday = a * E_list[i - 1]\n",
    "        R_perday = y * I_list[i - 1]\n",
    "        D_perday = d * I_list[i - 1]\n",
    "        C_list.append(C_list[i - 1] + I_perday)\n",
    "        I_list.append(I_list[i - 1] + I_perday - R_perday - D_perday)\n",
    "        S_list.append(S_list[i - 1] - E_perday - E_perday_for_E)\n",
    "        R_list.append(R_list[i - 1] + R_perday)\n",
    "        D_list.append(D_list[i - 1] + D_perday)\n",
    "        E_list.append(E_list[i - 1] + E_perday + E_perday_for_E - I_perday)\n",
    "    newlist = [I_list,S_list,E_list,R_list,D_list,C_list,days]\n",
    "    return newlist"
   ]
  },
  {
   "cell_type": "code",
   "execution_count": 5,
   "metadata": {},
   "outputs": [],
   "source": [
    "N = 10000\n",
    "E = 0\n",
    "I = 1\n",
    "r = 20\n",
    "r2 = 20\n",
    "re = 5\n",
    "r2e = 5\n",
    "p = 0.8\n",
    "d = 0.01\n",
    "shelter_in_place = 10\n",
    "b = 0.03\n",
    "b2 = 0.03\n",
    "y = 0.1\n",
    "a = 0.1\n",
    "days =140\n",
    "result = SEIRD_model(N, E, I, r, r2, re, r2e, p, d, shelter_in_place, b, b2, y, a, days)"
   ]
  },
  {
   "cell_type": "code",
   "execution_count": 6,
   "metadata": {},
   "outputs": [
    {
     "name": "stdout",
     "output_type": "stream",
     "text": [
      "140\n"
     ]
    }
   ],
   "source": [
    "print(result[6])"
   ]
  },
  {
   "cell_type": "code",
   "execution_count": 7,
   "metadata": {},
   "outputs": [],
   "source": [
    "day_cul = list(range(1,result[6]+1))"
   ]
  },
  {
   "cell_type": "code",
   "execution_count": 8,
   "metadata": {},
   "outputs": [
    {
     "data": {
      "text/plain": [
       "Text(0, 0.5, 'Number of individuals')"
      ]
     },
     "execution_count": 8,
     "metadata": {},
     "output_type": "execute_result"
    },
    {
     "data": {
      "text/plain": [
       "<Figure size 432x288 with 0 Axes>"
      ]
     },
     "metadata": {},
     "output_type": "display_data"
    },
    {
     "data": {
      "image/png": "[encoded data removed]",
      "text/plain": [
       "<Figure size 432x288 with 1 Axes>"
      ]
     },
     "metadata": {
      "needs_background": "light"
     },
     "output_type": "display_data"
    }
   ],
   "source": [
    "plt.clf()\n",
    "fit = plt.figure()\n",
    "# plot x = days, y = I_lisst\n",
    "plt.scatter(x=day_cul , y = result[0], marker = '.', color = 'blue', label = 'Infected')\n",
    "\n",
    "#plot x = days, y = S_list\n",
    "plt.scatter(x=day_cul , y = result[1], marker = '.', color = 'chartreuse',label = 'Susceptible' )\n",
    "\n",
    "#plot x = days, y = E_list\n",
    "plt.scatter(x=day_cul , y = result[2], marker = '.', color = 'orange',label = 'Exposed' )\n",
    "\n",
    "#plot x = days, y = R_list\n",
    "plt.scatter(x=day_cul , y = result[3], marker = '.', color = 'green',label = 'Recovered' )\n",
    "\n",
    "#plot x = days, y = D_list\n",
    "plt.scatter(x=day_cul , y = result[4], marker = '.', color = 'black',label = 'Deaths' )\n",
    "\n",
    "#plot x = days, y = C_list\n",
    "plt.scatter(x=day_cul , y = result[5], marker = '.', color = 'red',label = 'Confirmed' )\n",
    "\n",
    "plt.title(\"SEIRD Model\")\n",
    "plt.xlabel(\"Time in days\")\n",
    "plt.legend(loc=\"best\")\n",
    "plt.ylabel(\"Number of individuals\")"
   ]
  },
  {
   "cell_type": "code",
   "execution_count": 9,
   "metadata": {},
   "outputs": [],
   "source": [
    "#LA county population: 10.04 million (2019)\n",
    "#We will use the population from last year for this model\n",
    "#100 days model\n",
    "#LA had its first confirmed case on 2020-01-26\n",
    "#Started shelter in place around 2020-03-20\n",
    "#shelter in place: the day that shelter in place enforce: 54 days\n",
    "\n",
    "N = 10400000\n",
    "E = 0\n",
    "I = 1\n",
    "r = 8\n",
    "r2 = 8\n",
    "re = 1\n",
    "r2e = 1\n",
    "p = 0.8\n",
    "d = 0.01\n",
    "shelter_in_place = 54\n",
    "b = 0.03\n",
    "b2 = 0.03\n",
    "y = 0.15\n",
    "a = 0.1\n",
    "days =100\n",
    "result = SEIRD_model(N, E, I, r, r2, re, r2e, p, d, shelter_in_place, b, b2, y, a, days)"
   ]
  },
  {
   "cell_type": "code",
   "execution_count": 10,
   "metadata": {},
   "outputs": [],
   "source": [
    "day_cul = list(range(1,result[6]+1))"
   ]
  },
  {
   "cell_type": "code",
   "execution_count": 11,
   "metadata": {},
   "outputs": [
    {
     "data": {
      "text/plain": [
       "Text(0, 0.5, 'Number of individuals')"
      ]
     },
     "execution_count": 11,
     "metadata": {},
     "output_type": "execute_result"
    },
    {
     "data": {
      "text/plain": [
       "<Figure size 432x288 with 0 Axes>"
      ]
     },
     "metadata": {},
     "output_type": "display_data"
    },
    {
     "data": {
      "image/png": "[encoded data removed]",
      "text/plain": [
       "<Figure size 432x288 with 1 Axes>"
      ]
     },
     "metadata": {
      "needs_background": "light"
     },
     "output_type": "display_data"
    }
   ],
   "source": [
    "plt.clf()\n",
    "fit = plt.figure()\n",
    "# plot x = days, y = I_lisst\n",
    "plt.scatter(x=day_cul , y = result[0], marker = '.', color = 'blue', label = 'Infected')\n",
    "\n",
    "#plot x = days, y = S_list\n",
    "#plt.scatter(x=day_cul , y = result[1], marker = '.', color = 'chartreuse',label = 'Susceptible' )\n",
    "\n",
    "#plot x = days, y = E_list\n",
    "#plt.scatter(x=day_cul , y = result[2], marker = '.', color = 'orange',label = 'Exposed' )\n",
    "\n",
    "#plot x = days, y = R_list\n",
    "#plt.scatter(x=day_cul , y = result[3], marker = '.', color = 'green',label = 'Recovered' )\n",
    "\n",
    "#plot x = days, y = D_list\n",
    "plt.scatter(x=day_cul , y = result[4], marker = '.', color = 'black',label = 'Deaths' )\n",
    "\n",
    "#plot x = days, y = C_list\n",
    "#plt.scatter(x=day_cul , y = result[5], marker = '.', color = 'red',label = 'Confirmed' )\n",
    "\n",
    "plt.title(\"SEIRD Model\")\n",
    "plt.xlabel(\"Time in days\")\n",
    "plt.legend(loc=\"best\")\n",
    "plt.ylabel(\"Number of individuals\")"
   ]
  },
  {
   "cell_type": "code",
   "execution_count": null,
   "metadata": {},
   "outputs": [],
   "source": []
  }
 ],
 "metadata": {
  "kernelspec": {
   "display_name": "Python 3",
   "language": "python",
   "name": "python3"
  },
  "language_info": {
   "codemirror_mode": {
    "name": "ipython",
    "version": 3
   },
   "file_extension": ".py",
   "mimetype": "text/x-python",
   "name": "python",
   "nbconvert_exporter": "python",
   "pygments_lexer": "ipython3",
   "version": "3.7.4"
  }
 },
 "nbformat": 4,
 "nbformat_minor": 2
}

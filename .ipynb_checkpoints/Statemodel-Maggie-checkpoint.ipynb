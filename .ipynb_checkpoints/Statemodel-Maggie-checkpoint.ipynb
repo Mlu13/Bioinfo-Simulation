{
 "cells": [
  {
   "cell_type": "code",
   "execution_count": 59,
   "metadata": {},
   "outputs": [],
   "source": [
    "%matplotlib inline"
   ]
  },
  {
   "cell_type": "code",
   "execution_count": 60,
   "metadata": {},
   "outputs": [],
   "source": [
    "import pandas as pd\n",
    "import numpy as np\n",
    "import statsmodels.api as sm\n",
    "import statsmodels.formula.api as smf\n",
    "import matplotlib.pyplot as plt\n",
    "from statsmodels.sandbox.regression.predstd import wls_prediction_std\n"
   ]
  },
  {
   "cell_type": "code",
   "execution_count": 61,
   "metadata": {},
   "outputs": [],
   "source": [
    "df = pd.read_csv(\"latimes-county-totals.csv\")"
   ]
  },
  {
   "cell_type": "code",
   "execution_count": 62,
   "metadata": {},
   "outputs": [],
   "source": [
    "df_la = df[df['county'] == 'Los Angeles']"
   ]
  },
  {
   "cell_type": "code",
   "execution_count": 63,
   "metadata": {},
   "outputs": [],
   "source": [
    "df_la = df_la.drop(labels=['date','county','fips','new_confirmed_cases'], axis=1)\n",
    "# df_la = df_la.drop(labels=['date','county','fips','new_confirmed_cases','confirmed_cases'], axis=1)"
   ]
  },
  {
   "cell_type": "code",
   "execution_count": 64,
   "metadata": {},
   "outputs": [],
   "source": [
    "df_la = df_la.fillna(0)"
   ]
  },
  {
   "cell_type": "code",
   "execution_count": 65,
   "metadata": {},
   "outputs": [],
   "source": [
    "days = list(range(1,len(df_la)+1))\n",
    "df_la['culm_day'] = days\n"
   ]
  },
  {
   "cell_type": "code",
   "execution_count": 66,
   "metadata": {},
   "outputs": [
    {
     "data": {
      "text/html": [
       "<div>\n",
       "<style scoped>\n",
       "    .dataframe tbody tr th:only-of-type {\n",
       "        vertical-align: middle;\n",
       "    }\n",
       "\n",
       "    .dataframe tbody tr th {\n",
       "        vertical-align: top;\n",
       "    }\n",
       "\n",
       "    .dataframe thead th {\n",
       "        text-align: right;\n",
       "    }\n",
       "</style>\n",
       "<table border=\"1\" class=\"dataframe\">\n",
       "  <thead>\n",
       "    <tr style=\"text-align: right;\">\n",
       "      <th></th>\n",
       "      <th>confirmed_cases</th>\n",
       "      <th>deaths</th>\n",
       "      <th>new_deaths</th>\n",
       "      <th>culm_day</th>\n",
       "    </tr>\n",
       "  </thead>\n",
       "  <tbody>\n",
       "    <tr>\n",
       "      <td>795</td>\n",
       "      <td>1</td>\n",
       "      <td>0</td>\n",
       "      <td>0.0</td>\n",
       "      <td>1</td>\n",
       "    </tr>\n",
       "    <tr>\n",
       "      <td>796</td>\n",
       "      <td>1</td>\n",
       "      <td>0</td>\n",
       "      <td>0.0</td>\n",
       "      <td>2</td>\n",
       "    </tr>\n",
       "    <tr>\n",
       "      <td>797</td>\n",
       "      <td>1</td>\n",
       "      <td>0</td>\n",
       "      <td>0.0</td>\n",
       "      <td>3</td>\n",
       "    </tr>\n",
       "    <tr>\n",
       "      <td>798</td>\n",
       "      <td>1</td>\n",
       "      <td>0</td>\n",
       "      <td>0.0</td>\n",
       "      <td>4</td>\n",
       "    </tr>\n",
       "    <tr>\n",
       "      <td>799</td>\n",
       "      <td>1</td>\n",
       "      <td>0</td>\n",
       "      <td>0.0</td>\n",
       "      <td>5</td>\n",
       "    </tr>\n",
       "  </tbody>\n",
       "</table>\n",
       "</div>"
      ],
      "text/plain": [
       "     confirmed_cases  deaths  new_deaths  culm_day\n",
       "795                1       0         0.0         1\n",
       "796                1       0         0.0         2\n",
       "797                1       0         0.0         3\n",
       "798                1       0         0.0         4\n",
       "799                1       0         0.0         5"
      ]
     },
     "execution_count": 66,
     "metadata": {},
     "output_type": "execute_result"
    }
   ],
   "source": [
    "df_la.head()"
   ]
  },
  {
   "cell_type": "markdown",
   "metadata": {},
   "source": [
    "## Logistics\n"
   ]
  },
  {
   "cell_type": "code",
   "execution_count": 67,
   "metadata": {},
   "outputs": [],
   "source": [
    "formula = 'deaths ~ new_deaths + culm_day + confirmed_cases'"
   ]
  },
  {
   "cell_type": "code",
   "execution_count": 68,
   "metadata": {},
   "outputs": [
    {
     "name": "stdout",
     "output_type": "stream",
     "text": [
      "                 Generalized Linear Model Regression Results                  \n",
      "==============================================================================\n",
      "Dep. Variable:                 deaths   No. Observations:                   96\n",
      "Model:                            GLM   Df Residuals:                       92\n",
      "Model Family:                Binomial   Df Model:                            3\n",
      "Link Function:                  logit   Scale:                          1.0000\n",
      "Method:                          IRLS   Log-Likelihood:                    nan\n",
      "Date:                Tue, 05 May 2020   Deviance:                          nan\n",
      "Time:                        12:43:58   Pearson chi2:                 4.78e+22\n",
      "No. Iterations:                   100                                         \n",
      "Covariance Type:            nonrobust                                         \n",
      "===================================================================================\n",
      "                      coef    std err          z      P>|z|      [0.025      0.975]\n",
      "-----------------------------------------------------------------------------------\n",
      "Intercept        1.298e+19   1.66e+07   7.82e+11      0.000     1.3e+19     1.3e+19\n",
      "new_deaths      -2.827e+17   8.66e+05  -3.27e+11      0.000   -2.83e+17   -2.83e+17\n",
      "culm_day        -6.353e+17   4.21e+05  -1.51e+12      0.000   -6.35e+17   -6.35e+17\n",
      "confirmed_cases  2.308e+16   2758.560   8.37e+12      0.000    2.31e+16    2.31e+16\n",
      "===================================================================================\n"
     ]
    },
    {
     "name": "stderr",
     "output_type": "stream",
     "text": [
      "/opt/anaconda3/lib/python3.7/site-packages/ipykernel_launcher.py:1: DeprecationWarning: Calling Family(..) with a link class as argument is deprecated.\n",
      "Use an instance of a link class instead.\n",
      "  \"\"\"Entry point for launching an IPython kernel.\n"
     ]
    }
   ],
   "source": [
    "model = smf.glm(formula = formula, data=df_la, family=sm.families.Binomial(sm.families.links.logit))\n",
    "result = model.fit()\n",
    "print(result.summary())"
   ]
  },
  {
   "cell_type": "code",
   "execution_count": 69,
   "metadata": {},
   "outputs": [
    {
     "data": {
      "text/plain": [
       "Intercept          1.298035e+19\n",
       "new_deaths        -2.826967e+17\n",
       "culm_day          -6.352763e+17\n",
       "confirmed_cases    2.308420e+16\n",
       "dtype: float64"
      ]
     },
     "execution_count": 69,
     "metadata": {},
     "output_type": "execute_result"
    }
   ],
   "source": [
    "result.params"
   ]
  },
  {
   "cell_type": "code",
   "execution_count": 74,
   "metadata": {},
   "outputs": [
    {
     "name": "stdout",
     "output_type": "stream",
     "text": [
      "                 Generalized Linear Model Regression Results                  \n",
      "==============================================================================\n",
      "Dep. Variable:                 deaths   No. Observations:                   96\n",
      "Model:                            GLM   Df Residuals:                       93\n",
      "Model Family:                Gaussian   Df Model:                            2\n",
      "Link Function:               identity   Scale:                          1852.2\n",
      "Method:                          IRLS   Log-Likelihood:                -495.85\n",
      "Date:                Tue, 05 May 2020   Deviance:                   1.7226e+05\n",
      "Time:                        12:59:41   Pearson chi2:                 1.72e+05\n",
      "No. Iterations:                     3                                         \n",
      "Covariance Type:            nonrobust                                         \n",
      "===================================================================================\n",
      "                      coef    std err          z      P>|z|      [0.025      0.975]\n",
      "-----------------------------------------------------------------------------------\n",
      "confirmed_cases     0.0504      0.002     29.713      0.000       0.047       0.054\n",
      "new_deaths         -0.7753      0.552     -1.403      0.161      -1.858       0.308\n",
      "culm_day           -0.7726      0.132     -5.869      0.000      -1.031      -0.515\n",
      "===================================================================================\n"
     ]
    }
   ],
   "source": [
    "X = df_la.drop(labels=['deaths'], axis=1)\n",
    "lny = df_la['deaths']\n",
    "gauss_log = sm.GLM(lny, X, family=sm.families.Gaussian(sm.families.links.log))\n",
    "gauss_log_results = gauss_log.fit()\n",
    "print(gauss_log_results.summary())"
   ]
  },
  {
   "cell_type": "code",
   "execution_count": null,
   "metadata": {},
   "outputs": [],
   "source": []
  },
  {
   "cell_type": "code",
   "execution_count": null,
   "metadata": {},
   "outputs": [],
   "source": []
  },
  {
   "cell_type": "code",
   "execution_count": null,
   "metadata": {},
   "outputs": [],
   "source": []
  },
  {
   "cell_type": "code",
   "execution_count": 26,
   "metadata": {},
   "outputs": [],
   "source": [
    "# X = df_la.drop(labels=['deaths'], axis=1)\n",
    "# y = df_la['deaths']"
   ]
  },
  {
   "cell_type": "code",
   "execution_count": 28,
   "metadata": {},
   "outputs": [
    {
     "name": "stdout",
     "output_type": "stream",
     "text": [
      "                 Generalized Linear Model Regression Results                  \n",
      "==============================================================================\n",
      "Dep. Variable:                 deaths   No. Observations:                   96\n",
      "Model:                            GLM   Df Residuals:                       93\n",
      "Model Family:                Binomial   Df Model:                            2\n",
      "Link Function:                  logit   Scale:                          1.0000\n",
      "Method:                          IRLS   Log-Likelihood:                    nan\n",
      "Date:                Tue, 05 May 2020   Deviance:                          nan\n",
      "Time:                        11:56:15   Pearson chi2:                 4.78e+22\n",
      "No. Iterations:                   100                                         \n",
      "Covariance Type:            nonrobust                                         \n",
      "===================================================================================\n",
      "                      coef    std err          z      P>|z|      [0.025      0.975]\n",
      "-----------------------------------------------------------------------------------\n",
      "confirmed_cases  2.247e+16   2645.830   8.49e+12      0.000    2.25e+16    2.25e+16\n",
      "new_deaths      -3.487e+17   8.61e+05  -4.05e+11      0.000   -3.49e+17   -3.49e+17\n",
      "culm_day        -3.469e+17   2.05e+05  -1.69e+12      0.000   -3.47e+17   -3.47e+17\n",
      "===================================================================================\n"
     ]
    }
   ],
   "source": [
    "# model = sm.GLM(y,X, family=sm.families.Binomial())\n",
    "# result = model.fit()\n",
    "# print(result.summary())"
   ]
  },
  {
   "cell_type": "code",
   "execution_count": null,
   "metadata": {},
   "outputs": [],
   "source": []
  },
  {
   "cell_type": "code",
   "execution_count": null,
   "metadata": {},
   "outputs": [],
   "source": []
  },
  {
   "cell_type": "code",
   "execution_count": null,
   "metadata": {},
   "outputs": [],
   "source": []
  },
  {
   "cell_type": "markdown",
   "metadata": {},
   "source": [
    "# Statsmodel: ordianrly linear regression"
   ]
  },
  {
   "cell_type": "code",
   "execution_count": 9,
   "metadata": {},
   "outputs": [],
   "source": [
    "X = df_la.drop(labels=['deaths'], axis=1)\n",
    "y = df_la['deaths']"
   ]
  },
  {
   "cell_type": "code",
   "execution_count": 10,
   "metadata": {},
   "outputs": [
    {
     "name": "stdout",
     "output_type": "stream",
     "text": [
      "                                 OLS Regression Results                                \n",
      "=======================================================================================\n",
      "Dep. Variable:                 deaths   R-squared (uncentered):                   0.984\n",
      "Model:                            OLS   Adj. R-squared (uncentered):              0.983\n",
      "Method:                 Least Squares   F-statistic:                              1883.\n",
      "Date:                Sun, 03 May 2020   Prob (F-statistic):                    4.17e-83\n",
      "Time:                        14:52:20   Log-Likelihood:                         -495.85\n",
      "No. Observations:                  96   AIC:                                      997.7\n",
      "Df Residuals:                      93   BIC:                                      1005.\n",
      "Df Model:                           3                                                  \n",
      "Covariance Type:            nonrobust                                                  \n",
      "===================================================================================\n",
      "                      coef    std err          t      P>|t|      [0.025      0.975]\n",
      "-----------------------------------------------------------------------------------\n",
      "confirmed_cases     0.0504      0.002     29.713      0.000       0.047       0.054\n",
      "new_deaths         -0.7753      0.552     -1.403      0.164      -1.872       0.322\n",
      "culm_day           -0.7726      0.132     -5.869      0.000      -1.034      -0.511\n",
      "==============================================================================\n",
      "Omnibus:                       27.692   Durbin-Watson:                   0.108\n",
      "Prob(Omnibus):                  0.000   Jarque-Bera (JB):               39.370\n",
      "Skew:                          -1.404   Prob(JB):                     2.82e-09\n",
      "Kurtosis:                       4.400   Cond. No.                         948.\n",
      "==============================================================================\n",
      "\n",
      "Warnings:\n",
      "[1] Standard Errors assume that the covariance matrix of the errors is correctly specified.\n"
     ]
    }
   ],
   "source": [
    "model = sm.OLS(y, X)\n",
    "results = model.fit()\n",
    "print(results.summary())"
   ]
  },
  {
   "cell_type": "code",
   "execution_count": null,
   "metadata": {},
   "outputs": [],
   "source": []
  },
  {
   "cell_type": "code",
   "execution_count": null,
   "metadata": {},
   "outputs": [],
   "source": []
  },
  {
   "cell_type": "code",
   "execution_count": null,
   "metadata": {},
   "outputs": [],
   "source": []
  }
 ],
 "metadata": {
  "kernelspec": {
   "display_name": "Python 3",
   "language": "python",
   "name": "python3"
  },
  "language_info": {
   "codemirror_mode": {
    "name": "ipython",
    "version": 3
   },
   "file_extension": ".py",
   "mimetype": "text/x-python",
   "name": "python",
   "nbconvert_exporter": "python",
   "pygments_lexer": "ipython3",
   "version": "3.7.4"
  }
 },
 "nbformat": 4,
 "nbformat_minor": 2
}

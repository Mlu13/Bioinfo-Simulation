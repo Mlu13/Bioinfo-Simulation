{
 "cells": [
  {
   "cell_type": "code",
   "execution_count": 1,
   "metadata": {},
   "outputs": [],
   "source": [
    "import pandas as pd\n",
    "import numpy as np\n",
    "import statsmodels.api as sm\n",
    "import statsmodels.formula.api as smf\n",
    "#https://www.statsmodels.org/stable/index.html"
   ]
  },
  {
   "cell_type": "code",
   "execution_count": 2,
   "metadata": {},
   "outputs": [],
   "source": [
    "df = pd.read_csv(\"latimes-county-totals.csv\")"
   ]
  },
  {
   "cell_type": "code",
   "execution_count": 3,
   "metadata": {},
   "outputs": [],
   "source": [
    "df_la = df[df['county'] == 'Los Angeles']"
   ]
  },
  {
   "cell_type": "code",
   "execution_count": 4,
   "metadata": {},
   "outputs": [],
   "source": [
    "df_la = df_la.drop(labels=['date','county','fips'], axis=1)"
   ]
  },
  {
   "cell_type": "code",
   "execution_count": 5,
   "metadata": {},
   "outputs": [],
   "source": [
    "df_la = df_la.fillna(0)"
   ]
  },
  {
   "cell_type": "code",
   "execution_count": 6,
   "metadata": {},
   "outputs": [],
   "source": [
    "days = list(range(1,len(df_la)+1))\n",
    "df_la['culm_day'] = days"
   ]
  },
  {
   "cell_type": "code",
   "execution_count": 7,
   "metadata": {},
   "outputs": [
    {
     "data": {
      "text/html": [
       "<div>\n",
       "<style scoped>\n",
       "    .dataframe tbody tr th:only-of-type {\n",
       "        vertical-align: middle;\n",
       "    }\n",
       "\n",
       "    .dataframe tbody tr th {\n",
       "        vertical-align: top;\n",
       "    }\n",
       "\n",
       "    .dataframe thead th {\n",
       "        text-align: right;\n",
       "    }\n",
       "</style>\n",
       "<table border=\"1\" class=\"dataframe\">\n",
       "  <thead>\n",
       "    <tr style=\"text-align: right;\">\n",
       "      <th></th>\n",
       "      <th>confirmed_cases</th>\n",
       "      <th>deaths</th>\n",
       "      <th>new_confirmed_cases</th>\n",
       "      <th>new_deaths</th>\n",
       "      <th>culm_day</th>\n",
       "    </tr>\n",
       "  </thead>\n",
       "  <tbody>\n",
       "    <tr>\n",
       "      <td>795</td>\n",
       "      <td>1</td>\n",
       "      <td>0</td>\n",
       "      <td>0.0</td>\n",
       "      <td>0.0</td>\n",
       "      <td>1</td>\n",
       "    </tr>\n",
       "    <tr>\n",
       "      <td>796</td>\n",
       "      <td>1</td>\n",
       "      <td>0</td>\n",
       "      <td>0.0</td>\n",
       "      <td>0.0</td>\n",
       "      <td>2</td>\n",
       "    </tr>\n",
       "    <tr>\n",
       "      <td>797</td>\n",
       "      <td>1</td>\n",
       "      <td>0</td>\n",
       "      <td>0.0</td>\n",
       "      <td>0.0</td>\n",
       "      <td>3</td>\n",
       "    </tr>\n",
       "    <tr>\n",
       "      <td>798</td>\n",
       "      <td>1</td>\n",
       "      <td>0</td>\n",
       "      <td>0.0</td>\n",
       "      <td>0.0</td>\n",
       "      <td>4</td>\n",
       "    </tr>\n",
       "    <tr>\n",
       "      <td>799</td>\n",
       "      <td>1</td>\n",
       "      <td>0</td>\n",
       "      <td>0.0</td>\n",
       "      <td>0.0</td>\n",
       "      <td>5</td>\n",
       "    </tr>\n",
       "  </tbody>\n",
       "</table>\n",
       "</div>"
      ],
      "text/plain": [
       "     confirmed_cases  deaths  new_confirmed_cases  new_deaths  culm_day\n",
       "795                1       0                  0.0         0.0         1\n",
       "796                1       0                  0.0         0.0         2\n",
       "797                1       0                  0.0         0.0         3\n",
       "798                1       0                  0.0         0.0         4\n",
       "799                1       0                  0.0         0.0         5"
      ]
     },
     "execution_count": 7,
     "metadata": {},
     "output_type": "execute_result"
    }
   ],
   "source": [
    "df_la.head()"
   ]
  },
  {
   "cell_type": "code",
   "execution_count": 8,
   "metadata": {},
   "outputs": [
    {
     "name": "stdout",
     "output_type": "stream",
     "text": [
      "                            OLS Regression Results                            \n",
      "==============================================================================\n",
      "Dep. Variable:                 deaths   R-squared:                       0.814\n",
      "Model:                            OLS   Adj. R-squared:                  0.806\n",
      "Method:                 Least Squares   F-statistic:                     99.58\n",
      "Date:                Tue, 05 May 2020   Prob (F-statistic):           2.19e-32\n",
      "Time:                        12:57:41   Log-Likelihood:                -600.79\n",
      "No. Observations:                  96   AIC:                             1212.\n",
      "Df Residuals:                      91   BIC:                             1224.\n",
      "Df Model:                           4                                         \n",
      "Covariance Type:            nonrobust                                         \n",
      "===========================================================================================\n",
      "                              coef    std err          t      P>|t|      [0.025      0.975]\n",
      "-------------------------------------------------------------------------------------------\n",
      "Intercept                -116.6977     40.725     -2.865      0.005    -197.594     -35.802\n",
      "new_deaths                 10.0034      1.317      7.598      0.000       7.388      12.619\n",
      "culm_day                    5.3579      1.734      3.090      0.003       1.914       8.802\n",
      "np.log(confirmed_cases)   -34.2822     11.883     -2.885      0.005     -57.887     -10.678\n",
      "new_confirmed_cases         0.1957      0.073      2.678      0.009       0.051       0.341\n",
      "==============================================================================\n",
      "Omnibus:                       51.051   Durbin-Watson:                   0.662\n",
      "Prob(Omnibus):                  0.000   Jarque-Bera (JB):              193.300\n",
      "Skew:                           1.754   Prob(JB):                     1.06e-42\n",
      "Kurtosis:                       9.001   Cond. No.                     1.37e+03\n",
      "==============================================================================\n",
      "\n",
      "Warnings:\n",
      "[1] Standard Errors assume that the covariance matrix of the errors is correctly specified.\n",
      "[2] The condition number is large, 1.37e+03. This might indicate that there are\n",
      "strong multicollinearity or other numerical problems.\n"
     ]
    }
   ],
   "source": [
    "result1 = smf.ols('deaths ~ new_deaths + culm_day + np.log(confirmed_cases) + new_confirmed_cases', data=df_la).fit()\n",
    "print(result1.summary())"
   ]
  },
  {
   "cell_type": "code",
   "execution_count": 9,
   "metadata": {},
   "outputs": [
    {
     "name": "stdout",
     "output_type": "stream",
     "text": [
      "                            OLS Regression Results                            \n",
      "==============================================================================\n",
      "Dep. Variable:                 deaths   R-squared:                       0.981\n",
      "Model:                            OLS   Adj. R-squared:                  0.980\n",
      "Method:                 Least Squares   F-statistic:                     1572.\n",
      "Date:                Tue, 05 May 2020   Prob (F-statistic):           6.93e-79\n",
      "Time:                        12:57:41   Log-Likelihood:                -491.62\n",
      "No. Observations:                  96   AIC:                             991.2\n",
      "Df Residuals:                      92   BIC:                             1001.\n",
      "Df Model:                           3                                         \n",
      "Covariance Type:            nonrobust                                         \n",
      "===================================================================================\n",
      "                      coef    std err          t      P>|t|      [0.025      0.975]\n",
      "-----------------------------------------------------------------------------------\n",
      "Intercept          29.8429     10.243      2.913      0.004       9.499      50.186\n",
      "new_deaths         -0.6250      0.534     -1.170      0.245      -1.686       0.436\n",
      "culm_day           -1.4337      0.260     -5.517      0.000      -1.950      -0.918\n",
      "confirmed_cases     0.0518      0.002     30.449      0.000       0.048       0.055\n",
      "==============================================================================\n",
      "Omnibus:                       14.261   Durbin-Watson:                   0.106\n",
      "Prob(Omnibus):                  0.001   Jarque-Bera (JB):               15.626\n",
      "Skew:                          -0.944   Prob(JB):                     0.000404\n",
      "Kurtosis:                       3.587   Cond. No.                     1.83e+04\n",
      "==============================================================================\n",
      "\n",
      "Warnings:\n",
      "[1] Standard Errors assume that the covariance matrix of the errors is correctly specified.\n",
      "[2] The condition number is large, 1.83e+04. This might indicate that there are\n",
      "strong multicollinearity or other numerical problems.\n"
     ]
    }
   ],
   "source": [
    "result2 = smf.ols('deaths ~ new_deaths + culm_day + confirmed_cases', data=df_la).fit()\n",
    "print(result2.summary())"
   ]
  },
  {
   "cell_type": "code",
   "execution_count": 10,
   "metadata": {},
   "outputs": [
    {
     "name": "stdout",
     "output_type": "stream",
     "text": [
      "                            OLS Regression Results                            \n",
      "==============================================================================\n",
      "Dep. Variable:                 deaths   R-squared:                       0.788\n",
      "Model:                            OLS   Adj. R-squared:                  0.784\n",
      "Method:                 Least Squares   F-statistic:                     172.9\n",
      "Date:                Tue, 05 May 2020   Prob (F-statistic):           4.62e-32\n",
      "Time:                        12:57:41   Log-Likelihood:                -607.05\n",
      "No. Observations:                  96   AIC:                             1220.\n",
      "Df Residuals:                      93   BIC:                             1228.\n",
      "Df Model:                           2                                         \n",
      "Covariance Type:            nonrobust                                         \n",
      "==============================================================================\n",
      "                 coef    std err          t      P>|t|      [0.025      0.975]\n",
      "------------------------------------------------------------------------------\n",
      "Intercept    -58.4059     32.522     -1.796      0.076    -122.989       6.177\n",
      "new_deaths    11.7124      1.151     10.173      0.000       9.426      13.999\n",
      "culm_day       1.6449      0.792      2.076      0.041       0.071       3.219\n",
      "==============================================================================\n",
      "Omnibus:                       42.540   Durbin-Watson:                   0.570\n",
      "Prob(Omnibus):                  0.000   Jarque-Bera (JB):              141.136\n",
      "Skew:                           1.465   Prob(JB):                     2.25e-31\n",
      "Kurtosis:                       8.167   Cond. No.                         136.\n",
      "==============================================================================\n",
      "\n",
      "Warnings:\n",
      "[1] Standard Errors assume that the covariance matrix of the errors is correctly specified.\n"
     ]
    }
   ],
   "source": [
    "final_result = smf.ols('deaths ~ new_deaths + culm_day', data=df_la).fit()\n",
    "print(final_result.summary())"
   ]
  },
  {
   "cell_type": "code",
   "execution_count": 11,
   "metadata": {},
   "outputs": [
    {
     "data": {
      "text/html": [
       "<div>\n",
       "<style scoped>\n",
       "    .dataframe tbody tr th:only-of-type {\n",
       "        vertical-align: middle;\n",
       "    }\n",
       "\n",
       "    .dataframe tbody tr th {\n",
       "        vertical-align: top;\n",
       "    }\n",
       "\n",
       "    .dataframe thead th {\n",
       "        text-align: right;\n",
       "    }\n",
       "</style>\n",
       "<table border=\"1\" class=\"dataframe\">\n",
       "  <thead>\n",
       "    <tr style=\"text-align: right;\">\n",
       "      <th></th>\n",
       "      <th>confirmed_cases</th>\n",
       "      <th>deaths</th>\n",
       "      <th>new_confirmed_cases</th>\n",
       "      <th>new_deaths</th>\n",
       "      <th>culm_day</th>\n",
       "    </tr>\n",
       "  </thead>\n",
       "  <tbody>\n",
       "    <tr>\n",
       "      <td>795</td>\n",
       "      <td>1</td>\n",
       "      <td>0</td>\n",
       "      <td>0.0</td>\n",
       "      <td>0.0</td>\n",
       "      <td>1</td>\n",
       "    </tr>\n",
       "    <tr>\n",
       "      <td>796</td>\n",
       "      <td>1</td>\n",
       "      <td>0</td>\n",
       "      <td>0.0</td>\n",
       "      <td>0.0</td>\n",
       "      <td>2</td>\n",
       "    </tr>\n",
       "    <tr>\n",
       "      <td>797</td>\n",
       "      <td>1</td>\n",
       "      <td>0</td>\n",
       "      <td>0.0</td>\n",
       "      <td>0.0</td>\n",
       "      <td>3</td>\n",
       "    </tr>\n",
       "    <tr>\n",
       "      <td>798</td>\n",
       "      <td>1</td>\n",
       "      <td>0</td>\n",
       "      <td>0.0</td>\n",
       "      <td>0.0</td>\n",
       "      <td>4</td>\n",
       "    </tr>\n",
       "    <tr>\n",
       "      <td>799</td>\n",
       "      <td>1</td>\n",
       "      <td>0</td>\n",
       "      <td>0.0</td>\n",
       "      <td>0.0</td>\n",
       "      <td>5</td>\n",
       "    </tr>\n",
       "  </tbody>\n",
       "</table>\n",
       "</div>"
      ],
      "text/plain": [
       "     confirmed_cases  deaths  new_confirmed_cases  new_deaths  culm_day\n",
       "795                1       0                  0.0         0.0         1\n",
       "796                1       0                  0.0         0.0         2\n",
       "797                1       0                  0.0         0.0         3\n",
       "798                1       0                  0.0         0.0         4\n",
       "799                1       0                  0.0         0.0         5"
      ]
     },
     "execution_count": 11,
     "metadata": {},
     "output_type": "execute_result"
    }
   ],
   "source": [
    "df_la.head()"
   ]
  },
  {
   "cell_type": "code",
   "execution_count": 12,
   "metadata": {},
   "outputs": [
    {
     "ename": "SyntaxError",
     "evalue": "invalid syntax (<ipython-input-12-b09ecf671146>, line 3)",
     "output_type": "error",
     "traceback": [
      "\u001b[0;36m  File \u001b[0;32m\"<ipython-input-12-b09ecf671146>\"\u001b[0;36m, line \u001b[0;32m3\u001b[0m\n\u001b[0;31m    import statsmodels.discrete.discrete_model.Logit.cdf as Logit.cdf\u001b[0m\n\u001b[0m                                                                 ^\u001b[0m\n\u001b[0;31mSyntaxError\u001b[0m\u001b[0;31m:\u001b[0m invalid syntax\n"
     ]
    }
   ],
   "source": [
    "####still working on#####\n",
    "formula = 'deaths ~ new_deaths + culm_day'\n",
    "import statsmodels.discrete.discrete_model.Logit.cdf as Logit.cdf\n",
    "mod2 = Logit.cdf(formula)\n",
    "mod2.summary()"
   ]
  },
  {
   "cell_type": "code",
   "execution_count": 13,
   "metadata": {},
   "outputs": [
    {
     "name": "stdout",
     "output_type": "stream",
     "text": [
      "                 Generalized Linear Model Regression Results                  \n",
      "==============================================================================\n",
      "Dep. Variable:                 deaths   No. Observations:                   96\n",
      "Model:                            GLM   Df Residuals:                       95\n",
      "Model Family:                Gaussian   Df Model:                            0\n",
      "Link Function:                    log   Scale:                          1694.9\n",
      "Method:                          IRLS   Log-Likelihood:                -492.62\n",
      "Date:                Tue, 05 May 2020   Deviance:                   1.6101e+05\n",
      "Time:                        12:57:46   Pearson chi2:                 1.61e+05\n",
      "No. Iterations:                     6                                         \n",
      "Covariance Type:            nonrobust                                         \n",
      "==============================================================================\n",
      "                 coef    std err          z      P>|z|      [0.025      0.975]\n",
      "------------------------------------------------------------------------------\n",
      "culm_day       0.0739      0.000    524.440      0.000       0.074       0.074\n",
      "==============================================================================\n"
     ]
    },
    {
     "name": "stderr",
     "output_type": "stream",
     "text": [
      "/opt/anaconda3/lib/python3.7/site-packages/ipykernel_launcher.py:5: DeprecationWarning: Calling Family(..) with a link class as argument is deprecated.\n",
      "Use an instance of a link class instead.\n",
      "  \"\"\"\n"
     ]
    }
   ],
   "source": [
    "#https://www.statsmodels.org/devel/examples/notebooks/generated/glm.html\n",
    "#GLM: Gaussian distribution with a noncanonical link\n",
    "X = df_la['culm_day']\n",
    "lny = df_la['deaths']\n",
    "gauss_log = sm.GLM(lny, X, family=sm.families.Gaussian(sm.families.links.log))\n",
    "gauss_log_results = gauss_log.fit()\n",
    "print(gauss_log_results.summary())"
   ]
  },
  {
   "cell_type": "code",
   "execution_count": 14,
   "metadata": {
    "scrolled": true
   },
   "outputs": [
    {
     "name": "stdout",
     "output_type": "stream",
     "text": [
      "                 Generalized Linear Model Regression Results                  \n",
      "==============================================================================\n",
      "Dep. Variable:                 deaths   No. Observations:                   96\n",
      "Model:                            GLM   Df Residuals:                       95\n",
      "Model Family:                Gaussian   Df Model:                            0\n",
      "Link Function:                    log   Scale:                          81367.\n",
      "Method:                          IRLS   Log-Likelihood:                -678.44\n",
      "Date:                Tue, 05 May 2020   Deviance:                   7.7298e+06\n",
      "Time:                        12:57:47   Pearson chi2:                 7.73e+06\n",
      "No. Iterations:                    11                                         \n",
      "Covariance Type:            nonrobust                                         \n",
      "==============================================================================\n",
      "                 coef    std err          z      P>|z|      [0.025      0.975]\n",
      "------------------------------------------------------------------------------\n",
      "new_deaths     0.0939      0.003     35.938      0.000       0.089       0.099\n",
      "==============================================================================\n"
     ]
    },
    {
     "name": "stderr",
     "output_type": "stream",
     "text": [
      "/opt/anaconda3/lib/python3.7/site-packages/ipykernel_launcher.py:3: DeprecationWarning: Calling Family(..) with a link class as argument is deprecated.\n",
      "Use an instance of a link class instead.\n",
      "  This is separate from the ipykernel package so we can avoid doing imports until\n"
     ]
    }
   ],
   "source": [
    "X = df_la['new_deaths']\n",
    "lny = df_la['deaths']\n",
    "gauss_log = sm.GLM(lny, X, family=sm.families.Gaussian(sm.families.links.log))\n",
    "gauss_log_results = gauss_log.fit()\n",
    "print(gauss_log_results.summary())"
   ]
  },
  {
   "cell_type": "code",
   "execution_count": 15,
   "metadata": {},
   "outputs": [
    {
     "name": "stdout",
     "output_type": "stream",
     "text": [
      "                 Generalized Linear Model Regression Results                  \n",
      "==============================================================================\n",
      "Dep. Variable:                 deaths   No. Observations:                   96\n",
      "Model:                            GLM   Df Residuals:                       95\n",
      "Model Family:                Gaussian   Df Model:                            0\n",
      "Link Function:                    log   Scale:                          41036.\n",
      "Method:                          IRLS   Log-Likelihood:                -645.58\n",
      "Date:                Tue, 05 May 2020   Deviance:                   3.8984e+06\n",
      "Time:                        12:57:53   Pearson chi2:                 3.90e+06\n",
      "No. Iterations:                     7                                         \n",
      "Covariance Type:            nonrobust                                         \n",
      "===================================================================================\n",
      "                      coef    std err          z      P>|z|      [0.025      0.975]\n",
      "-----------------------------------------------------------------------------------\n",
      "confirmed_cases     0.0003    3.7e-06     85.954      0.000       0.000       0.000\n",
      "===================================================================================\n"
     ]
    },
    {
     "name": "stderr",
     "output_type": "stream",
     "text": [
      "/opt/anaconda3/lib/python3.7/site-packages/ipykernel_launcher.py:3: DeprecationWarning: Calling Family(..) with a link class as argument is deprecated.\n",
      "Use an instance of a link class instead.\n",
      "  This is separate from the ipykernel package so we can avoid doing imports until\n"
     ]
    }
   ],
   "source": [
    "X = df_la['confirmed_cases']\n",
    "lny = df_la['deaths']\n",
    "gauss_log = sm.GLM(lny, X, family=sm.families.Gaussian(sm.families.links.log))\n",
    "gauss_log_results = gauss_log.fit()\n",
    "print(gauss_log_results.summary())"
   ]
  },
  {
   "cell_type": "code",
   "execution_count": 16,
   "metadata": {},
   "outputs": [
    {
     "name": "stdout",
     "output_type": "stream",
     "text": [
      "                 Generalized Linear Model Regression Results                  \n",
      "==============================================================================\n",
      "Dep. Variable:        confirmed_cases   No. Observations:                   96\n",
      "Model:                            GLM   Df Residuals:                       95\n",
      "Model Family:                Gaussian   Df Model:                            0\n",
      "Link Function:                    log   Scale:                      4.9728e+06\n",
      "Method:                          IRLS   Log-Likelihood:                -875.85\n",
      "Date:                Tue, 05 May 2020   Deviance:                   4.7241e+08\n",
      "Time:                        12:57:54   Pearson chi2:                 4.72e+08\n",
      "No. Iterations:                     7                                         \n",
      "Covariance Type:            nonrobust                                         \n",
      "==============================================================================\n",
      "                 coef    std err          z      P>|z|      [0.025      0.975]\n",
      "------------------------------------------------------------------------------\n",
      "culm_day       0.1076      0.000    307.920      0.000       0.107       0.108\n",
      "==============================================================================\n"
     ]
    },
    {
     "name": "stderr",
     "output_type": "stream",
     "text": [
      "/opt/anaconda3/lib/python3.7/site-packages/ipykernel_launcher.py:4: DeprecationWarning: Calling Family(..) with a link class as argument is deprecated.\n",
      "Use an instance of a link class instead.\n",
      "  after removing the cwd from sys.path.\n"
     ]
    }
   ],
   "source": [
    "#log confirmed cases\n",
    "X = df_la['culm_day']\n",
    "lny = df_la['confirmed_cases']\n",
    "gauss_log = sm.GLM(lny, X, family=sm.families.Gaussian(sm.families.links.log))\n",
    "gauss_log_results = gauss_log.fit()\n",
    "print(gauss_log_results.summary())"
   ]
  },
  {
   "cell_type": "code",
   "execution_count": 17,
   "metadata": {},
   "outputs": [
    {
     "name": "stdout",
     "output_type": "stream",
     "text": [
      "                 Generalized Linear Model Regression Results                  \n",
      "==============================================================================\n",
      "Dep. Variable:        confirmed_cases   No. Observations:                   96\n",
      "Model:                            GLM   Df Residuals:                       95\n",
      "Model Family:                Gaussian   Df Model:                            0\n",
      "Link Function:                    log   Scale:                      4.9526e+07\n",
      "Method:                          IRLS   Log-Likelihood:                -986.18\n",
      "Date:                Tue, 05 May 2020   Deviance:                   4.7050e+09\n",
      "Time:                        12:58:00   Pearson chi2:                 4.70e+09\n",
      "No. Iterations:                    12                                         \n",
      "Covariance Type:            nonrobust                                         \n",
      "==============================================================================\n",
      "                 coef    std err          z      P>|z|      [0.025      0.975]\n",
      "------------------------------------------------------------------------------\n",
      "new_deaths     0.1319      0.004     34.218      0.000       0.124       0.139\n",
      "==============================================================================\n"
     ]
    },
    {
     "name": "stderr",
     "output_type": "stream",
     "text": [
      "/opt/anaconda3/lib/python3.7/site-packages/ipykernel_launcher.py:3: DeprecationWarning: Calling Family(..) with a link class as argument is deprecated.\n",
      "Use an instance of a link class instead.\n",
      "  This is separate from the ipykernel package so we can avoid doing imports until\n"
     ]
    }
   ],
   "source": [
    "X = df_la['new_deaths']\n",
    "lny = df_la['confirmed_cases']\n",
    "gauss_log = sm.GLM(lny, X, family=sm.families.Gaussian(sm.families.links.log))\n",
    "gauss_log_results = gauss_log.fit()\n",
    "print(gauss_log_results.summary())"
   ]
  },
  {
   "cell_type": "code",
   "execution_count": 18,
   "metadata": {},
   "outputs": [
    {
     "name": "stdout",
     "output_type": "stream",
     "text": [
      "                 Generalized Linear Model Regression Results                  \n",
      "==============================================================================\n",
      "Dep. Variable:        confirmed_cases   No. Observations:                   96\n",
      "Model:                            GLM   Df Residuals:                       95\n",
      "Model Family:                Gaussian   Df Model:                            0\n",
      "Link Function:                    log   Scale:                      3.5571e+07\n",
      "Method:                          IRLS   Log-Likelihood:                -970.30\n",
      "Date:                Tue, 05 May 2020   Deviance:                   3.3793e+09\n",
      "Time:                        12:58:01   Pearson chi2:                 3.38e+09\n",
      "No. Iterations:                    10                                         \n",
      "Covariance Type:            nonrobust                                         \n",
      "==============================================================================\n",
      "                 coef    std err          z      P>|z|      [0.025      0.975]\n",
      "------------------------------------------------------------------------------\n",
      "deaths         0.0093      0.000     73.979      0.000       0.009       0.010\n",
      "==============================================================================\n"
     ]
    },
    {
     "name": "stderr",
     "output_type": "stream",
     "text": [
      "/opt/anaconda3/lib/python3.7/site-packages/ipykernel_launcher.py:4: DeprecationWarning: Calling Family(..) with a link class as argument is deprecated.\n",
      "Use an instance of a link class instead.\n",
      "  after removing the cwd from sys.path.\n"
     ]
    }
   ],
   "source": [
    "#without logging death\n",
    "X = df_la['deaths']\n",
    "lny = df_la['confirmed_cases']\n",
    "gauss_log = sm.GLM(lny, X, family=sm.families.Gaussian(sm.families.links.log))\n",
    "gauss_log_results = gauss_log.fit()\n",
    "print(gauss_log_results.summary())"
   ]
  },
  {
   "cell_type": "code",
   "execution_count": null,
   "metadata": {},
   "outputs": [],
   "source": []
  }
 ],
 "metadata": {
  "kernelspec": {
   "display_name": "Python 3",
   "language": "python",
   "name": "python3"
  },
  "language_info": {
   "codemirror_mode": {
    "name": "ipython",
    "version": 3
   },
   "file_extension": ".py",
   "mimetype": "text/x-python",
   "name": "python",
   "nbconvert_exporter": "python",
   "pygments_lexer": "ipython3",
   "version": "3.7.4"
  }
 },
 "nbformat": 4,
 "nbformat_minor": 2
}

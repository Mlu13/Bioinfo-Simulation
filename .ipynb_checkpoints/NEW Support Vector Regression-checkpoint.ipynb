{
 "cells": [
  {
   "cell_type": "code",
   "execution_count": 17,
   "metadata": {},
   "outputs": [],
   "source": [
    "import numpy as np\n",
    "import pandas as pd     \n",
    "import matplotlib as mpl\n",
    "import matplotlib.pyplot as plt\n",
    "import seaborn as sns    \n",
    "from pandas.api.types import CategoricalDtype\n",
    "from sklearn.preprocessing import MinMaxScaler\n",
    "from sklearn.svm import SVC\n",
    "from sklearn.metrics import confusion_matrix, accuracy_score, classification_report, roc_curve, auc\n",
    "from sklearn.model_selection import train_test_split, GridSearchCV, cross_val_score\n",
    "from sklearn.svm import SVR\n",
    "from sklearn.metrics import r2_score,mean_squared_error"
   ]
  },
  {
   "cell_type": "code",
   "execution_count": 18,
   "metadata": {},
   "outputs": [],
   "source": [
    "df = pd.read_csv(\"latimes-county-totals.csv\")"
   ]
  },
  {
   "cell_type": "code",
   "execution_count": 19,
   "metadata": {
    "scrolled": true
   },
   "outputs": [
    {
     "data": {
      "text/html": [
       "<div>\n",
       "<style scoped>\n",
       "    .dataframe tbody tr th:only-of-type {\n",
       "        vertical-align: middle;\n",
       "    }\n",
       "\n",
       "    .dataframe tbody tr th {\n",
       "        vertical-align: top;\n",
       "    }\n",
       "\n",
       "    .dataframe thead th {\n",
       "        text-align: right;\n",
       "    }\n",
       "</style>\n",
       "<table border=\"1\" class=\"dataframe\">\n",
       "  <thead>\n",
       "    <tr style=\"text-align: right;\">\n",
       "      <th></th>\n",
       "      <th>date</th>\n",
       "      <th>county</th>\n",
       "      <th>fips</th>\n",
       "      <th>confirmed_cases</th>\n",
       "      <th>deaths</th>\n",
       "      <th>new_confirmed_cases</th>\n",
       "      <th>new_deaths</th>\n",
       "    </tr>\n",
       "  </thead>\n",
       "  <tbody>\n",
       "    <tr>\n",
       "      <td>0</td>\n",
       "      <td>2020-01-26</td>\n",
       "      <td>Alameda</td>\n",
       "      <td>1</td>\n",
       "      <td>0</td>\n",
       "      <td>0</td>\n",
       "      <td>NaN</td>\n",
       "      <td>NaN</td>\n",
       "    </tr>\n",
       "    <tr>\n",
       "      <td>1</td>\n",
       "      <td>2020-01-31</td>\n",
       "      <td>Alameda</td>\n",
       "      <td>1</td>\n",
       "      <td>0</td>\n",
       "      <td>0</td>\n",
       "      <td>0.0</td>\n",
       "      <td>0.0</td>\n",
       "    </tr>\n",
       "    <tr>\n",
       "      <td>2</td>\n",
       "      <td>2020-02-02</td>\n",
       "      <td>Alameda</td>\n",
       "      <td>1</td>\n",
       "      <td>0</td>\n",
       "      <td>0</td>\n",
       "      <td>0.0</td>\n",
       "      <td>0.0</td>\n",
       "    </tr>\n",
       "    <tr>\n",
       "      <td>3</td>\n",
       "      <td>2020-02-20</td>\n",
       "      <td>Alameda</td>\n",
       "      <td>1</td>\n",
       "      <td>0</td>\n",
       "      <td>0</td>\n",
       "      <td>0.0</td>\n",
       "      <td>0.0</td>\n",
       "    </tr>\n",
       "    <tr>\n",
       "      <td>4</td>\n",
       "      <td>2020-02-21</td>\n",
       "      <td>Alameda</td>\n",
       "      <td>1</td>\n",
       "      <td>0</td>\n",
       "      <td>0</td>\n",
       "      <td>0.0</td>\n",
       "      <td>0.0</td>\n",
       "    </tr>\n",
       "  </tbody>\n",
       "</table>\n",
       "</div>"
      ],
      "text/plain": [
       "         date   county  fips  confirmed_cases  deaths  new_confirmed_cases  \\\n",
       "0  2020-01-26  Alameda     1                0       0                  NaN   \n",
       "1  2020-01-31  Alameda     1                0       0                  0.0   \n",
       "2  2020-02-02  Alameda     1                0       0                  0.0   \n",
       "3  2020-02-20  Alameda     1                0       0                  0.0   \n",
       "4  2020-02-21  Alameda     1                0       0                  0.0   \n",
       "\n",
       "   new_deaths  \n",
       "0         NaN  \n",
       "1         0.0  \n",
       "2         0.0  \n",
       "3         0.0  \n",
       "4         0.0  "
      ]
     },
     "execution_count": 19,
     "metadata": {},
     "output_type": "execute_result"
    }
   ],
   "source": [
    "df.head()"
   ]
  },
  {
   "cell_type": "code",
   "execution_count": 20,
   "metadata": {},
   "outputs": [
    {
     "data": {
      "text/html": [
       "<div>\n",
       "<style scoped>\n",
       "    .dataframe tbody tr th:only-of-type {\n",
       "        vertical-align: middle;\n",
       "    }\n",
       "\n",
       "    .dataframe tbody tr th {\n",
       "        vertical-align: top;\n",
       "    }\n",
       "\n",
       "    .dataframe thead th {\n",
       "        text-align: right;\n",
       "    }\n",
       "</style>\n",
       "<table border=\"1\" class=\"dataframe\">\n",
       "  <thead>\n",
       "    <tr style=\"text-align: right;\">\n",
       "      <th></th>\n",
       "      <th>fips</th>\n",
       "      <th>confirmed_cases</th>\n",
       "      <th>deaths</th>\n",
       "      <th>new_confirmed_cases</th>\n",
       "      <th>new_deaths</th>\n",
       "    </tr>\n",
       "  </thead>\n",
       "  <tbody>\n",
       "    <tr>\n",
       "      <td>count</td>\n",
       "      <td>2920.000000</td>\n",
       "      <td>2920.000000</td>\n",
       "      <td>2920.000000</td>\n",
       "      <td>2862.000000</td>\n",
       "      <td>2862.000000</td>\n",
       "    </tr>\n",
       "    <tr>\n",
       "      <td>mean</td>\n",
       "      <td>59.421918</td>\n",
       "      <td>318.141096</td>\n",
       "      <td>10.724658</td>\n",
       "      <td>17.596785</td>\n",
       "      <td>0.714186</td>\n",
       "    </tr>\n",
       "    <tr>\n",
       "      <td>std</td>\n",
       "      <td>32.941820</td>\n",
       "      <td>1416.427519</td>\n",
       "      <td>61.648443</td>\n",
       "      <td>81.188232</td>\n",
       "      <td>4.216701</td>\n",
       "    </tr>\n",
       "    <tr>\n",
       "      <td>min</td>\n",
       "      <td>1.000000</td>\n",
       "      <td>0.000000</td>\n",
       "      <td>0.000000</td>\n",
       "      <td>-2.000000</td>\n",
       "      <td>0.000000</td>\n",
       "    </tr>\n",
       "    <tr>\n",
       "      <td>25%</td>\n",
       "      <td>29.000000</td>\n",
       "      <td>2.000000</td>\n",
       "      <td>0.000000</td>\n",
       "      <td>0.000000</td>\n",
       "      <td>0.000000</td>\n",
       "    </tr>\n",
       "    <tr>\n",
       "      <td>50%</td>\n",
       "      <td>63.000000</td>\n",
       "      <td>18.000000</td>\n",
       "      <td>0.000000</td>\n",
       "      <td>1.000000</td>\n",
       "      <td>0.000000</td>\n",
       "    </tr>\n",
       "    <tr>\n",
       "      <td>75%</td>\n",
       "      <td>85.000000</td>\n",
       "      <td>136.000000</td>\n",
       "      <td>3.000000</td>\n",
       "      <td>8.000000</td>\n",
       "      <td>0.000000</td>\n",
       "    </tr>\n",
       "    <tr>\n",
       "      <td>max</td>\n",
       "      <td>115.000000</td>\n",
       "      <td>23233.000000</td>\n",
       "      <td>1119.000000</td>\n",
       "      <td>1505.000000</td>\n",
       "      <td>76.000000</td>\n",
       "    </tr>\n",
       "  </tbody>\n",
       "</table>\n",
       "</div>"
      ],
      "text/plain": [
       "              fips  confirmed_cases       deaths  new_confirmed_cases  \\\n",
       "count  2920.000000      2920.000000  2920.000000          2862.000000   \n",
       "mean     59.421918       318.141096    10.724658            17.596785   \n",
       "std      32.941820      1416.427519    61.648443            81.188232   \n",
       "min       1.000000         0.000000     0.000000            -2.000000   \n",
       "25%      29.000000         2.000000     0.000000             0.000000   \n",
       "50%      63.000000        18.000000     0.000000             1.000000   \n",
       "75%      85.000000       136.000000     3.000000             8.000000   \n",
       "max     115.000000     23233.000000  1119.000000          1505.000000   \n",
       "\n",
       "        new_deaths  \n",
       "count  2862.000000  \n",
       "mean      0.714186  \n",
       "std       4.216701  \n",
       "min       0.000000  \n",
       "25%       0.000000  \n",
       "50%       0.000000  \n",
       "75%       0.000000  \n",
       "max      76.000000  "
      ]
     },
     "execution_count": 20,
     "metadata": {},
     "output_type": "execute_result"
    }
   ],
   "source": [
    "df.describe()"
   ]
  },
  {
   "cell_type": "code",
   "execution_count": 21,
   "metadata": {
    "scrolled": true
   },
   "outputs": [
    {
     "name": "stdout",
     "output_type": "stream",
     "text": [
      "<class 'pandas.core.frame.DataFrame'>\n",
      "RangeIndex: 2920 entries, 0 to 2919\n",
      "Data columns (total 7 columns):\n",
      "date                   2920 non-null object\n",
      "county                 2920 non-null object\n",
      "fips                   2920 non-null int64\n",
      "confirmed_cases        2920 non-null int64\n",
      "deaths                 2920 non-null int64\n",
      "new_confirmed_cases    2862 non-null float64\n",
      "new_deaths             2862 non-null float64\n",
      "dtypes: float64(2), int64(3), object(2)\n",
      "memory usage: 159.8+ KB\n"
     ]
    }
   ],
   "source": [
    "df.info()"
   ]
  },
  {
   "cell_type": "code",
   "execution_count": 22,
   "metadata": {},
   "outputs": [],
   "source": [
    "df_la = df[df['county'] == 'Los Angeles']"
   ]
  },
  {
   "cell_type": "code",
   "execution_count": 23,
   "metadata": {},
   "outputs": [
    {
     "name": "stdout",
     "output_type": "stream",
     "text": [
      "           date       county  fips  confirmed_cases  deaths  \\\n",
      "795  2020-01-26  Los Angeles    37                1       0   \n",
      "796  2020-01-27  Los Angeles    37                1       0   \n",
      "797  2020-01-28  Los Angeles    37                1       0   \n",
      "798  2020-01-29  Los Angeles    37                1       0   \n",
      "799  2020-01-30  Los Angeles    37                1       0   \n",
      "..          ...          ...   ...              ...     ...   \n",
      "886  2020-04-26  Los Angeles    37            19567     916   \n",
      "887  2020-04-27  Los Angeles    37            20460     948   \n",
      "888  2020-04-28  Los Angeles    37            21017    1004   \n",
      "889  2020-04-29  Los Angeles    37            22522    1065   \n",
      "890  2020-04-30  Los Angeles    37            23233    1119   \n",
      "\n",
      "     new_confirmed_cases  new_deaths  \n",
      "795                  NaN         NaN  \n",
      "796                  0.0         0.0  \n",
      "797                  0.0         0.0  \n",
      "798                  0.0         0.0  \n",
      "799                  0.0         0.0  \n",
      "..                   ...         ...  \n",
      "886                408.0        20.0  \n",
      "887                893.0        32.0  \n",
      "888                557.0        56.0  \n",
      "889               1505.0        61.0  \n",
      "890                711.0        54.0  \n",
      "\n",
      "[96 rows x 7 columns]\n"
     ]
    }
   ],
   "source": [
    "print(df_la)"
   ]
  },
  {
   "cell_type": "code",
   "execution_count": 24,
   "metadata": {},
   "outputs": [
    {
     "data": {
      "text/plain": [
       "96"
      ]
     },
     "execution_count": 24,
     "metadata": {},
     "output_type": "execute_result"
    }
   ],
   "source": [
    "days = list(range(1,len(df_la)+1))\n",
    "len(days)"
   ]
  },
  {
   "cell_type": "code",
   "execution_count": 25,
   "metadata": {
    "scrolled": true
   },
   "outputs": [
    {
     "name": "stdout",
     "output_type": "stream",
     "text": [
      "Empty DataFrame\n",
      "Columns: [date, county, fips, confirmed_cases, deaths, new_confirmed_cases, new_deaths, culm_day]\n",
      "Index: []\n"
     ]
    },
    {
     "name": "stderr",
     "output_type": "stream",
     "text": [
      "/opt/anaconda3/lib/python3.7/site-packages/ipykernel_launcher.py:1: SettingWithCopyWarning: \n",
      "A value is trying to be set on a copy of a slice from a DataFrame.\n",
      "Try using .loc[row_indexer,col_indexer] = value instead\n",
      "\n",
      "See the caveats in the documentation: http://pandas.pydata.org/pandas-docs/stable/user_guide/indexing.html#returning-a-view-versus-a-copy\n",
      "  \"\"\"Entry point for launching an IPython kernel.\n"
     ]
    }
   ],
   "source": [
    "df_la['culm_day'] = days\n",
    "#print(df_la)\n",
    "\n",
    "df_la = df_la.loc[df_la.culm_day == df_la.date].copy()\n",
    "print(df_la)"
   ]
  },
  {
   "cell_type": "code",
   "execution_count": 12,
   "metadata": {
    "scrolled": false
   },
   "outputs": [
    {
     "data": {
      "text/plain": [
       "Index(['date', 'county', 'fips', 'confirmed_cases', 'deaths',\n",
       "       'new_confirmed_cases', 'new_deaths', 'culm_day'],\n",
       "      dtype='object')"
      ]
     },
     "execution_count": 12,
     "metadata": {},
     "output_type": "execute_result"
    }
   ],
   "source": [
    "df_la.columns"
   ]
  },
  {
   "cell_type": "code",
   "execution_count": 16,
   "metadata": {},
   "outputs": [
    {
     "ename": "KeyError",
     "evalue": "\"['date' 'county' 'fips'] not found in axis\"",
     "output_type": "error",
     "traceback": [
      "\u001b[0;31m---------------------------------------------------------------------------\u001b[0m",
      "\u001b[0;31mKeyError\u001b[0m                                  Traceback (most recent call last)",
      "\u001b[0;32m<ipython-input-16-606888850227>\u001b[0m in \u001b[0;36m<module>\u001b[0;34m\u001b[0m\n\u001b[0;32m----> 1\u001b[0;31m \u001b[0mdf_la\u001b[0m \u001b[0;34m=\u001b[0m \u001b[0mdf_la\u001b[0m\u001b[0;34m.\u001b[0m\u001b[0mdrop\u001b[0m\u001b[0;34m(\u001b[0m\u001b[0mlabels\u001b[0m\u001b[0;34m=\u001b[0m\u001b[0;34m[\u001b[0m\u001b[0;34m'date'\u001b[0m\u001b[0;34m,\u001b[0m\u001b[0;34m'county'\u001b[0m\u001b[0;34m,\u001b[0m\u001b[0;34m'fips'\u001b[0m\u001b[0;34m]\u001b[0m\u001b[0;34m,\u001b[0m \u001b[0maxis\u001b[0m\u001b[0;34m=\u001b[0m\u001b[0;36m1\u001b[0m\u001b[0;34m)\u001b[0m\u001b[0;34m\u001b[0m\u001b[0;34m\u001b[0m\u001b[0m\n\u001b[0m\u001b[1;32m      2\u001b[0m \u001b[0;31m# print (df_la.info())\u001b[0m\u001b[0;34m\u001b[0m\u001b[0;34m\u001b[0m\u001b[0;34m\u001b[0m\u001b[0m\n\u001b[1;32m      3\u001b[0m \u001b[0;31m# df_la.describe()\u001b[0m\u001b[0;34m\u001b[0m\u001b[0;34m\u001b[0m\u001b[0;34m\u001b[0m\u001b[0m\n",
      "\u001b[0;32m/opt/anaconda3/lib/python3.7/site-packages/pandas/core/frame.py\u001b[0m in \u001b[0;36mdrop\u001b[0;34m(self, labels, axis, index, columns, level, inplace, errors)\u001b[0m\n\u001b[1;32m   4100\u001b[0m             \u001b[0mlevel\u001b[0m\u001b[0;34m=\u001b[0m\u001b[0mlevel\u001b[0m\u001b[0;34m,\u001b[0m\u001b[0;34m\u001b[0m\u001b[0;34m\u001b[0m\u001b[0m\n\u001b[1;32m   4101\u001b[0m             \u001b[0minplace\u001b[0m\u001b[0;34m=\u001b[0m\u001b[0minplace\u001b[0m\u001b[0;34m,\u001b[0m\u001b[0;34m\u001b[0m\u001b[0;34m\u001b[0m\u001b[0m\n\u001b[0;32m-> 4102\u001b[0;31m             \u001b[0merrors\u001b[0m\u001b[0;34m=\u001b[0m\u001b[0merrors\u001b[0m\u001b[0;34m,\u001b[0m\u001b[0;34m\u001b[0m\u001b[0;34m\u001b[0m\u001b[0m\n\u001b[0m\u001b[1;32m   4103\u001b[0m         )\n\u001b[1;32m   4104\u001b[0m \u001b[0;34m\u001b[0m\u001b[0m\n",
      "\u001b[0;32m/opt/anaconda3/lib/python3.7/site-packages/pandas/core/generic.py\u001b[0m in \u001b[0;36mdrop\u001b[0;34m(self, labels, axis, index, columns, level, inplace, errors)\u001b[0m\n\u001b[1;32m   3912\u001b[0m         \u001b[0;32mfor\u001b[0m \u001b[0maxis\u001b[0m\u001b[0;34m,\u001b[0m \u001b[0mlabels\u001b[0m \u001b[0;32min\u001b[0m \u001b[0maxes\u001b[0m\u001b[0;34m.\u001b[0m\u001b[0mitems\u001b[0m\u001b[0;34m(\u001b[0m\u001b[0;34m)\u001b[0m\u001b[0;34m:\u001b[0m\u001b[0;34m\u001b[0m\u001b[0;34m\u001b[0m\u001b[0m\n\u001b[1;32m   3913\u001b[0m             \u001b[0;32mif\u001b[0m \u001b[0mlabels\u001b[0m \u001b[0;32mis\u001b[0m \u001b[0;32mnot\u001b[0m \u001b[0;32mNone\u001b[0m\u001b[0;34m:\u001b[0m\u001b[0;34m\u001b[0m\u001b[0;34m\u001b[0m\u001b[0m\n\u001b[0;32m-> 3914\u001b[0;31m                 \u001b[0mobj\u001b[0m \u001b[0;34m=\u001b[0m \u001b[0mobj\u001b[0m\u001b[0;34m.\u001b[0m\u001b[0m_drop_axis\u001b[0m\u001b[0;34m(\u001b[0m\u001b[0mlabels\u001b[0m\u001b[0;34m,\u001b[0m \u001b[0maxis\u001b[0m\u001b[0;34m,\u001b[0m \u001b[0mlevel\u001b[0m\u001b[0;34m=\u001b[0m\u001b[0mlevel\u001b[0m\u001b[0;34m,\u001b[0m \u001b[0merrors\u001b[0m\u001b[0;34m=\u001b[0m\u001b[0merrors\u001b[0m\u001b[0;34m)\u001b[0m\u001b[0;34m\u001b[0m\u001b[0;34m\u001b[0m\u001b[0m\n\u001b[0m\u001b[1;32m   3915\u001b[0m \u001b[0;34m\u001b[0m\u001b[0m\n\u001b[1;32m   3916\u001b[0m         \u001b[0;32mif\u001b[0m \u001b[0minplace\u001b[0m\u001b[0;34m:\u001b[0m\u001b[0;34m\u001b[0m\u001b[0;34m\u001b[0m\u001b[0m\n",
      "\u001b[0;32m/opt/anaconda3/lib/python3.7/site-packages/pandas/core/generic.py\u001b[0m in \u001b[0;36m_drop_axis\u001b[0;34m(self, labels, axis, level, errors)\u001b[0m\n\u001b[1;32m   3944\u001b[0m                 \u001b[0mnew_axis\u001b[0m \u001b[0;34m=\u001b[0m \u001b[0maxis\u001b[0m\u001b[0;34m.\u001b[0m\u001b[0mdrop\u001b[0m\u001b[0;34m(\u001b[0m\u001b[0mlabels\u001b[0m\u001b[0;34m,\u001b[0m \u001b[0mlevel\u001b[0m\u001b[0;34m=\u001b[0m\u001b[0mlevel\u001b[0m\u001b[0;34m,\u001b[0m \u001b[0merrors\u001b[0m\u001b[0;34m=\u001b[0m\u001b[0merrors\u001b[0m\u001b[0;34m)\u001b[0m\u001b[0;34m\u001b[0m\u001b[0;34m\u001b[0m\u001b[0m\n\u001b[1;32m   3945\u001b[0m             \u001b[0;32melse\u001b[0m\u001b[0;34m:\u001b[0m\u001b[0;34m\u001b[0m\u001b[0;34m\u001b[0m\u001b[0m\n\u001b[0;32m-> 3946\u001b[0;31m                 \u001b[0mnew_axis\u001b[0m \u001b[0;34m=\u001b[0m \u001b[0maxis\u001b[0m\u001b[0;34m.\u001b[0m\u001b[0mdrop\u001b[0m\u001b[0;34m(\u001b[0m\u001b[0mlabels\u001b[0m\u001b[0;34m,\u001b[0m \u001b[0merrors\u001b[0m\u001b[0;34m=\u001b[0m\u001b[0merrors\u001b[0m\u001b[0;34m)\u001b[0m\u001b[0;34m\u001b[0m\u001b[0;34m\u001b[0m\u001b[0m\n\u001b[0m\u001b[1;32m   3947\u001b[0m             \u001b[0mresult\u001b[0m \u001b[0;34m=\u001b[0m \u001b[0mself\u001b[0m\u001b[0;34m.\u001b[0m\u001b[0mreindex\u001b[0m\u001b[0;34m(\u001b[0m\u001b[0;34m**\u001b[0m\u001b[0;34m{\u001b[0m\u001b[0maxis_name\u001b[0m\u001b[0;34m:\u001b[0m \u001b[0mnew_axis\u001b[0m\u001b[0;34m}\u001b[0m\u001b[0;34m)\u001b[0m\u001b[0;34m\u001b[0m\u001b[0;34m\u001b[0m\u001b[0m\n\u001b[1;32m   3948\u001b[0m \u001b[0;34m\u001b[0m\u001b[0m\n",
      "\u001b[0;32m/opt/anaconda3/lib/python3.7/site-packages/pandas/core/indexes/base.py\u001b[0m in \u001b[0;36mdrop\u001b[0;34m(self, labels, errors)\u001b[0m\n\u001b[1;32m   5338\u001b[0m         \u001b[0;32mif\u001b[0m \u001b[0mmask\u001b[0m\u001b[0;34m.\u001b[0m\u001b[0many\u001b[0m\u001b[0;34m(\u001b[0m\u001b[0;34m)\u001b[0m\u001b[0;34m:\u001b[0m\u001b[0;34m\u001b[0m\u001b[0;34m\u001b[0m\u001b[0m\n\u001b[1;32m   5339\u001b[0m             \u001b[0;32mif\u001b[0m \u001b[0merrors\u001b[0m \u001b[0;34m!=\u001b[0m \u001b[0;34m\"ignore\"\u001b[0m\u001b[0;34m:\u001b[0m\u001b[0;34m\u001b[0m\u001b[0;34m\u001b[0m\u001b[0m\n\u001b[0;32m-> 5340\u001b[0;31m                 \u001b[0;32mraise\u001b[0m \u001b[0mKeyError\u001b[0m\u001b[0;34m(\u001b[0m\u001b[0;34m\"{} not found in axis\"\u001b[0m\u001b[0;34m.\u001b[0m\u001b[0mformat\u001b[0m\u001b[0;34m(\u001b[0m\u001b[0mlabels\u001b[0m\u001b[0;34m[\u001b[0m\u001b[0mmask\u001b[0m\u001b[0;34m]\u001b[0m\u001b[0;34m)\u001b[0m\u001b[0;34m)\u001b[0m\u001b[0;34m\u001b[0m\u001b[0;34m\u001b[0m\u001b[0m\n\u001b[0m\u001b[1;32m   5341\u001b[0m             \u001b[0mindexer\u001b[0m \u001b[0;34m=\u001b[0m \u001b[0mindexer\u001b[0m\u001b[0;34m[\u001b[0m\u001b[0;34m~\u001b[0m\u001b[0mmask\u001b[0m\u001b[0;34m]\u001b[0m\u001b[0;34m\u001b[0m\u001b[0;34m\u001b[0m\u001b[0m\n\u001b[1;32m   5342\u001b[0m         \u001b[0;32mreturn\u001b[0m \u001b[0mself\u001b[0m\u001b[0;34m.\u001b[0m\u001b[0mdelete\u001b[0m\u001b[0;34m(\u001b[0m\u001b[0mindexer\u001b[0m\u001b[0;34m)\u001b[0m\u001b[0;34m\u001b[0m\u001b[0;34m\u001b[0m\u001b[0m\n",
      "\u001b[0;31mKeyError\u001b[0m: \"['date' 'county' 'fips'] not found in axis\""
     ]
    }
   ],
   "source": [
    "df_la = df_la.drop(labels=['date','county','fips'], axis=1)\n",
    "# print (df_la.info())\n",
    "# df_la.describe()"
   ]
  },
  {
   "cell_type": "code",
   "execution_count": 15,
   "metadata": {
    "scrolled": true
   },
   "outputs": [
    {
     "name": "stdout",
     "output_type": "stream",
     "text": [
      "Empty DataFrame\n",
      "Columns: [confirmed_cases, deaths, new_confirmed_cases, new_deaths, culm_day]\n",
      "Index: []\n"
     ]
    }
   ],
   "source": [
    "print(df_la)"
   ]
  },
  {
   "cell_type": "code",
   "execution_count": 23,
   "metadata": {},
   "outputs": [],
   "source": [
    "df_la.dropna(inplace=True)"
   ]
  },
  {
   "cell_type": "code",
   "execution_count": 24,
   "metadata": {
    "scrolled": true
   },
   "outputs": [
    {
     "name": "stdout",
     "output_type": "stream",
     "text": [
      "     deaths  new_confirmed_cases  new_deaths  culm_day\n",
      "658       0                  0.0         0.0         2\n",
      "659       0                  0.0         0.0         3\n",
      "660       0                  0.0         0.0         4\n",
      "661       0                  0.0         0.0         5\n",
      "662       0                  0.0         0.0         6\n",
      "..      ...                  ...         ...       ...\n",
      "740     577                630.0        76.0        84\n",
      "741     601                298.0        24.0        85\n",
      "742     619               1474.0        18.0        86\n",
      "743     666               1342.0        47.0        87\n",
      "744     732               1284.0        66.0        88\n",
      "\n",
      "[87 rows x 4 columns]\n",
      "658        1\n",
      "659        1\n",
      "660        1\n",
      "661        1\n",
      "662        1\n",
      "       ...  \n",
      "740    12051\n",
      "741    12349\n",
      "742    13823\n",
      "743    15165\n",
      "744    16449\n",
      "Name: confirmed_cases, Length: 87, dtype: int64\n",
      "[    1     7    11    13    14    19    20    29    32    40    54    69\n",
      "    94   147   192   231   295   353   411   543   670   814  1230  1482\n",
      "  1818  2147  2505  3037  3528  4071  4605  5325  5955  6391  6944  7573\n",
      "  7984  8453  8889  9197  9480 10075 10517 10895 11421 12051 12349 13823\n",
      " 15165 16449]\n"
     ]
    },
    {
     "data": {
      "text/plain": [
       "array(['deaths', 'new_confirmed_cases', 'new_deaths', 'culm_day'],\n",
       "      dtype=object)"
      ]
     },
     "execution_count": 24,
     "metadata": {},
     "output_type": "execute_result"
    }
   ],
   "source": [
    "X = df_la.drop(labels=['confirmed_cases'], axis=1)\n",
    "print (X)\n",
    "y = df_la.loc[:,'confirmed_cases']\n",
    "print (y)\n",
    "print (y.unique())\n",
    "X_col_names = X.columns.values\n",
    "X_col_names"
   ]
  },
  {
   "cell_type": "code",
   "execution_count": 25,
   "metadata": {},
   "outputs": [
    {
     "name": "stdout",
     "output_type": "stream",
     "text": [
      "     deaths  new_confirmed_cases  new_deaths  culm_day\n",
      "718      26                252.0         5.0        62\n",
      "707       1                 25.0         0.0        51\n",
      "691       0                  0.0         0.0        35\n",
      "697       0                  2.0         0.0        41\n",
      "710       2                 39.0         1.0        54\n",
      "681       0                  0.0         0.0        25\n",
      "731     225                411.0        25.0        75\n",
      "723      66                491.0        12.0        67\n",
      "717      21                416.0         8.0        61\n",
      "673       0                  0.0         0.0        17\n",
      "728     147                436.0        15.0        72\n",
      "736     366                595.0        40.0        80\n",
      "684       0                  0.0         0.0        28\n",
      "743     666               1342.0        47.0        87\n",
      "712       4                 58.0         2.0        56\n",
      "662       0                  0.0         0.0         6\n",
      "704       1                  8.0         0.0        48\n",
      "679       0                  0.0         0.0        23\n",
      "732     244                469.0        19.0        76\n",
      "661       0                  0.0         0.0         5\n",
      "719      32                336.0         6.0        63\n",
      "688       0                  0.0         0.0        32\n",
      "713       5                 58.0         1.0        57\n",
      "700       0                  5.0         0.0        44\n",
      "705       1                 14.0         0.0        49\n",
      "709       1                 45.0         0.0        53\n",
      "738     457                378.0        52.0        82\n",
      "682       0                  0.0         0.0        26\n",
      "666       0                  0.0         0.0        10\n",
      "675       0                  0.0         0.0        19\n",
      "658       0                  0.0         0.0         2\n",
      "735     326                283.0        26.0        79\n",
      "715      10                127.0         2.0        59\n",
      "680       0                  0.0         0.0        24\n",
      "665       0                  0.0         0.0         9\n",
      "741     601                298.0        24.0        85\n",
      "699       0                  0.0         0.0        43\n",
      "671       0                  0.0         0.0        15\n",
      "742     619               1474.0        18.0        86\n",
      "672       0                  0.0         0.0        16\n",
      "687       0                  0.0         0.0        31\n",
      "686       0                  0.0         0.0        30\n",
      "669       0                  0.0         0.0        13\n",
      "676       0                  0.0         0.0        20\n",
      "678       0                  0.0         0.0        22\n",
      "708       1                 53.0         0.0        52\n",
      "683       0                  0.0         0.0        27\n",
      "664       0                  0.0         0.0         8\n",
      "729     173                553.0        26.0        73\n",
      "734     300                308.0        33.0        78\n",
      "659       0                  0.0         0.0         3\n",
      "674       0                  0.0         0.0        18\n",
      "722      54                532.0        10.0        66\n",
      "737     405                442.0        39.0        81\n",
      "663       0                  0.0         0.0         7\n",
      "733     267                436.0        23.0        77\n",
      "667       0                  0.0         0.0        11\n",
      "730     200                629.0        27.0        74\n",
      "670       0                  0.0         0.0        14\n",
      "695       0                  6.0         0.0        39\n",
      "60 60\n",
      "27 27\n"
     ]
    }
   ],
   "source": [
    "X_train, X_test, y_train, y_test = train_test_split(X, y, test_size=0.3, random_state=1)\n",
    "print(X_train)\n",
    "print(len(X_train),len(y_train))\n",
    "print(len(X_test),len(y_test))"
   ]
  },
  {
   "cell_type": "code",
   "execution_count": 26,
   "metadata": {},
   "outputs": [
    {
     "name": "stdout",
     "output_type": "stream",
     "text": [
      "     deaths  new_confirmed_cases  new_deaths  culm_day\n",
      "696       0                  4.0         0.0        40\n",
      "702       1                  9.0         1.0        46\n",
      "685       0                  0.0         0.0        29\n",
      "698       0                  1.0         0.0        42\n",
      "694       0                  0.0         0.0        38\n",
      "740     577                630.0        76.0        84\n",
      "716      13                144.0         3.0        60\n",
      "727     132                630.0        13.0        71\n",
      "744     732               1284.0        66.0        88\n",
      "714       8                132.0         3.0        58\n",
      "725      93                534.0        13.0        69\n",
      "711       2                 64.0         0.0        55\n",
      "706       1                 15.0         0.0        50\n",
      "724      80                543.0        14.0        68\n",
      "721      44                358.0         7.0        65\n",
      "668       0                  0.0         0.0        12\n",
      "660       0                  0.0         0.0         4\n",
      "693       0                  0.0         0.0        37\n",
      "726     119                720.0        26.0        70\n",
      "703       1                  3.0         0.0        47\n",
      "677       0                  0.0         0.0        21\n",
      "739     501                526.0        44.0        83\n",
      "692       0                  0.0         0.0        36\n",
      "690       0                  0.0         0.0        34\n",
      "689       0                  0.0         0.0        33\n",
      "701       0                  1.0         0.0        45\n",
      "720      37                329.0         5.0        64\n"
     ]
    },
    {
     "data": {
      "text/plain": [
       "array([[0.00000000e+00, 2.71370421e-03, 0.00000000e+00, 4.47058824e-01],\n",
       "       [1.50150150e-03, 6.10583446e-03, 1.92307692e-02, 5.17647059e-01],\n",
       "       [0.00000000e+00, 0.00000000e+00, 0.00000000e+00, 3.17647059e-01],\n",
       "       [0.00000000e+00, 6.78426052e-04, 0.00000000e+00, 4.70588235e-01],\n",
       "       [0.00000000e+00, 0.00000000e+00, 0.00000000e+00, 4.23529412e-01],\n",
       "       [8.66366366e-01, 4.27408412e-01, 1.46153846e+00, 9.64705882e-01],\n",
       "       [1.95195195e-02, 9.76933514e-02, 5.76923077e-02, 6.82352941e-01],\n",
       "       [1.98198198e-01, 4.27408412e-01, 2.50000000e-01, 8.11764706e-01],\n",
       "       [1.09909910e+00, 8.71099050e-01, 1.26923077e+00, 1.01176471e+00],\n",
       "       [1.20120120e-02, 8.95522388e-02, 5.76923077e-02, 6.58823529e-01],\n",
       "       [1.39639640e-01, 3.62279512e-01, 2.50000000e-01, 7.88235294e-01],\n",
       "       [3.00300300e-03, 4.34192673e-02, 0.00000000e+00, 6.23529412e-01],\n",
       "       [1.50150150e-03, 1.01763908e-02, 0.00000000e+00, 5.64705882e-01],\n",
       "       [1.20120120e-01, 3.68385346e-01, 2.69230769e-01, 7.76470588e-01],\n",
       "       [6.60660661e-02, 2.42876526e-01, 1.34615385e-01, 7.41176471e-01],\n",
       "       [0.00000000e+00, 0.00000000e+00, 0.00000000e+00, 1.17647059e-01],\n",
       "       [0.00000000e+00, 0.00000000e+00, 0.00000000e+00, 2.35294118e-02],\n",
       "       [0.00000000e+00, 0.00000000e+00, 0.00000000e+00, 4.11764706e-01],\n",
       "       [1.78678679e-01, 4.88466757e-01, 5.00000000e-01, 8.00000000e-01],\n",
       "       [1.50150150e-03, 2.03527815e-03, 0.00000000e+00, 5.29411765e-01],\n",
       "       [0.00000000e+00, 0.00000000e+00, 0.00000000e+00, 2.23529412e-01],\n",
       "       [7.52252252e-01, 3.56852103e-01, 8.46153846e-01, 9.52941176e-01],\n",
       "       [0.00000000e+00, 0.00000000e+00, 0.00000000e+00, 4.00000000e-01],\n",
       "       [0.00000000e+00, 0.00000000e+00, 0.00000000e+00, 3.76470588e-01],\n",
       "       [0.00000000e+00, 0.00000000e+00, 0.00000000e+00, 3.64705882e-01],\n",
       "       [0.00000000e+00, 6.78426052e-04, 0.00000000e+00, 5.05882353e-01],\n",
       "       [5.55555556e-02, 2.23202171e-01, 9.61538462e-02, 7.29411765e-01]])"
      ]
     },
     "execution_count": 26,
     "metadata": {},
     "output_type": "execute_result"
    }
   ],
   "source": [
    "print (X_test)\n",
    "min_max_scaler = MinMaxScaler()\n",
    "X_train_minmax = min_max_scaler.fit_transform(X_train)\n",
    "X_test_minmax = min_max_scaler.transform(X_test)\n",
    "X_test_minmax "
   ]
  },
  {
   "cell_type": "code",
   "execution_count": null,
   "metadata": {},
   "outputs": [],
   "source": []
  },
  {
   "cell_type": "markdown",
   "metadata": {},
   "source": [
    "## RBF\n"
   ]
  },
  {
   "cell_type": "code",
   "execution_count": 27,
   "metadata": {},
   "outputs": [],
   "source": [
    "svr_rbf = SVR(kernel='rbf', C= 100, gamma = 0.1)"
   ]
  },
  {
   "cell_type": "code",
   "execution_count": 28,
   "metadata": {},
   "outputs": [
    {
     "data": {
      "text/plain": [
       "SVR(C=100, cache_size=200, coef0=0.0, degree=3, epsilon=0.1, gamma=0.1,\n",
       "    kernel='rbf', max_iter=-1, shrinking=True, tol=0.001, verbose=False)"
      ]
     },
     "execution_count": 28,
     "metadata": {},
     "output_type": "execute_result"
    }
   ],
   "source": [
    "svr_rbf.fit(X_train,y_train)"
   ]
  },
  {
   "cell_type": "code",
   "execution_count": 29,
   "metadata": {},
   "outputs": [
    {
     "data": {
      "text/plain": [
       "array([ 65.86995615, 146.08712254,   1.68867315,  34.06286747,\n",
       "       133.53729164, 215.37636477, 215.37636477, 215.37636477,\n",
       "       215.37636477, 219.88128501, 215.37636477, 216.75823472,\n",
       "       132.99990972, 215.37636477, 215.37636477,   1.17664562,\n",
       "        -1.73540485, 120.85904187, 215.37636477, 173.5633571 ,\n",
       "         1.10369895, 215.37636477,  93.76589166,  35.67270888,\n",
       "        16.30333359, 117.68424971, 215.42640992])"
      ]
     },
     "execution_count": 29,
     "metadata": {},
     "output_type": "execute_result"
    }
   ],
   "source": [
    "y_predict = svr_rbf.predict(X_test)\n",
    "y_predict"
   ]
  },
  {
   "cell_type": "code",
   "execution_count": 30,
   "metadata": {},
   "outputs": [
    {
     "data": {
      "text/plain": [
       "4837.736310828012"
      ]
     },
     "execution_count": 30,
     "metadata": {},
     "output_type": "execute_result"
    }
   ],
   "source": [
    "#evaluate model using mse\n",
    "mse = mean_squared_error(y_test,y_predict)\n",
    "#root mean square\n",
    "rmse= np.sqrt(mse)\n",
    "rmse"
   ]
  },
  {
   "cell_type": "markdown",
   "metadata": {},
   "source": [
    "# Linear"
   ]
  },
  {
   "cell_type": "code",
   "execution_count": 31,
   "metadata": {},
   "outputs": [],
   "source": [
    "svr_linear = SVR(kernel='linear', C= 100, gamma = 'auto')"
   ]
  },
  {
   "cell_type": "code",
   "execution_count": 32,
   "metadata": {},
   "outputs": [
    {
     "data": {
      "text/plain": [
       "SVR(C=100, cache_size=200, coef0=0.0, degree=3, epsilon=0.1, gamma='auto',\n",
       "    kernel='linear', max_iter=-1, shrinking=True, tol=0.001, verbose=False)"
      ]
     },
     "execution_count": 32,
     "metadata": {},
     "output_type": "execute_result"
    }
   ],
   "source": [
    "svr_linear.fit(X_train,y_train)"
   ]
  },
  {
   "cell_type": "code",
   "execution_count": 33,
   "metadata": {},
   "outputs": [
    {
     "data": {
      "text/plain": [
       "array([ 1.61619052e+01,  1.72907809e+02,  5.53195564e+00,  1.15810976e+01,\n",
       "        8.50999380e+00,  1.93868274e+04,  8.48505052e+02,  4.72039835e+03,\n",
       "        2.14303444e+04,  7.55371772e+02,  3.99426484e+03,  1.54577627e+02,\n",
       "        5.29939044e+01,  3.95548148e+03,  2.19432881e+03, -9.32275559e-02,\n",
       "       -2.74037259e+00,  8.17910067e+00,  6.40383701e+03,  3.10308494e+01,\n",
       "        2.88481061e+00,  1.39028109e+04,  7.84820754e+00,  7.18642128e+00,\n",
       "        6.85552815e+00,  1.25737770e+01,  1.77977261e+03])"
      ]
     },
     "execution_count": 33,
     "metadata": {},
     "output_type": "execute_result"
    }
   ],
   "source": [
    "y_predict = svr_linear.predict(X_test)\n",
    "y_predict"
   ]
  },
  {
   "cell_type": "code",
   "execution_count": 34,
   "metadata": {},
   "outputs": [
    {
     "data": {
      "text/plain": [
       "1807.1946529743277"
      ]
     },
     "execution_count": 34,
     "metadata": {},
     "output_type": "execute_result"
    }
   ],
   "source": [
    "#evaluate model using mse\n",
    "mse = mean_squared_error(y_test,y_predict)\n",
    "#root mean square\n",
    "rmse= np.sqrt(mse)\n",
    "rmse"
   ]
  },
  {
   "cell_type": "markdown",
   "metadata": {},
   "source": [
    "# Polynomial\n"
   ]
  },
  {
   "cell_type": "code",
   "execution_count": 35,
   "metadata": {},
   "outputs": [],
   "source": [
    "svr_poly = SVR(kernel='poly', C= 100, gamma = 'auto',degree = 2)"
   ]
  },
  {
   "cell_type": "code",
   "execution_count": 36,
   "metadata": {},
   "outputs": [
    {
     "data": {
      "text/plain": [
       "SVR(C=100, cache_size=200, coef0=0.0, degree=2, epsilon=0.1, gamma='auto',\n",
       "    kernel='poly', max_iter=-1, shrinking=True, tol=0.001, verbose=False)"
      ]
     },
     "execution_count": 36,
     "metadata": {},
     "output_type": "execute_result"
    }
   ],
   "source": [
    "svr_poly.fit(X_train,y_train)"
   ]
  },
  {
   "cell_type": "code",
   "execution_count": 37,
   "metadata": {},
   "outputs": [
    {
     "data": {
      "text/plain": [
       "array([ 4.45145815e+01,  1.13272874e+03, -1.28658617e+01, -1.39564601e+01,\n",
       "       -2.70555934e+01,  1.57154050e+05,  1.22350829e+03, -3.13868971e+04,\n",
       "        1.80634314e+05,  2.69493409e+03, -1.90439934e+04,  1.56837180e+02,\n",
       "        2.56394394e+01, -1.60991202e+04, -1.01808187e+04,  3.53586787e+00,\n",
       "        6.54795021e+00, -2.52907014e+01,  1.47839992e+04, -2.09522083e+02,\n",
       "       -3.45310442e+00, -1.11349720e+04, -2.35728732e+01, -2.02784081e+01,\n",
       "       -1.87017713e+01, -1.86051498e+01, -1.11599613e+04])"
      ]
     },
     "execution_count": 37,
     "metadata": {},
     "output_type": "execute_result"
    }
   ],
   "source": [
    "y_predict = svr_poly.predict(X_test)\n",
    "y_predict\n"
   ]
  },
  {
   "cell_type": "code",
   "execution_count": 38,
   "metadata": {},
   "outputs": [
    {
     "data": {
      "text/plain": [
       "43595.18784516646"
      ]
     },
     "execution_count": 38,
     "metadata": {},
     "output_type": "execute_result"
    }
   ],
   "source": [
    "#evaluate model using mse\n",
    "mse = mean_squared_error(y_test,y_predict)\n",
    "#root mean square\n",
    "rmse= np.sqrt(mse)\n",
    "rmse"
   ]
  },
  {
   "cell_type": "code",
   "execution_count": null,
   "metadata": {},
   "outputs": [],
   "source": []
  }
 ],
 "metadata": {
  "kernelspec": {
   "display_name": "Python 3",
   "language": "python",
   "name": "python3"
  },
  "language_info": {
   "codemirror_mode": {
    "name": "ipython",
    "version": 3
   },
   "file_extension": ".py",
   "mimetype": "text/x-python",
   "name": "python",
   "nbconvert_exporter": "python",
   "pygments_lexer": "ipython3",
   "version": "3.7.4"
  }
 },
 "nbformat": 4,
 "nbformat_minor": 2
}

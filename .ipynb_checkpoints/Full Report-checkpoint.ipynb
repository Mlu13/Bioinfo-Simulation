{
 "cells": [
  {
   "cell_type": "markdown",
   "metadata": {},
   "source": [
    "## Exploratory Data Analysis "
   ]
  },
  {
   "cell_type": "code",
   "execution_count": 37,
   "metadata": {},
   "outputs": [],
   "source": [
    "import numpy as np\n",
    "import pandas as pd     \n",
    "import matplotlib as mpl\n",
    "import matplotlib.pyplot as plt\n",
    "import seaborn as sns \n",
    "%matplotlib inline\n",
    "import pandas as pd\n",
    "import numpy as np\n",
    "from sklearn.svm import SVR\n",
    "from sklearn.metrics import r2_score,mean_squared_error,mean_absolute_error\n",
    "import seaborn as sns\n",
    "import matplotlib.pyplot as plt\n",
    "from sklearn.preprocessing import StandardScaler\n",
    "from sklearn.preprocessing import MinMaxScaler\n",
    "from sklearn.svm import SVC\n",
    "from scipy.optimize import curve_fit\n",
    "from sklearn.model_selection import train_test_split"
   ]
  },
  {
   "cell_type": "code",
   "execution_count": 8,
   "metadata": {},
   "outputs": [],
   "source": [
    "df = pd.read_csv(\"latimes-county-totals.csv\")"
   ]
  },
  {
   "cell_type": "code",
   "execution_count": null,
   "metadata": {},
   "outputs": [],
   "source": [
    "df.head()"
   ]
  },
  {
   "cell_type": "code",
   "execution_count": null,
   "metadata": {},
   "outputs": [],
   "source": [
    "df.describe()"
   ]
  },
  {
   "cell_type": "code",
   "execution_count": null,
   "metadata": {},
   "outputs": [],
   "source": [
    "df.info()"
   ]
  },
  {
   "cell_type": "code",
   "execution_count": 9,
   "metadata": {},
   "outputs": [],
   "source": [
    "df2 = df.copy(deep=True)\n",
    "df_la = df2[df2['county'] == 'Los Angeles']\n",
    "# df_la.head()"
   ]
  },
  {
   "cell_type": "code",
   "execution_count": 10,
   "metadata": {},
   "outputs": [],
   "source": [
    "df_la = df_la.drop(labels=['fips'], axis=1)\n",
    "# print (df_la.info())\n",
    "# df_la.describe()"
   ]
  },
  {
   "cell_type": "code",
   "execution_count": 11,
   "metadata": {},
   "outputs": [],
   "source": [
    "#replace the only two NAs in the first day of new_confirmed_cases and new_deaths to 0\n",
    "df_la = df_la.fillna(0)"
   ]
  },
  {
   "cell_type": "code",
   "execution_count": 12,
   "metadata": {},
   "outputs": [],
   "source": [
    "days = list(range(1,len(df_la)+1))\n",
    "df_la['culm_day'] = days"
   ]
  },
  {
   "cell_type": "code",
   "execution_count": null,
   "metadata": {},
   "outputs": [],
   "source": [
    "df_la.describe()"
   ]
  },
  {
   "cell_type": "code",
   "execution_count": null,
   "metadata": {},
   "outputs": [],
   "source": [
    "df_la.columns"
   ]
  },
  {
   "cell_type": "code",
   "execution_count": null,
   "metadata": {},
   "outputs": [],
   "source": [
    "df_la.corr(min_periods=1)"
   ]
  },
  {
   "cell_type": "markdown",
   "metadata": {},
   "source": [
    "Correlation between deaths and confirmed_cases is the highest 0.99. Although it makes sense how having a high number of confirmed cases means more people are infected therefore increasing the number of deaths, the correlation is too high and maybe due to having a small dataset, with 100 rows for Los Angeles only."
   ]
  },
  {
   "cell_type": "code",
   "execution_count": null,
   "metadata": {},
   "outputs": [],
   "source": [
    "#only Los Angeles\n",
    "plot_df_la = df_la.dropna()\n",
    "sns.pairplot(plot_df_la)"
   ]
  },
  {
   "cell_type": "code",
   "execution_count": null,
   "metadata": {},
   "outputs": [],
   "source": [
    "sns.distplot(df_la['confirmed_cases'], hist=False,rug=True, kde_kws={'shade':True})"
   ]
  },
  {
   "cell_type": "code",
   "execution_count": null,
   "metadata": {},
   "outputs": [],
   "source": [
    "sns.distplot(df_la['new_confirmed_cases'], hist=False,rug=True, kde_kws={'shade':True})"
   ]
  },
  {
   "cell_type": "code",
   "execution_count": null,
   "metadata": {},
   "outputs": [],
   "source": [
    "sns.distplot(df_la['deaths'], hist=False,rug=True, kde_kws={'shade':True})"
   ]
  },
  {
   "cell_type": "code",
   "execution_count": null,
   "metadata": {},
   "outputs": [],
   "source": [
    "sns.distplot(df_la['new_deaths'], hist=False)"
   ]
  },
  {
   "cell_type": "code",
   "execution_count": null,
   "metadata": {},
   "outputs": [],
   "source": [
    "sns.regplot(x=\"culm_day\", y=\"confirmed_cases\", data=df_la,fit_reg=False).set_title(\"COVID19 infections from the first confirmed case in LA\")"
   ]
  },
  {
   "cell_type": "code",
   "execution_count": null,
   "metadata": {},
   "outputs": [],
   "source": [
    "sns.regplot(x=\"culm_day\", y=\"new_confirmed_cases\", data=df_la, fit_reg=False).set_title(\"COVID19 new confirmed cases from the first confirmed case in LA\")"
   ]
  },
  {
   "cell_type": "markdown",
   "metadata": {},
   "source": [
    "As culmulative days increase, we see the numbers of new confirmed cases increase, dropped a bit and then went back up again, probably due to having enough testing kits."
   ]
  },
  {
   "cell_type": "code",
   "execution_count": null,
   "metadata": {},
   "outputs": [],
   "source": [
    "sns.regplot(x=\"culm_day\", y=\"deaths\", data=df_la,fit_reg=False).set_title(\"COVID19 deaths from the first confirmed case in LA\")"
   ]
  },
  {
   "cell_type": "markdown",
   "metadata": {},
   "source": [
    "The deaths continues to increase in LA. We do not see a turning point yet."
   ]
  },
  {
   "cell_type": "code",
   "execution_count": null,
   "metadata": {},
   "outputs": [],
   "source": [
    "sns.regplot(x=\"culm_day\", y=\"new_deaths\", data=df_la, fit_reg=False).set_title(\"COVID19 new deaths from the first confirmed case in LA\")"
   ]
  },
  {
   "cell_type": "code",
   "execution_count": null,
   "metadata": {},
   "outputs": [],
   "source": [
    "sns.regplot(x=\"confirmed_cases\", y=\"new_deaths\", data=df_la, fit_reg=False).set_title(\"COVID19 confirmed cases vs new deaths in LA\")"
   ]
  },
  {
   "cell_type": "code",
   "execution_count": null,
   "metadata": {},
   "outputs": [],
   "source": [
    "sns.regplot(x=\"confirmed_cases\", y=\"deaths\", data=df_la, fit_reg=False).set_title(\"COVID19 confirmed cases vs deaths in LA\")"
   ]
  },
  {
   "cell_type": "markdown",
   "metadata": {},
   "source": [
    "There is a positive correlation between the total numbers of confirmed cases and deaths. The relationship looks linear from this plot."
   ]
  },
  {
   "cell_type": "code",
   "execution_count": null,
   "metadata": {},
   "outputs": [],
   "source": [
    "sns.regplot(x=\"new_deaths\", y=\"deaths\", data=df_la, fit_reg=False).set_title(\"COVID19 new deaths vs deaths in LA\")"
   ]
  },
  {
   "cell_type": "markdown",
   "metadata": {},
   "source": [
    "The numbers of cumulative deaths seem to be positively correlated with the number of new_deaths, however, can't tell the shape of relationship between the two. Will need more data points in order to find out the true relationship."
   ]
  },
  {
   "cell_type": "code",
   "execution_count": null,
   "metadata": {},
   "outputs": [],
   "source": [
    "confirmed_total_date = df_la.groupby(['date']).agg({'confirmed_cases':['sum']})\n",
    "fatalities_total_date = df_la.groupby(['date']).agg({'deaths':['sum']})\n",
    "total_date = confirmed_total_date.join(fatalities_total_date)"
   ]
  },
  {
   "cell_type": "code",
   "execution_count": null,
   "metadata": {},
   "outputs": [],
   "source": [
    "#side by side plots\n",
    "fig, (ax1, ax2) = plt.subplots(1, 2, figsize=(17,7))\n",
    "total_date.plot(ax=ax1)\n",
    "ax1.set_title(\"LA total confirmed cases\", size=13)\n",
    "ax1.set_ylabel(\"Number of confirmed cases\", size=13)\n",
    "ax1.set_xlabel(\"Date\", size=13)\n",
    "fatalities_total_date.plot(ax=ax2, color='orange')\n",
    "ax2.set_title(\"LA total deaths\", size=13)\n",
    "ax2.set_ylabel(\"Number of deaths\", size=13)\n",
    "ax2.set_xlabel(\"Date\", size=13)"
   ]
  },
  {
   "cell_type": "code",
   "execution_count": null,
   "metadata": {},
   "outputs": [],
   "source": [
    "confirmed_total_date = df_la.groupby(['culm_day']).agg({'confirmed_cases':['sum']})\n",
    "fatalities_total_date = df_la.groupby(['culm_day']).agg({'deaths':['sum']})\n",
    "total_date = confirmed_total_date.join(fatalities_total_date)"
   ]
  },
  {
   "cell_type": "code",
   "execution_count": null,
   "metadata": {
    "scrolled": true
   },
   "outputs": [],
   "source": [
    "#same as plots above, just trying to use days to replace date for exploration\n",
    "fig, (ax1, ax2) = plt.subplots(1, 2, figsize=(17,7))\n",
    "total_date.plot(ax=ax1)\n",
    "ax1.set_title(\"LA total confirmed cases\", size=13)\n",
    "ax1.set_ylabel(\"Number of confirmed cases\", size=13)\n",
    "ax1.set_xlabel(\"days\", size=13)\n",
    "fatalities_total_date.plot(ax=ax2, color='orange')\n",
    "ax2.set_title(\"LA total deaths\", size=13)\n",
    "ax2.set_ylabel(\"Number of deaths\", size=13)\n",
    "ax2.set_xlabel(\"days\", size=13)"
   ]
  },
  {
   "cell_type": "markdown",
   "metadata": {},
   "source": [
    "The left plot shows the total confirmed cases in LA compared with the total deaths as of 5/4/2020. We do not see a turning point in LA yet. The right is a zoomed in of the total death in LA, sharing a similar shape as the number of confirmed cases."
   ]
  },
  {
   "cell_type": "code",
   "execution_count": null,
   "metadata": {},
   "outputs": [],
   "source": []
  },
  {
   "cell_type": "markdown",
   "metadata": {},
   "source": [
    "## Simulation "
   ]
  },
  {
   "cell_type": "code",
   "execution_count": null,
   "metadata": {},
   "outputs": [],
   "source": [
    "def SEIRD_model(N, E, I, r, r2, re, r2e, p, d, shelter_in_place, b, b2, y, a, days):\n",
    "    '''\n",
    "    N - Total population，N = I + S + R + E \n",
    "    S - Number of people that are Susceptibles\n",
    "    R - Number of people that are Recovered\n",
    "    E - Number of people that are Exposed\n",
    "    I - Number of people that are Infected\n",
    "    r - The number of people each infected contacts each day\n",
    "    re - New r after shelter in place\n",
    "    r2 - The number of people each asymptomatic contacts each day\n",
    "    r2e - New r2 after shelter in place takes effect\n",
    "    p - Protection rate of the masks. After shelter in place, b=b*p, b2 = b2*p\n",
    "    d - The proportion of infected who die each day to the total number of infected people\n",
    "    shelter_in_place - Days since shelter in place\n",
    "    b - Probability of transmission from infected to susceptible person\n",
    "    b2 Probability of transmission from asymptomatic to susceptible\n",
    "    y - The proportion of infected who are recovered each day to the total number of infected people\n",
    "    a - Probability of susceptible transforming to infected\n",
    "    days - Duration in days\n",
    "    '''\n",
    "    S = N - I - E\n",
    "    I_list = [I]\n",
    "    S_list = [S]\n",
    "    E_list = [E]\n",
    "    R_list = [0]\n",
    "    D_list = [0]\n",
    "    C_list = [0] # Confirmed list \n",
    "\n",
    "    for i in range(1, days):\n",
    "        if (i + 1) == shelter_in_place:\n",
    "            r, r2, b, b2,a = re, r2e, b * p, b2 * p, a*p\n",
    "        E_perday = r * b * I_list[i - 1] * S_list[i - 1]/N\n",
    "        E_perday_for_E = r2 * b2 * E_list[i - 1] * S_list[i - 1]/N\n",
    "        I_perday = a * E_list[i - 1]\n",
    "        R_perday = y * I_list[i - 1]\n",
    "        D_perday = d * I_list[i - 1]\n",
    "        C_list.append(C_list[i - 1] + I_perday)\n",
    "        I_list.append(I_list[i - 1] + I_perday - R_perday - D_perday)\n",
    "        S_list.append(S_list[i - 1] - E_perday - E_perday_for_E)\n",
    "        R_list.append(R_list[i - 1] + R_perday)\n",
    "        D_list.append(D_list[i - 1] + D_perday)\n",
    "        E_list.append(E_list[i - 1] + E_perday + E_perday_for_E - I_perday)\n",
    "    newlist = [I_list,S_list,E_list,R_list,D_list,C_list,days]\n",
    "    return newlist"
   ]
  },
  {
   "cell_type": "markdown",
   "metadata": {},
   "source": [
    "Start with smaller N"
   ]
  },
  {
   "cell_type": "code",
   "execution_count": null,
   "metadata": {},
   "outputs": [],
   "source": [
    "N = 10000\n",
    "E = 0\n",
    "I = 1\n",
    "r = 20\n",
    "r2 = 20\n",
    "re = 5\n",
    "r2e = 5\n",
    "p = 0.8\n",
    "d = 0.01\n",
    "shelter_in_place = 10\n",
    "b = 0.03\n",
    "b2 = 0.03\n",
    "y = 0.1\n",
    "a = 0.1\n",
    "days =140\n",
    "result = SEIRD_model(N, E, I, r, r2, re, r2e, p, d, shelter_in_place, b, b2, y, a, days)"
   ]
  },
  {
   "cell_type": "code",
   "execution_count": null,
   "metadata": {},
   "outputs": [],
   "source": [
    "# create a list of tagged_day for labeling x-axis\n",
    "day_cul = list(range(1,result[6]+1))"
   ]
  },
  {
   "cell_type": "code",
   "execution_count": null,
   "metadata": {},
   "outputs": [],
   "source": [
    "# full plot of the small set\n",
    "plt.clf()\n",
    "fit = plt.figure()\n",
    "# plot x = days, y = I_lisst\n",
    "plt.scatter(x=day_cul , y = result[0], marker = '.', color = 'blue', label = 'Infected')\n",
    "\n",
    "#plot x = days, y = S_list\n",
    "plt.scatter(x=day_cul , y = result[1], marker = '.', color = 'chartreuse',label = 'Susceptible' )\n",
    "\n",
    "#plot x = days, y = E_list\n",
    "plt.scatter(x=day_cul , y = result[2], marker = '.', color = 'orange',label = 'Exposed' )\n",
    "\n",
    "#plot x = days, y = R_list\n",
    "plt.scatter(x=day_cul , y = result[3], marker = '.', color = 'green',label = 'Recovered' )\n",
    "\n",
    "#plot x = days, y = D_list\n",
    "plt.scatter(x=day_cul , y = result[4], marker = '.', color = 'black',label = 'Deaths' )\n",
    "\n",
    "#plot x = days, y = C_list\n",
    "plt.scatter(x=day_cul , y = result[5], marker = '.', color = 'red',label = 'Confirmed' )\n",
    "\n",
    "plt.title(\"SEIRD Model\")\n",
    "plt.xlabel(\"Time in days\")\n",
    "plt.legend(loc=\"best\")\n",
    "plt.ylabel(\"Number of individuals\")"
   ]
  },
  {
   "cell_type": "code",
   "execution_count": null,
   "metadata": {},
   "outputs": [],
   "source": [
    "## Simlation of LA county\n",
    "#LA county population: 10.04 million (2019)\n",
    "#We will use the population from last year for this model\n",
    "#100 days model\n",
    "#LA had its first confirmed case on 2020-01-26\n",
    "#Started shelter in place around 2020-03-20\n",
    "#shelter in place: the day that shelter in place enforce: 54 days\n",
    "\n",
    "N = 10400000\n",
    "E = 0\n",
    "I = 1\n",
    "r = 8\n",
    "r2 = 8\n",
    "re = 1\n",
    "r2e = 1\n",
    "p = 0.8\n",
    "d = 0.01\n",
    "shelter_in_place = 54\n",
    "b = 0.03\n",
    "b2 = 0.03\n",
    "y = 0.15\n",
    "a = 0.1\n",
    "days =100\n",
    "result = SEIRD_model(N, E, I, r, r2, re, r2e, p, d, shelter_in_place, b, b2, y, a, days)"
   ]
  },
  {
   "cell_type": "code",
   "execution_count": null,
   "metadata": {},
   "outputs": [],
   "source": [
    "day_cul = list(range(1,result[6]+1))"
   ]
  },
  {
   "cell_type": "code",
   "execution_count": null,
   "metadata": {},
   "outputs": [],
   "source": [
    "# plot of predicted death of LA county using the simulation model\n",
    "plt.clf()\n",
    "fit = plt.figure()\n",
    "# plot x = days, y = I_lisst\n",
    "# plt.scatter(x=day_cul , y = result[0], marker = '.', color = 'blue', label = 'Infected')\n",
    "\n",
    "#plot x = days, y = S_list\n",
    "#plt.scatter(x=day_cul , y = result[1], marker = '.', color = 'chartreuse',label = 'Susceptible' )\n",
    "\n",
    "#plot x = days, y = E_list\n",
    "#plt.scatter(x=day_cul , y = result[2], marker = '.', color = 'orange',label = 'Exposed' )\n",
    "\n",
    "#plot x = days, y = R_list\n",
    "#plt.scatter(x=day_cul , y = result[3], marker = '.', color = 'green',label = 'Recovered' )\n",
    "\n",
    "#plot x = days, y = D_list\n",
    "plt.scatter(x=day_cul , y = result[4], marker = '.', color = 'black',label = 'Deaths' )\n",
    "\n",
    "#plot x = days, y = C_list\n",
    "#plt.scatter(x=day_cul , y = result[5], marker = '.', color = 'red',label = 'Confirmed' )\n",
    "\n",
    "plt.title(\"SEIRD Model\")\n",
    "plt.xlabel(\"Time in days\")\n",
    "plt.legend(loc=\"best\")\n",
    "plt.ylabel(\"Number of individuals\")"
   ]
  },
  {
   "cell_type": "code",
   "execution_count": null,
   "metadata": {},
   "outputs": [],
   "source": []
  },
  {
   "cell_type": "markdown",
   "metadata": {},
   "source": [
    "## Logistics Model"
   ]
  },
  {
   "cell_type": "code",
   "execution_count": 13,
   "metadata": {},
   "outputs": [
    {
     "data": {
      "text/html": [
       "<div>\n",
       "<style scoped>\n",
       "    .dataframe tbody tr th:only-of-type {\n",
       "        vertical-align: middle;\n",
       "    }\n",
       "\n",
       "    .dataframe tbody tr th {\n",
       "        vertical-align: top;\n",
       "    }\n",
       "\n",
       "    .dataframe thead th {\n",
       "        text-align: right;\n",
       "    }\n",
       "</style>\n",
       "<table border=\"1\" class=\"dataframe\">\n",
       "  <thead>\n",
       "    <tr style=\"text-align: right;\">\n",
       "      <th></th>\n",
       "      <th>date</th>\n",
       "      <th>county</th>\n",
       "      <th>confirmed_cases</th>\n",
       "      <th>deaths</th>\n",
       "      <th>new_confirmed_cases</th>\n",
       "      <th>new_deaths</th>\n",
       "      <th>culm_day</th>\n",
       "    </tr>\n",
       "  </thead>\n",
       "  <tbody>\n",
       "    <tr>\n",
       "      <td>867</td>\n",
       "      <td>1/26/20</td>\n",
       "      <td>Los Angeles</td>\n",
       "      <td>1</td>\n",
       "      <td>0</td>\n",
       "      <td>0.0</td>\n",
       "      <td>0.0</td>\n",
       "      <td>1</td>\n",
       "    </tr>\n",
       "    <tr>\n",
       "      <td>868</td>\n",
       "      <td>1/27/20</td>\n",
       "      <td>Los Angeles</td>\n",
       "      <td>1</td>\n",
       "      <td>0</td>\n",
       "      <td>0.0</td>\n",
       "      <td>0.0</td>\n",
       "      <td>2</td>\n",
       "    </tr>\n",
       "    <tr>\n",
       "      <td>869</td>\n",
       "      <td>1/28/20</td>\n",
       "      <td>Los Angeles</td>\n",
       "      <td>1</td>\n",
       "      <td>0</td>\n",
       "      <td>0.0</td>\n",
       "      <td>0.0</td>\n",
       "      <td>3</td>\n",
       "    </tr>\n",
       "    <tr>\n",
       "      <td>870</td>\n",
       "      <td>1/29/20</td>\n",
       "      <td>Los Angeles</td>\n",
       "      <td>1</td>\n",
       "      <td>0</td>\n",
       "      <td>0.0</td>\n",
       "      <td>0.0</td>\n",
       "      <td>4</td>\n",
       "    </tr>\n",
       "    <tr>\n",
       "      <td>871</td>\n",
       "      <td>1/30/20</td>\n",
       "      <td>Los Angeles</td>\n",
       "      <td>1</td>\n",
       "      <td>0</td>\n",
       "      <td>0.0</td>\n",
       "      <td>0.0</td>\n",
       "      <td>5</td>\n",
       "    </tr>\n",
       "    <tr>\n",
       "      <td>...</td>\n",
       "      <td>...</td>\n",
       "      <td>...</td>\n",
       "      <td>...</td>\n",
       "      <td>...</td>\n",
       "      <td>...</td>\n",
       "      <td>...</td>\n",
       "      <td>...</td>\n",
       "    </tr>\n",
       "    <tr>\n",
       "      <td>962</td>\n",
       "      <td>4/30/20</td>\n",
       "      <td>Los Angeles</td>\n",
       "      <td>23233</td>\n",
       "      <td>1119</td>\n",
       "      <td>711.0</td>\n",
       "      <td>54.0</td>\n",
       "      <td>96</td>\n",
       "    </tr>\n",
       "    <tr>\n",
       "      <td>963</td>\n",
       "      <td>5/1/20</td>\n",
       "      <td>Los Angeles</td>\n",
       "      <td>24262</td>\n",
       "      <td>1174</td>\n",
       "      <td>1029.0</td>\n",
       "      <td>55.0</td>\n",
       "      <td>97</td>\n",
       "    </tr>\n",
       "    <tr>\n",
       "      <td>964</td>\n",
       "      <td>5/2/20</td>\n",
       "      <td>Los Angeles</td>\n",
       "      <td>24936</td>\n",
       "      <td>1212</td>\n",
       "      <td>674.0</td>\n",
       "      <td>38.0</td>\n",
       "      <td>98</td>\n",
       "    </tr>\n",
       "    <tr>\n",
       "      <td>965</td>\n",
       "      <td>5/3/20</td>\n",
       "      <td>Los Angeles</td>\n",
       "      <td>25699</td>\n",
       "      <td>1231</td>\n",
       "      <td>763.0</td>\n",
       "      <td>19.0</td>\n",
       "      <td>99</td>\n",
       "    </tr>\n",
       "    <tr>\n",
       "      <td>966</td>\n",
       "      <td>5/4/20</td>\n",
       "      <td>Los Angeles</td>\n",
       "      <td>26238</td>\n",
       "      <td>1260</td>\n",
       "      <td>539.0</td>\n",
       "      <td>29.0</td>\n",
       "      <td>100</td>\n",
       "    </tr>\n",
       "  </tbody>\n",
       "</table>\n",
       "<p>100 rows × 7 columns</p>\n",
       "</div>"
      ],
      "text/plain": [
       "        date       county  confirmed_cases  deaths  new_confirmed_cases  \\\n",
       "867  1/26/20  Los Angeles                1       0                  0.0   \n",
       "868  1/27/20  Los Angeles                1       0                  0.0   \n",
       "869  1/28/20  Los Angeles                1       0                  0.0   \n",
       "870  1/29/20  Los Angeles                1       0                  0.0   \n",
       "871  1/30/20  Los Angeles                1       0                  0.0   \n",
       "..       ...          ...              ...     ...                  ...   \n",
       "962  4/30/20  Los Angeles            23233    1119                711.0   \n",
       "963   5/1/20  Los Angeles            24262    1174               1029.0   \n",
       "964   5/2/20  Los Angeles            24936    1212                674.0   \n",
       "965   5/3/20  Los Angeles            25699    1231                763.0   \n",
       "966   5/4/20  Los Angeles            26238    1260                539.0   \n",
       "\n",
       "     new_deaths  culm_day  \n",
       "867         0.0         1  \n",
       "868         0.0         2  \n",
       "869         0.0         3  \n",
       "870         0.0         4  \n",
       "871         0.0         5  \n",
       "..          ...       ...  \n",
       "962        54.0        96  \n",
       "963        55.0        97  \n",
       "964        38.0        98  \n",
       "965        19.0        99  \n",
       "966        29.0       100  \n",
       "\n",
       "[100 rows x 7 columns]"
      ]
     },
     "execution_count": 13,
     "metadata": {},
     "output_type": "execute_result"
    }
   ],
   "source": [
    "df_la"
   ]
  },
  {
   "cell_type": "code",
   "execution_count": 14,
   "metadata": {},
   "outputs": [],
   "source": [
    "X = df_la.drop(['deaths','date'], axis=1)\n",
    "y = df_la['deaths']"
   ]
  },
  {
   "cell_type": "code",
   "execution_count": 16,
   "metadata": {},
   "outputs": [],
   "source": [
    "#split dataset into train & test\n",
    "X_train, X_test, y_train, y_test = train_test_split(X, y, test_size=0.3, random_state=42)"
   ]
  },
  {
   "cell_type": "code",
   "execution_count": 17,
   "metadata": {},
   "outputs": [],
   "source": [
    "#defin logistic funtion \n",
    "def logistic_model(x,a,b,c):\n",
    "    return c/(1+np.exp(-(x-b)/a))"
   ]
  },
  {
   "cell_type": "markdown",
   "metadata": {},
   "source": [
    "Use curve_fit to autmatically find the best value for parameters a,b,c\n",
    "Optimal values for the parameters so that the sum of the squared residuals of f(xdata, *popt) - ydata is minimized"
   ]
  },
  {
   "cell_type": "code",
   "execution_count": 20,
   "metadata": {},
   "outputs": [
    {
     "data": {
      "text/plain": [
       "(array([   7.29784855,   88.47819366, 1510.98406416]),\n",
       " array([[1.46895217e-02, 2.62270400e-02, 2.20513537e+00],\n",
       "        [2.62270400e-02, 6.44350807e-02, 5.17654228e+00],\n",
       "        [2.20513537e+00, 5.17654228e+00, 4.38692825e+02]]))"
      ]
     },
     "execution_count": 20,
     "metadata": {},
     "output_type": "execute_result"
    }
   ],
   "source": [
    "# find the best parameter using training set\n",
    "fit = curve_fit(logistic_model,X_train['culm_day'],y_train)\n",
    "fit"
   ]
  },
  {
   "cell_type": "code",
   "execution_count": 21,
   "metadata": {},
   "outputs": [],
   "source": [
    "# use test set to evalute model\n",
    "test_result = logistic_model(X_test['culm_day'],7.29784855,88.47819366,1510.98406416)"
   ]
  },
  {
   "cell_type": "code",
   "execution_count": 22,
   "metadata": {},
   "outputs": [
    {
     "data": {
      "text/plain": [
       "134.2841134757969"
      ]
     },
     "execution_count": 22,
     "metadata": {},
     "output_type": "execute_result"
    }
   ],
   "source": [
    "# calculate MSE of test_result vs y_test\n",
    "mean_squared_error(y_test, test_result)"
   ]
  },
  {
   "cell_type": "code",
   "execution_count": 32,
   "metadata": {},
   "outputs": [
    {
     "data": {
      "text/plain": [
       "11.588102237890244"
      ]
     },
     "execution_count": 32,
     "metadata": {},
     "output_type": "execute_result"
    }
   ],
   "source": [
    "# calculate rmse\n",
    "rmse = np.sqrt(mean_squared_error(y_test, test_result))\n",
    "rmse"
   ]
  },
  {
   "cell_type": "code",
   "execution_count": 39,
   "metadata": {},
   "outputs": [
    {
     "data": {
      "text/plain": [
       "6.7242081038318755"
      ]
     },
     "execution_count": 39,
     "metadata": {},
     "output_type": "execute_result"
    }
   ],
   "source": [
    "#mae\n",
    "mean_absolute_error(y_test, test_result)"
   ]
  },
  {
   "cell_type": "code",
   "execution_count": 40,
   "metadata": {},
   "outputs": [],
   "source": [
    "# predict 100 days death using logistic model\n",
    "days = list(range(1,101))\n",
    "new_culm = pd.DataFrame(days)\n",
    "result_new_culm = logistic_model(new_culm,7.29784855,88.47819366,1510.98406416)"
   ]
  },
  {
   "cell_type": "code",
   "execution_count": 41,
   "metadata": {},
   "outputs": [
    {
     "data": {
      "text/plain": [
       "118.22134475408231"
      ]
     },
     "execution_count": 41,
     "metadata": {},
     "output_type": "execute_result"
    }
   ],
   "source": [
    "# calculate MSE \n",
    "\n",
    "mean_squared_error(y, result_new_culm)"
   ]
  },
  {
   "cell_type": "code",
   "execution_count": 44,
   "metadata": {},
   "outputs": [
    {
     "data": {
      "text/plain": [
       "10.872963936024174"
      ]
     },
     "execution_count": 44,
     "metadata": {},
     "output_type": "execute_result"
    }
   ],
   "source": [
    "# root mse\n",
    "rmse = np.sqrt(mean_squared_error(y, result_new_culm))\n",
    "rmse"
   ]
  },
  {
   "cell_type": "code",
   "execution_count": 45,
   "metadata": {},
   "outputs": [
    {
     "data": {
      "text/plain": [
       "7.11572782134099"
      ]
     },
     "execution_count": 45,
     "metadata": {},
     "output_type": "execute_result"
    }
   ],
   "source": [
    "# mae\n",
    "mean_absolute_error(y, result_new_culm)"
   ]
  },
  {
   "cell_type": "code",
   "execution_count": 46,
   "metadata": {},
   "outputs": [
    {
     "data": {
      "text/plain": [
       "<matplotlib.collections.PathCollection at 0x1a201c3950>"
      ]
     },
     "execution_count": 46,
     "metadata": {},
     "output_type": "execute_result"
    },
    {
     "data": {
      "text/plain": [
       "<Figure size 432x288 with 0 Axes>"
      ]
     },
     "metadata": {},
     "output_type": "display_data"
    },
    {
     "data": {
      "image/png": "[encoded data removed]",
      "text/plain": [
       "<Figure size 432x288 with 1 Axes>"
      ]
     },
     "metadata": {
      "needs_background": "light"
     },
     "output_type": "display_data"
    }
   ],
   "source": [
    "plt.clf()\n",
    "fit = plt.figure()\n",
    "# plot x = day, y = actual death\n",
    "plt.scatter(x=df_la['culm_day'] , y = y, marker = '.' )\n",
    "\n",
    "#plot for the extra 100 days\n",
    "plt.scatter(x=days, y = result_new_culm, color = 'red' )"
   ]
  },
  {
   "cell_type": "code",
   "execution_count": null,
   "metadata": {},
   "outputs": [],
   "source": []
  }
 ],
 "metadata": {
  "kernelspec": {
   "display_name": "Python 3",
   "language": "python",
   "name": "python3"
  },
  "language_info": {
   "codemirror_mode": {
    "name": "ipython",
    "version": 3
   },
   "file_extension": ".py",
   "mimetype": "text/x-python",
   "name": "python",
   "nbconvert_exporter": "python",
   "pygments_lexer": "ipython3",
   "version": "3.7.4"
  }
 },
 "nbformat": 4,
 "nbformat_minor": 2
}
